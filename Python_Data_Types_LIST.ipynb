{
  "cells": [
    {
      "cell_type": "markdown",
      "metadata": {
        "id": "view-in-github",
        "colab_type": "text"
      },
      "source": [
        "<a href=\"https://colab.research.google.com/github/omvishal1/python-practice/blob/main/Python_Data_Types_LIST.ipynb\" target=\"_parent\"><img src=\"https://colab.research.google.com/assets/colab-badge.svg\" alt=\"Open In Colab\"/></a>"
      ]
    },
    {
      "cell_type": "markdown",
      "metadata": {
        "id": "A_VWCEn0WpWR"
      },
      "source": [
        "# Python Data Types"
      ]
    },
    {
      "cell_type": "raw",
      "metadata": {
        "id": "uS7XgmUQWpWc"
      },
      "source": [
        "Data types are the classification or categorization of data items. \n",
        "\n",
        "It represents the kind of value that tells what operations can be performed on a particular data. \n",
        "\n",
        "Since everything is an object in Python programming, data types are actually classes and variables are instance (object) of these classes."
      ]
    },
    {
      "cell_type": "raw",
      "metadata": {
        "id": "ROekdCP4WpWe"
      },
      "source": [
        "Variables can hold values, and every value has a data-type. \n",
        "\n",
        "Python is a dynamically typed language; hence we do not need to define the type of the variable while declaring it. \n",
        "\n",
        "The interpreter implicitly binds the value with its type.\n",
        "\n",
        "a = 5  \n",
        "\n",
        "The variable a holds integer value five and we did not define its type. Python interpreter will automatically interpret variables a as an integer type.\n",
        "\n",
        "Python enables us to check the type of the variable used in the program. Python provides us the type() function, which returns the type of the variable passed.\n",
        "\n"
      ]
    },
    {
      "cell_type": "raw",
      "metadata": {
        "id": "8YCb28fhWpWf"
      },
      "source": [
        "Consider the following example to define the values of different data types and checking its type."
      ]
    },
    {
      "cell_type": "code",
      "execution_count": null,
      "metadata": {
        "id": "8Bb1llJCWpWg",
        "outputId": "49c59a72-7214-4bcd-9567-26703d721264"
      },
      "outputs": [
        {
          "name": "stdout",
          "output_type": "stream",
          "text": [
            "<class 'int'>\n",
            "<class 'str'>\n",
            "<class 'float'>\n"
          ]
        }
      ],
      "source": [
        "\n",
        "a=10  \n",
        "b=\"Hi Python\"  \n",
        "c = 10.5  \n",
        "print(type(a))  \n",
        "print(type(b))  \n",
        "print(type(c)) "
      ]
    },
    {
      "cell_type": "markdown",
      "metadata": {
        "id": "LLIWut9wWpWk"
      },
      "source": [
        "# Standard data types"
      ]
    },
    {
      "cell_type": "raw",
      "metadata": {
        "id": "C4HMSEJQWpWl"
      },
      "source": [
        "A variable can hold different types of values. For example, a person's name must be stored as a string whereas its id must be stored as an integer.\n",
        "\n",
        "Python provides various standard data types that define the storage method on each of them. The data types defined in Python are given below.\n",
        "\n",
        "1. Numbers (int/Flaot/Complex)\n",
        "\n",
        "2. Sequence Type (String/List/Tuple)\n",
        "\n",
        "3. Boolean\n",
        "\n",
        "4. Set\n",
        "\n",
        "5. Dictionary\n"
      ]
    },
    {
      "cell_type": "markdown",
      "metadata": {
        "id": "MwgBJlmhWpWn"
      },
      "source": [
        "![](1.png)\n"
      ]
    },
    {
      "cell_type": "markdown",
      "metadata": {
        "id": "k5YkRhlNWpWo"
      },
      "source": [
        "# List"
      ]
    },
    {
      "cell_type": "raw",
      "metadata": {
        "id": "4_naIumbWpWq"
      },
      "source": [
        "1. Lists are the most versatile of Python's compound data types. \n",
        "\n",
        "2. A list contains items separated by commas and enclosed within square brackets ([]).\n",
        "\n",
        "3. To some extent, lists are similar to arrays in C. \n",
        "\n",
        "4. One difference between them is that all the items belonging to a list can be of different data type\n",
        "\n",
        "5. Lists are just like dynamically sized arrays, declared in other languages (vector in C++ and ArrayList in Java). \n",
        "\n",
        "6. Lists need not be homogeneous always which makes it the most powerful tool in Python. A single list may contain DataTypes like Integers, Strings, as well as Objects.\n",
        "\n",
        "\n",
        "7. Lists are mutable, and hence, they can be altered even after their creation.\n",
        "\n",
        "8. List in Python are ordered and have a definite count. \n",
        "\n",
        "9. The elements in a list are indexed according to a definite sequence and the indexing of a list is done with 0 being the first index.\n",
        "\n",
        "\n",
        "10. Each element in the list has its definite place in the list, which allows duplicating of elements in the list, with each element having its own distinct place and credibility."
      ]
    },
    {
      "cell_type": "markdown",
      "metadata": {
        "id": "kN6krtThWpWs"
      },
      "source": [
        "# Note- Lists are a useful tool for preserving a sequence of data and further iterating over it."
      ]
    },
    {
      "cell_type": "markdown",
      "metadata": {
        "id": "zVZnRhkmWpWt"
      },
      "source": [
        "# Creating a List"
      ]
    },
    {
      "cell_type": "raw",
      "metadata": {
        "id": "LypZcpsvWpWu"
      },
      "source": [
        "Lists in Python can be created by just placing the sequence inside the square brackets[]. Unlike Sets, a list doesn’t need a built-in function for the creation of a list. \n",
        "\n",
        "Note – Unlike Sets, the list may contain mutable elements.  "
      ]
    },
    {
      "cell_type": "code",
      "execution_count": null,
      "metadata": {
        "id": "h0D8B9POWpWv",
        "outputId": "956b708b-7bda-4e26-9f88-74cdb7c71494"
      },
      "outputs": [
        {
          "name": "stdout",
          "output_type": "stream",
          "text": [
            "Blank List: \n",
            "[]\n"
          ]
        }
      ],
      "source": [
        "\n",
        "# Python program to demonstrate\n",
        "# Creation of List\n",
        "\n",
        "# Creating a List\n",
        "List = []\n",
        "print(\"Blank List: \")\n",
        "print(List)\n",
        "\n",
        "\n",
        "\n"
      ]
    },
    {
      "cell_type": "code",
      "execution_count": null,
      "metadata": {
        "id": "Gd3qCl5wWpWw",
        "outputId": "c49010e8-6d80-45c9-fa4d-86afa09fc6ca"
      },
      "outputs": [
        {
          "name": "stdout",
          "output_type": "stream",
          "text": [
            "\n",
            "List of numbers: \n",
            "[10, 20, 14]\n"
          ]
        }
      ],
      "source": [
        "# Creating a List of numbers\n",
        "List = [10, 20, 14]\n",
        "print(\"\\nList of numbers: \")\n",
        "print(List)\n",
        "\n"
      ]
    },
    {
      "cell_type": "code",
      "execution_count": null,
      "metadata": {
        "id": "_DuYemU0WpWx",
        "outputId": "87ebc691-b538-4e3c-9b28-e8664776f898"
      },
      "outputs": [
        {
          "name": "stdout",
          "output_type": "stream",
          "text": [
            "\n",
            "List Items: \n",
            "India\n",
            "Great\n"
          ]
        }
      ],
      "source": [
        "# Creating a List of strings and accessing\n",
        "# using index\n",
        "List = [\"India\", \"is\", \"Great\"]\n",
        "print(\"\\nList Items: \")\n",
        "print(List[0])\n",
        "print(List[2])\n",
        "\n"
      ]
    },
    {
      "cell_type": "code",
      "execution_count": null,
      "metadata": {
        "id": "n-50DX7cWpWy",
        "outputId": "7e7b4e9c-32a7-4514-9340-498f38130daa"
      },
      "outputs": [
        {
          "data": {
            "text/plain": [
              "[[1, 2, 3, 4], ['a', 'b', 'c']]"
            ]
          },
          "execution_count": 10,
          "metadata": {},
          "output_type": "execute_result"
        }
      ],
      "source": [
        "a=[[1,2,3,4],['a','b','c']]\n",
        "a"
      ]
    },
    {
      "cell_type": "code",
      "execution_count": null,
      "metadata": {
        "id": "d-D28I5_WpWz",
        "outputId": "9848055a-ea89-464e-e050-734f061be90a"
      },
      "outputs": [
        {
          "name": "stdout",
          "output_type": "stream",
          "text": [
            "\n",
            "Multi-Dimensional List: \n",
            "[['India', 'is'], ['Great']]\n"
          ]
        }
      ],
      "source": [
        "# Creating a Multi-Dimensional List\n",
        "# (By Nesting a list inside a List)\n",
        "List = [['India', 'is'] , ['Great']]\n",
        "print(\"\\nMulti-Dimensional List: \")\n",
        "print(List)"
      ]
    },
    {
      "cell_type": "markdown",
      "metadata": {
        "id": "OSrCSwBgWpW0"
      },
      "source": [
        "# Creating a list with multiple distinct or duplicate elements\n"
      ]
    },
    {
      "cell_type": "raw",
      "metadata": {
        "id": "Yx46Gbp4WpW0"
      },
      "source": [
        "A list may contain duplicate values with their distinct positions and hence, multiple distinct or duplicate values can be passed as a sequence at the time of list creation."
      ]
    },
    {
      "cell_type": "code",
      "execution_count": null,
      "metadata": {
        "id": "3PCNy2tlWpW1",
        "outputId": "8f2d51c0-02d2-4542-d9b6-02b06411434f"
      },
      "outputs": [
        {
          "name": "stdout",
          "output_type": "stream",
          "text": [
            "\n",
            "List with the use of Numbers: \n",
            "[1, 2, 4, 4, 3, 3, 3, 6, 5]\n"
          ]
        }
      ],
      "source": [
        "# Creating a List with\n",
        "# the use of Numbers\n",
        "# (Having duplicate values)\n",
        "List = [1, 2, 4, 4, 3, 3, 3, 6, 5]\n",
        "print(\"\\nList with the use of Numbers: \")\n",
        "print(List)\n",
        "\n",
        "\n"
      ]
    },
    {
      "cell_type": "code",
      "execution_count": null,
      "metadata": {
        "id": "SNYH_1vQWpW2",
        "outputId": "080db62c-e4a4-4cc3-aa9e-51b3cd9a0bab"
      },
      "outputs": [
        {
          "name": "stdout",
          "output_type": "stream",
          "text": [
            "\n",
            "List with the use of Mixed Values: \n",
            "[1, 2, 'India', 4, 'For', 6, 'USA']\n"
          ]
        }
      ],
      "source": [
        "# Creating a List with\n",
        "# mixed type of values\n",
        "# (Having numbers and strings)\n",
        "List = [1, 2, 'India', 4, 'For', 6, 'USA']\n",
        "print(\"\\nList with the use of Mixed Values: \")\n",
        "print(List)"
      ]
    },
    {
      "cell_type": "markdown",
      "metadata": {
        "id": "JvI_a32FWpW2"
      },
      "source": [
        "# Knowing the size of List\n"
      ]
    },
    {
      "cell_type": "code",
      "execution_count": null,
      "metadata": {
        "id": "GgY8OF81WpW3",
        "outputId": "622f96f6-97f6-4610-a3ce-563fde65c13c"
      },
      "outputs": [
        {
          "name": "stdout",
          "output_type": "stream",
          "text": [
            "0\n",
            "3\n"
          ]
        }
      ],
      "source": [
        "# Creating a List\n",
        "List1 = []\n",
        "print(len(List1))\n",
        "\n",
        "# Creating a List of numbers\n",
        "List2 = [10, 20, 14]\n",
        "print(len(List2))\n"
      ]
    },
    {
      "cell_type": "markdown",
      "metadata": {
        "id": "f65Wc4QaWpW4"
      },
      "source": [
        "# Accessing elements from the List\n"
      ]
    },
    {
      "cell_type": "raw",
      "metadata": {
        "id": "IuMdMcdjWpW4"
      },
      "source": [
        "1. In order to access the list items refer to the index number. \n",
        "\n",
        "2. Use the index operator [ ] to access an item in a list. \n",
        "\n",
        "3. The index must be an integer. \n",
        "\n",
        "4. Nested lists are accessed using nested indexing. "
      ]
    },
    {
      "cell_type": "markdown",
      "metadata": {
        "id": "UCKkdYpcWpW5"
      },
      "source": [
        "# <h3 id=\"index\">Indexing</h3>"
      ]
    },
    {
      "cell_type": "raw",
      "metadata": {
        "id": "3pNwLqAHWpW5"
      },
      "source": [
        "1. We are going to take a look at lists in Python.\n",
        "\n",
        "2. A list is a sequenced collection of different objects such as integers, strings, and other lists as well. \n",
        "\n",
        "3. The address of each element within a list is called an <b>index</b>.\n",
        "\n",
        "4. An index is used to access and refer to items within a list."
      ]
    },
    {
      "cell_type": "markdown",
      "metadata": {
        "id": "AUQIO5owWpW6"
      },
      "source": [
        "<img src=\"https://s3-api.us-geo.objectstorage.softlayer.net/cf-courses-data/CognitiveClass/PY0101EN/Chapter%202/Images/ListsIndex.png\" width=\"1000\" />"
      ]
    },
    {
      "cell_type": "code",
      "execution_count": null,
      "metadata": {
        "id": "pkh1T_WbWpW7",
        "outputId": "4066f99f-fa35-4114-c622-9957a661caf2"
      },
      "outputs": [
        {
          "data": {
            "text/plain": [
              "['Michael Jackson', 10.1, 1982]"
            ]
          },
          "execution_count": 15,
          "metadata": {},
          "output_type": "execute_result"
        }
      ],
      "source": [
        "\n",
        "L=[\"Michael Jackson\", 10.1,1982]\n",
        "L"
      ]
    },
    {
      "cell_type": "code",
      "execution_count": null,
      "metadata": {
        "id": "jZlqdg3jWpW8",
        "outputId": "4a372ba5-d0db-46c5-fa67-738a5d7df176"
      },
      "outputs": [
        {
          "data": {
            "text/plain": [
              "'Michael Jackson'"
            ]
          },
          "execution_count": 16,
          "metadata": {},
          "output_type": "execute_result"
        }
      ],
      "source": [
        "L[0]"
      ]
    },
    {
      "cell_type": "code",
      "execution_count": null,
      "metadata": {
        "id": "ckq1rDYpWpW9",
        "outputId": "073e2e0e-d02c-47ee-d5f0-3d42f8390de8"
      },
      "outputs": [
        {
          "data": {
            "text/plain": [
              "10.1"
            ]
          },
          "execution_count": 17,
          "metadata": {},
          "output_type": "execute_result"
        }
      ],
      "source": [
        "L[1]"
      ]
    },
    {
      "cell_type": "code",
      "execution_count": null,
      "metadata": {
        "id": "4tDIY089WpW-",
        "outputId": "cd3a068e-c887-4102-e76f-10788acb5ec1"
      },
      "outputs": [
        {
          "data": {
            "text/plain": [
              "1982"
            ]
          },
          "execution_count": 18,
          "metadata": {},
          "output_type": "execute_result"
        }
      ],
      "source": [
        "L[2]"
      ]
    },
    {
      "cell_type": "markdown",
      "metadata": {
        "id": "UEcfRJ0mWpW-"
      },
      "source": [
        "IndexError: list index out of range"
      ]
    },
    {
      "cell_type": "code",
      "execution_count": null,
      "metadata": {
        "id": "pdoomkCjWpW_",
        "outputId": "ad28cc5f-b525-4088-c9dd-2ef2a68cfd7a"
      },
      "outputs": [
        {
          "ename": "IndexError",
          "evalue": "list index out of range",
          "output_type": "error",
          "traceback": [
            "\u001b[1;31m---------------------------------------------------------------------------\u001b[0m",
            "\u001b[1;31mIndexError\u001b[0m                                Traceback (most recent call last)",
            "\u001b[1;32m<ipython-input-19-28c5e42e8527>\u001b[0m in \u001b[0;36m<module>\u001b[1;34m\u001b[0m\n\u001b[1;32m----> 1\u001b[1;33m \u001b[0mL\u001b[0m\u001b[1;33m[\u001b[0m\u001b[1;36m3\u001b[0m\u001b[1;33m]\u001b[0m\u001b[1;33m\u001b[0m\u001b[1;33m\u001b[0m\u001b[0m\n\u001b[0m",
            "\u001b[1;31mIndexError\u001b[0m: list index out of range"
          ]
        }
      ],
      "source": [
        "L[3]"
      ]
    },
    {
      "cell_type": "code",
      "execution_count": null,
      "metadata": {
        "id": "nGfkSIr8WpW_",
        "outputId": "901bd734-b40c-4380-86e3-22557bcd8af1"
      },
      "outputs": [
        {
          "name": "stdout",
          "output_type": "stream",
          "text": [
            "the same element using negative and positive indexing:\n",
            " Postive: Michael Jackson \n",
            " Negative: Michael Jackson\n",
            "the same element using negative and positive indexing:\n",
            " Postive: 10.1 \n",
            " Negative: 10.1\n",
            "the same element using negative and positive indexing:\n",
            " Postive: 1982 \n",
            " Negative: 1982\n"
          ]
        }
      ],
      "source": [
        "# Print the elements on each index\n",
        "\n",
        "print('the same element using negative and positive indexing:\\n Postive:',L[0],\n",
        "'\\n Negative:' , L[-3]  )\n",
        "\n",
        "print('the same element using negative and positive indexing:\\n Postive:',L[1],\n",
        "'\\n Negative:' , L[-2]  )\n",
        "\n",
        "print('the same element using negative and positive indexing:\\n Postive:',L[2],\n",
        "'\\n Negative:' , L[-1]  )"
      ]
    },
    {
      "cell_type": "code",
      "execution_count": null,
      "metadata": {
        "id": "RNp6tueXWpXA",
        "outputId": "75032484-7979-4402-cd86-ccf6ca3b9911"
      },
      "outputs": [
        {
          "name": "stdout",
          "output_type": "stream",
          "text": [
            "Accessing a element from the list\n",
            "India\n",
            "Great\n",
            "Accessing a element from a Multi-Dimensional list\n",
            "is\n",
            "Great\n"
          ]
        }
      ],
      "source": [
        "# Python program to demonstrate\n",
        "# accessing of element from list\n",
        "\n",
        "# Creating a List with\n",
        "# the use of multiple values\n",
        "List = [\"India\", \"is\", \"Great\"]\n",
        "\n",
        "# accessing a element from the\n",
        "# list using index number\n",
        "print(\"Accessing a element from the list\")\n",
        "print(List[0])\n",
        "print(List[2])\n",
        "\n",
        "# Creating a Multi-Dimensional List\n",
        "# (By Nesting a list inside a List)\n",
        "List = [['India', 'is'] , ['Great']]\n",
        "\n",
        "# accessing an element from the\n",
        "# Multi-Dimensional List using\n",
        "# index number\n",
        "print(\"Accessing a element from a Multi-Dimensional list\")\n",
        "print(List[0][1])\n",
        "print(List[1][0])\n"
      ]
    },
    {
      "cell_type": "markdown",
      "metadata": {
        "id": "whtylKtYWpXB"
      },
      "source": [
        "# Negative indexing"
      ]
    },
    {
      "cell_type": "raw",
      "metadata": {
        "id": "ZaKS1EudWpXC"
      },
      "source": [
        "\n",
        "In Python, negative sequence indexes represent positions from the end of the array. \n",
        "\n",
        "Instead of having to compute the offset as in List[len(List)-3], it is enough to just write List[-3].\n",
        "\n",
        "Negative indexing means beginning from the end, -1 refers to the last item, -2 refers to the second-last item, etc."
      ]
    },
    {
      "cell_type": "markdown",
      "metadata": {
        "id": "LBCWcRywWpXC"
      },
      "source": [
        "<img src=\"https://s3-api.us-geo.objectstorage.softlayer.net/cf-courses-data/CognitiveClass/PY0101EN/Chapter%202/Images/ListsNeg.png\" width=\"1000\" />"
      ]
    },
    {
      "cell_type": "code",
      "execution_count": null,
      "metadata": {
        "id": "krHJYQCVWpXD",
        "outputId": "cdf4f000-23a7-44ec-d8de-dac258622e44"
      },
      "outputs": [
        {
          "data": {
            "text/plain": [
              "['Michael Jackson', 10.1, 1982]"
            ]
          },
          "execution_count": 21,
          "metadata": {},
          "output_type": "execute_result"
        }
      ],
      "source": [
        "\n",
        "L=[\"Michael Jackson\", 10.1,1982]\n",
        "L"
      ]
    },
    {
      "cell_type": "code",
      "execution_count": null,
      "metadata": {
        "id": "RHsMTQubWpXD",
        "outputId": "6379b434-795b-43fb-8ea1-1fccdf372ab4"
      },
      "outputs": [
        {
          "data": {
            "text/plain": [
              "1982"
            ]
          },
          "execution_count": 22,
          "metadata": {},
          "output_type": "execute_result"
        }
      ],
      "source": [
        "L[-1]"
      ]
    },
    {
      "cell_type": "code",
      "execution_count": null,
      "metadata": {
        "id": "_ZQR8No1WpXD",
        "outputId": "ffff0d2e-4c15-4f36-cfd7-2e5de88f5749"
      },
      "outputs": [
        {
          "data": {
            "text/plain": [
              "10.1"
            ]
          },
          "execution_count": 23,
          "metadata": {},
          "output_type": "execute_result"
        }
      ],
      "source": [
        "L[-2]"
      ]
    },
    {
      "cell_type": "code",
      "execution_count": null,
      "metadata": {
        "id": "6dZ_7BqxWpXE",
        "outputId": "51c0942c-db87-49eb-8d29-af1cdbb99f51"
      },
      "outputs": [
        {
          "data": {
            "text/plain": [
              "'Michael Jackson'"
            ]
          },
          "execution_count": 24,
          "metadata": {},
          "output_type": "execute_result"
        }
      ],
      "source": [
        "L[-3]"
      ]
    },
    {
      "cell_type": "markdown",
      "metadata": {
        "id": "iqE4ZcyBWpXE"
      },
      "source": [
        "# Example 1"
      ]
    },
    {
      "cell_type": "code",
      "execution_count": null,
      "metadata": {
        "id": "I-ZeXChjWpXF",
        "outputId": "b6c8b0cc-2be4-45dd-b63b-e0286b4bab71"
      },
      "outputs": [
        {
          "name": "stdout",
          "output_type": "stream",
          "text": [
            "Accessing element using negative indexing\n",
            "India\n",
            "For\n"
          ]
        }
      ],
      "source": [
        "List = [1, 2, 'India', 4, 'For', 6, 'India']\n",
        "\n",
        "# accessing an element using\n",
        "# negative indexing\n",
        "print(\"Accessing element using negative indexing\")\n",
        "\n",
        "# print the last element of list\n",
        "print(List[-1])\n",
        "\n",
        "# print the third last element of list\n",
        "print(List[-3])\n"
      ]
    },
    {
      "cell_type": "code",
      "execution_count": null,
      "metadata": {
        "id": "Fles0x_JWpXF"
      },
      "outputs": [],
      "source": [
        ""
      ]
    },
    {
      "cell_type": "raw",
      "metadata": {
        "id": "Y8OCubPoWpXG"
      },
      "source": [
        "The values stored in a list can be accessed using the slice operator ([ ] and [:]) with indexes starting at 0 in the beginning of the list and working their way to end -1. The plus (+) sign is the list concatenation operator, and the asterisk (*) is the repetition operator. For example −"
      ]
    },
    {
      "cell_type": "code",
      "execution_count": null,
      "metadata": {
        "id": "AwdE_maFWpXH",
        "outputId": "e4d0307f-31c3-4110-c478-672414a5a53c"
      },
      "outputs": [
        {
          "name": "stdout",
          "output_type": "stream",
          "text": [
            "['abcd', 786, 2.23, 'john', 70.2]\n",
            "abcd\n",
            "[786, 2.23]\n",
            "[2.23, 'john', 70.2]\n",
            "[123, 'john', 123, 'john']\n",
            "['abcd', 786, 2.23, 'john', 70.2, 123, 'john']\n"
          ]
        }
      ],
      "source": [
        "#!/usr/bin/python\n",
        "list = [ 'abcd', 786 , 2.23, 'john', 70.2 ]\n",
        "tinylist = [123, 'john']\n",
        "print (list) # Prints complete list\n",
        "print (list[0]) # Prints first element of the list\n",
        "print (list[1:3]) # Prints elements starting from 2nd till 3rd\n",
        "print (list[2:]) # Prints elements starting from 3rd element\n",
        "print (tinylist * 2 )# Prints list two times\n",
        "print (list + tinylist) # Prints concatenated lists"
      ]
    },
    {
      "cell_type": "markdown",
      "metadata": {
        "id": "6sUzPiEpWpXH"
      },
      "source": [
        "# Slicing"
      ]
    },
    {
      "cell_type": "raw",
      "metadata": {
        "id": "p8eM-jE3WpXI"
      },
      "source": [
        "1. In Python List, there are multiple ways to print the whole List with all the elements, but to print a specific range of elements from the list, we use the Slice operation. \n",
        "\n",
        "2. Slice operation is performed on Lists with the use of a colon(:). \n",
        "\n",
        "3. To print elements from beginning to a range use [: Index], to print elements from end-use [:-Index], to print elements from specific Index till the end use [Index:], to print elements within a range, use [Start Index:End Index] and to print the whole List with the use of slicing operation, use [:]. Further, to print the whole List in reverse order, use [::-1].\n",
        "\n",
        "\n",
        "Note – To print elements of List from rear-end, use Negative Indexes. "
      ]
    },
    {
      "cell_type": "markdown",
      "metadata": {
        "id": "L0b2HsBnWpXI"
      },
      "source": [
        "<img src=\"https://s3-api.us-geo.objectstorage.softlayer.net/cf-courses-data/CognitiveClass/PY0101EN/Chapter%202/Images/ListsSlice.png\" width=\"1000\">"
      ]
    },
    {
      "cell_type": "code",
      "execution_count": null,
      "metadata": {
        "id": "6J637MvUWpXJ",
        "outputId": "cd15153e-19d1-440a-8aa2-d3e28dbc63ec"
      },
      "outputs": [
        {
          "data": {
            "text/plain": [
              "['Michael Jackson', 10.1, 1982, 'MJ', 1]"
            ]
          },
          "execution_count": 26,
          "metadata": {},
          "output_type": "execute_result"
        }
      ],
      "source": [
        "\n",
        "L=[\"Michael Jackson\", 10.1,1982,\"MJ\",1]\n",
        "L"
      ]
    },
    {
      "cell_type": "code",
      "execution_count": null,
      "metadata": {
        "id": "jccIgShoWpXJ",
        "outputId": "6320e72c-7358-42d9-dfc7-f3fc1e3f2703"
      },
      "outputs": [
        {
          "data": {
            "text/plain": [
              "['Michael Jackson', 10.1, 1982, 'MJ', 1]"
            ]
          },
          "execution_count": 30,
          "metadata": {},
          "output_type": "execute_result"
        }
      ],
      "source": [
        "L[:]"
      ]
    },
    {
      "cell_type": "code",
      "execution_count": null,
      "metadata": {
        "id": "cDH7ysPEWpXK",
        "outputId": "f179a774-ba61-42ba-e437-7ea469694f80"
      },
      "outputs": [
        {
          "data": {
            "text/plain": [
              "['Michael Jackson', 10.1, 1982, 'MJ', 1]"
            ]
          },
          "execution_count": 29,
          "metadata": {},
          "output_type": "execute_result"
        }
      ],
      "source": [
        "L[:5]"
      ]
    },
    {
      "cell_type": "code",
      "execution_count": null,
      "metadata": {
        "id": "nMQ2anFZWpXK",
        "outputId": "8922a061-5dbf-446d-e31e-cbdc595bfe48"
      },
      "outputs": [
        {
          "data": {
            "text/plain": [
              "['Michael Jackson', 10.1, 1982, 'MJ', 1]"
            ]
          },
          "execution_count": 28,
          "metadata": {},
          "output_type": "execute_result"
        }
      ],
      "source": [
        "L[0:]"
      ]
    },
    {
      "cell_type": "code",
      "execution_count": null,
      "metadata": {
        "id": "RSVd53pwWpXL",
        "outputId": "94d099d6-a419-4069-9b1b-9fe508dde555"
      },
      "outputs": [
        {
          "data": {
            "text/plain": [
              "['Michael Jackson', 10.1, 1982, 'MJ', 1]"
            ]
          },
          "execution_count": 27,
          "metadata": {},
          "output_type": "execute_result"
        }
      ],
      "source": [
        "L[0:5]"
      ]
    },
    {
      "cell_type": "code",
      "execution_count": null,
      "metadata": {
        "id": "rbPR_l6OWpXM",
        "outputId": "8b9f9b13-54fe-4c67-beaa-978e0a10da67"
      },
      "outputs": [
        {
          "data": {
            "text/plain": [
              "['MJ', 1]"
            ]
          },
          "execution_count": 31,
          "metadata": {},
          "output_type": "execute_result"
        }
      ],
      "source": [
        "L[3:5]"
      ]
    },
    {
      "cell_type": "code",
      "execution_count": null,
      "metadata": {
        "id": "ViVdk9srWpXM",
        "outputId": "0f28915d-688e-495a-d8a4-6070787baa6f"
      },
      "outputs": [
        {
          "data": {
            "text/plain": [
              "['Michael Jackson', 10.1, 1982]"
            ]
          },
          "execution_count": 32,
          "metadata": {},
          "output_type": "execute_result"
        }
      ],
      "source": [
        "L[0:3]"
      ]
    },
    {
      "cell_type": "code",
      "execution_count": null,
      "metadata": {
        "id": "cy5oMAPvWpXN",
        "outputId": "150c2aeb-a307-4b7d-af41-ae9c5dcb56c7"
      },
      "outputs": [
        {
          "data": {
            "text/plain": [
              "['Michael Jackson', 10.1, 1982, 'MJ', 1]"
            ]
          },
          "execution_count": 33,
          "metadata": {},
          "output_type": "execute_result"
        }
      ],
      "source": [
        "L[0:]"
      ]
    },
    {
      "cell_type": "code",
      "execution_count": null,
      "metadata": {
        "id": "bMFDHHo3WpXN",
        "outputId": "aa32f576-933e-4f05-8b07-62ed0c542c18"
      },
      "outputs": [
        {
          "data": {
            "text/plain": [
              "['Michael Jackson', 10.1, 1982, 'MJ', 1]"
            ]
          },
          "execution_count": 34,
          "metadata": {},
          "output_type": "execute_result"
        }
      ],
      "source": [
        "L[:5]"
      ]
    },
    {
      "cell_type": "code",
      "execution_count": null,
      "metadata": {
        "id": "Y0x6nbH8WpXN",
        "outputId": "848e191c-e07b-4db7-8441-02f67ec065d9"
      },
      "outputs": [
        {
          "data": {
            "text/plain": [
              "['Michael Jackson', 10.1, 1982, 'MJ', 1]"
            ]
          },
          "execution_count": 32,
          "metadata": {},
          "output_type": "execute_result"
        }
      ],
      "source": [
        "L[:]"
      ]
    },
    {
      "cell_type": "code",
      "execution_count": null,
      "metadata": {
        "id": "if4pqqFsWpXO",
        "outputId": "6549b186-5557-49f3-8ba1-acee836b951f"
      },
      "outputs": [
        {
          "name": "stdout",
          "output_type": "stream",
          "text": [
            "Initial List: \n",
            "['I', 'N', 'D', 'I', 'A', 'I', 'S', 'G', 'R', 'E', 'A', 'T']\n",
            "\n",
            "Slicing elements in a range 3-8: \n",
            "['I', 'A', 'I', 'S', 'G']\n",
            "\n",
            "Elements sliced from 5th element till the end: \n",
            "['I', 'S', 'G', 'R', 'E', 'A', 'T']\n",
            "\n",
            "Printing all elements using slice operation: \n",
            "['I', 'N', 'D', 'I', 'A', 'I', 'S', 'G', 'R', 'E', 'A', 'T']\n"
          ]
        }
      ],
      "source": [
        "# Python program to demonstrate\n",
        "# Removal of elements in a List\n",
        "\n",
        "# Creating a List\n",
        "List = ['I','N','D','I','A','I','S','G','R','E','A','T']\n",
        "print(\"Initial List: \")\n",
        "print(List)\n",
        "\n",
        "# Print elements of a range\n",
        "# using Slice operation\n",
        "Sliced_List = List[3:8]\n",
        "print(\"\\nSlicing elements in a range 3-8: \")\n",
        "print(Sliced_List)\n",
        "\n",
        "# Print elements from a\n",
        "# pre-defined point to end\n",
        "Sliced_List = List[5:]\n",
        "print(\"\\nElements sliced from 5th \"\n",
        "\t\"element till the end: \")\n",
        "print(Sliced_List)\n",
        "\n",
        "# Printing elements from\n",
        "# beginning till end\n",
        "Sliced_List = List[:]\n",
        "print(\"\\nPrinting all elements using slice operation: \")\n",
        "print(Sliced_List)\n"
      ]
    },
    {
      "cell_type": "markdown",
      "metadata": {
        "id": "JqC3pePmWpXO"
      },
      "source": [
        "# Negative index List slicing"
      ]
    },
    {
      "cell_type": "code",
      "execution_count": null,
      "metadata": {
        "id": "Qoq-JkE5WpXP",
        "outputId": "7184a112-acf4-4052-b989-516b94740190"
      },
      "outputs": [
        {
          "name": "stdout",
          "output_type": "stream",
          "text": [
            "Initial List: \n",
            "['I', 'N', 'D', 'I', 'A', 'I', 'S', 'G', 'R', 'E', 'A', 'T']\n",
            "\n",
            "Elements sliced till 6th element from last: \n",
            "['I', 'N', 'D', 'I', 'A', 'I']\n",
            "\n",
            "Elements sliced from index -6 to -1\n",
            "['S', 'G', 'R', 'E', 'A']\n",
            "\n",
            "Printing List in reverse: \n",
            "['T', 'A', 'E', 'R', 'G', 'S', 'I', 'A', 'I', 'D', 'N', 'I']\n"
          ]
        }
      ],
      "source": [
        "# Creating a List\n",
        "List = ['I','N','D','I','A','I','S','G','R','E','A','T']\n",
        "print(\"Initial List: \")\n",
        "print(List)\n",
        "\n",
        "# Print elements from beginning\n",
        "# to a pre-defined point using Slice\n",
        "Sliced_List = List[:-6]\n",
        "print(\"\\nElements sliced till 6th element from last: \")\n",
        "print(Sliced_List)\n",
        "\n",
        "# Print elements of a range\n",
        "# using negative index List slicing\n",
        "Sliced_List = List[-6:-1]\n",
        "print(\"\\nElements sliced from index -6 to -1\")\n",
        "print(Sliced_List)\n",
        "\n",
        "# Printing elements in reverse\n",
        "# using Slice operation\n",
        "Sliced_List = List[::-1]\n",
        "print(\"\\nPrinting List in reverse: \")\n",
        "print(Sliced_List)\n"
      ]
    },
    {
      "cell_type": "markdown",
      "metadata": {
        "id": "mashmfQRWpXP"
      },
      "source": [
        "# Stride "
      ]
    },
    {
      "cell_type": "code",
      "execution_count": null,
      "metadata": {
        "id": "KFe0cydHWpXQ",
        "outputId": "e2ba1295-5134-4362-c69d-2c921a236f73"
      },
      "outputs": [
        {
          "data": {
            "text/plain": [
              "'Kn rhr'"
            ]
          },
          "execution_count": 35,
          "metadata": {},
          "output_type": "execute_result"
        }
      ],
      "source": [
        "s = 'King Arthur'\n",
        "s[::2]\n"
      ]
    },
    {
      "cell_type": "code",
      "execution_count": null,
      "metadata": {
        "id": "-2msLNHtWpXQ",
        "outputId": "7ebcea02-8c87-4b11-a8f9-12a12a72733e"
      },
      "outputs": [
        {
          "data": {
            "text/plain": [
              "'igAtu'"
            ]
          },
          "execution_count": 36,
          "metadata": {},
          "output_type": "execute_result"
        }
      ],
      "source": [
        "\n",
        " s[1::2]\n"
      ]
    },
    {
      "cell_type": "code",
      "execution_count": null,
      "metadata": {
        "id": "jCKMW4dfWpXQ",
        "outputId": "41699615-02a0-466f-a068-43ad987cbc07"
      },
      "outputs": [
        {
          "data": {
            "text/plain": [
              "'ruhtrA'"
            ]
          },
          "execution_count": 37,
          "metadata": {},
          "output_type": "execute_result"
        }
      ],
      "source": [
        "\n",
        "s[-1:4:-1]\n"
      ]
    },
    {
      "cell_type": "code",
      "execution_count": null,
      "metadata": {
        "id": "JkqspjS_WpXR",
        "outputId": "80fb8cc6-992f-453e-c239-e1e60f2ba8d9"
      },
      "outputs": [
        {
          "data": {
            "text/plain": [
              "['Michael Jackson', 10.1, 1982, 'MJ', 1]"
            ]
          },
          "execution_count": 35,
          "metadata": {},
          "output_type": "execute_result"
        }
      ],
      "source": [
        "L=[\"Michael Jackson\", 10.1,1982,\"MJ\",1]\n",
        "L"
      ]
    },
    {
      "cell_type": "code",
      "execution_count": null,
      "metadata": {
        "id": "-3f-kPDzWpXR",
        "outputId": "d6a408e7-5126-4e64-8e47-49735a8a00de"
      },
      "outputs": [
        {
          "data": {
            "text/plain": [
              "['Michael Jackson', 1982, 1]"
            ]
          },
          "execution_count": 36,
          "metadata": {},
          "output_type": "execute_result"
        }
      ],
      "source": [
        "L[::2]"
      ]
    },
    {
      "cell_type": "markdown",
      "metadata": {
        "id": "cdWq3N4OWpXS"
      },
      "source": [
        "# We can use the method to add new elements to the list:\n",
        "\n",
        "\n",
        "1. append\n",
        "\n",
        "\n",
        "2. extend\n",
        "\n",
        "\n",
        "3. insert"
      ]
    },
    {
      "cell_type": "markdown",
      "metadata": {
        "id": "DvUhqE4lWpXS"
      },
      "source": [
        "# 1. Using append() method\n"
      ]
    },
    {
      "cell_type": "raw",
      "metadata": {
        "id": "zLnluz16WpXS"
      },
      "source": [
        "Elements can be added to the List by using the built-in append() function. \n",
        "\n",
        "Only one element at a time can be added to the list by using the append() method, for the addition of multiple elements with the append() method, loops are used. \n",
        "\n",
        "Tuples can also be added to the list with the use of the append method because tuples are immutable. Unlike Sets, Lists can also be added to the existing list with the use of the append() method."
      ]
    },
    {
      "cell_type": "code",
      "execution_count": null,
      "metadata": {
        "id": "wiiABpxsWpXT",
        "outputId": "8aede12e-7b25-4058-c229-7b5186d7420e"
      },
      "outputs": [
        {
          "data": {
            "text/plain": [
              "['Michael Jackson', 10.1, 1982, 'MJ', 1]"
            ]
          },
          "execution_count": 41,
          "metadata": {},
          "output_type": "execute_result"
        }
      ],
      "source": [
        "L=['Michael Jackson', 10.1, 1982, 'MJ', 1]\n",
        "L"
      ]
    },
    {
      "cell_type": "code",
      "execution_count": null,
      "metadata": {
        "id": "_86LnWeCWpXT",
        "outputId": "b9490b01-7ae4-4687-b78d-1100f4d2dd4b"
      },
      "outputs": [
        {
          "data": {
            "text/plain": [
              "['Michael Jackson', 10.1, 1982, 'MJ', 1, 5]"
            ]
          },
          "execution_count": 43,
          "metadata": {},
          "output_type": "execute_result"
        }
      ],
      "source": [
        "L.append(5)\n",
        "L"
      ]
    },
    {
      "cell_type": "code",
      "execution_count": null,
      "metadata": {
        "id": "uiisnHqtWpXU",
        "outputId": "25d416fb-0c49-49b1-e4b4-a116123a7515"
      },
      "outputs": [
        {
          "data": {
            "text/plain": [
              "['Michael Jackson', 10.2, ['pop', 10]]"
            ]
          },
          "execution_count": 39,
          "metadata": {},
          "output_type": "execute_result"
        }
      ],
      "source": [
        "L = [ \"Michael Jackson\", 10.2]\n",
        "L.append(['pop', 10])\n",
        "L"
      ]
    },
    {
      "cell_type": "code",
      "execution_count": null,
      "metadata": {
        "id": "i8OP4ZvqWpXV",
        "outputId": "800c9985-277e-41b9-e482-73154eb104a2"
      },
      "outputs": [
        {
          "name": "stdout",
          "output_type": "stream",
          "text": [
            "Initial blank List: \n",
            "[]\n",
            "[1]\n",
            "[1, 2]\n",
            "\n",
            "List after Addition of Three elements: \n",
            "[1, 2, 4]\n"
          ]
        }
      ],
      "source": [
        "\n",
        "# Creating a List\n",
        "List = []\n",
        "print(\"Initial blank List: \")\n",
        "print(List)\n",
        "\n",
        "# Addition of Elements\n",
        "# in the List\n",
        "List.append(1)\n",
        "print(List)\n",
        "List.append(2)\n",
        "print(List)\n",
        "List.append(4)\n",
        "print(\"\\nList after Addition of Three elements: \")\n",
        "print(List)"
      ]
    },
    {
      "cell_type": "code",
      "execution_count": null,
      "metadata": {
        "id": "8u8N_Wa4WpXW",
        "outputId": "dba0c8da-f731-4ad9-a248-719362b0b0e0"
      },
      "outputs": [
        {
          "name": "stdout",
          "output_type": "stream",
          "text": [
            "Initial blank List: \n",
            "[]\n",
            "\n",
            "List after Addition of Three elements: \n",
            "[1, 2, 4]\n",
            "\n",
            "List after Addition of elements from 1-3: \n",
            "[1, 2, 4, 1, 2, 3]\n",
            "\n",
            "List after Addition of a Tuple: \n",
            "[1, 2, 4, 1, 2, 3, (5, 6)]\n",
            "\n",
            "List after Addition of a List: \n",
            "[1, 2, 4, 1, 2, 3, (5, 6), ['For', 'India']]\n"
          ]
        }
      ],
      "source": [
        "# Python program to demonstrate\n",
        "# Addition of elements in a List\n",
        "\n",
        "# Creating a List\n",
        "List = []\n",
        "print(\"Initial blank List: \")\n",
        "print(List)\n",
        "\n",
        "# Addition of Elements\n",
        "# in the List\n",
        "List.append(1)\n",
        "List.append(2)\n",
        "List.append(4)\n",
        "print(\"\\nList after Addition of Three elements: \")\n",
        "print(List)\n",
        "\n",
        "# Adding elements to the List\n",
        "# using Iterator\n",
        "for i in range(1, 4):\n",
        "\tList.append(i)\n",
        "print(\"\\nList after Addition of elements from 1-3: \")\n",
        "print(List)\n",
        "\n",
        "# Adding Tuples to the List\n",
        "List.append((5, 6))\n",
        "print(\"\\nList after Addition of a Tuple: \")\n",
        "print(List)\n",
        "\n",
        "# Addition of List to a List\n",
        "List2 = ['For', 'India']\n",
        "List.append(List2)\n",
        "print(\"\\nList after Addition of a List: \")\n",
        "print(List)\n"
      ]
    },
    {
      "cell_type": "markdown",
      "metadata": {
        "id": "brweEnsmWpXX"
      },
      "source": [
        "# Using extend() method\n",
        "\n"
      ]
    },
    {
      "cell_type": "raw",
      "metadata": {
        "id": "t4MxY3rMWpXY"
      },
      "source": [
        "Other than append() and insert() methods, there’s one more method for the Addition of elements, extend(), this method is used to add multiple elements at the same time at the end of the list.\n",
        "Note – append() and extend() methods can only add elements at the end."
      ]
    },
    {
      "cell_type": "code",
      "execution_count": null,
      "metadata": {
        "id": "eCdbpsXSWpXY",
        "outputId": "92bf383f-bb23-459b-c0e1-fc05d0c0d113"
      },
      "outputs": [
        {
          "data": {
            "text/plain": [
              "['Michael Jackson', 10.2, 'pop', 10]"
            ]
          },
          "execution_count": 44,
          "metadata": {},
          "output_type": "execute_result"
        }
      ],
      "source": [
        "# Use extend to add elements to list\n",
        "\n",
        "L = [ \"Michael Jackson\", 10.2]\n",
        "L.extend(['pop', 10])\n",
        "L"
      ]
    },
    {
      "cell_type": "code",
      "execution_count": null,
      "metadata": {
        "id": "Km4fcJP8WpXY",
        "outputId": "bf92c69b-3d84-45e0-f15b-fbf2998fd72e"
      },
      "outputs": [
        {
          "data": {
            "text/plain": [
              "['Michael Jackson', 10.2, 5, 6]"
            ]
          },
          "execution_count": 47,
          "metadata": {},
          "output_type": "execute_result"
        }
      ],
      "source": [
        "# Use extend to add elements to list\n",
        "\n",
        "L = [ \"Michael Jackson\", 10.2]\n",
        "L.extend([5,6])\n",
        "L"
      ]
    },
    {
      "cell_type": "code",
      "execution_count": null,
      "metadata": {
        "id": "k3Oy-N7pWpXZ",
        "outputId": "e5d74787-ad26-4031-c6e7-e07523faf66b"
      },
      "outputs": [
        {
          "data": {
            "text/plain": [
              "['Rice', 'Panner', 'Chicken', 'R', 'o', 't', 'i']"
            ]
          },
          "execution_count": 45,
          "metadata": {},
          "output_type": "execute_result"
        }
      ],
      "source": [
        "# create a list\n",
        "food = ['Rice', 'Panner', 'Chicken']\n",
        "# add the elements to the list\n",
        "food.extend('Roti')\n",
        "food"
      ]
    },
    {
      "cell_type": "code",
      "execution_count": null,
      "metadata": {
        "id": "OersWrzsWpXZ",
        "outputId": "4ed04b33-793e-47f7-e120-f6413f582db2"
      },
      "outputs": [
        {
          "name": "stdout",
          "output_type": "stream",
          "text": [
            "Initial List: \n",
            "[1, 2, 3, 4]\n",
            "\n",
            "List after performing Extend Operation: \n",
            "[1, 2, 3, 4, 8, 'India', 'Always']\n"
          ]
        }
      ],
      "source": [
        "# Python program to demonstrate\n",
        "# Addition of elements in a List\n",
        "\n",
        "# Creating a List\n",
        "List = [1,2,3,4]\n",
        "print(\"Initial List: \")\n",
        "print(List)\n",
        "\n",
        "# Addition of multiple elements\n",
        "# to the List at the end\n",
        "# (using Extend Method)\n",
        "List.extend([8, 'India', 'Always'])\n",
        "print(\"\\nList after performing Extend Operation: \")\n",
        "print(List)\n"
      ]
    },
    {
      "cell_type": "markdown",
      "metadata": {
        "id": "7vhtHfY7WpXa"
      },
      "source": [
        "# Using insert() method"
      ]
    },
    {
      "cell_type": "markdown",
      "metadata": {
        "id": "vMuV5ewHWpXa"
      },
      "source": [
        "# Addition of Element at specific Position (using Insert Method)"
      ]
    },
    {
      "cell_type": "raw",
      "metadata": {
        "id": "M6qFg45TWpXa"
      },
      "source": [
        "\n",
        "\n",
        "append() method only works for the addition of elements at the end of the List, for the addition of elements at the desired position, insert() method is used.\n",
        "\n",
        "Unlike append() which takes only one argument, the insert() method requires two arguments(position, value). "
      ]
    },
    {
      "cell_type": "code",
      "execution_count": null,
      "metadata": {
        "id": "_uIO_m7UWpXb",
        "outputId": "4cfadf93-c009-44a3-e7dc-b68cb00f9226"
      },
      "outputs": [
        {
          "data": {
            "text/plain": [
              "[1, 2, 3, 12, 4]"
            ]
          },
          "execution_count": 48,
          "metadata": {},
          "output_type": "execute_result"
        }
      ],
      "source": [
        "List = [1,2,3,4]\n",
        "\n",
        "List.insert(3, 12)\n",
        "\n",
        "List"
      ]
    },
    {
      "cell_type": "code",
      "execution_count": null,
      "metadata": {
        "id": "u2qUS6oeWpXb",
        "outputId": "30769a3f-d8ef-4b79-b51c-57cfeb0e856f"
      },
      "outputs": [
        {
          "name": "stdout",
          "output_type": "stream",
          "text": [
            "Initial List: \n",
            "[1, 2, 3, 4]\n",
            "\n",
            "List after performing Insert Operation: \n",
            "['Geeks', 1, 2, 3, 12, 4]\n"
          ]
        }
      ],
      "source": [
        "#Creating a List \n",
        "List = [1,2,3,4] \n",
        "print(\"Initial List: \") \n",
        "print(List) \n",
        "  \n",
        "# Addition of Element at  \n",
        "# specific Position \n",
        "# (using Insert Method) \n",
        "List.insert(3, 12) \n",
        "List.insert(0, 'Geeks') \n",
        "print(\"\\nList after performing Insert Operation: \") \n",
        "print(List)"
      ]
    },
    {
      "cell_type": "code",
      "execution_count": null,
      "metadata": {
        "id": "CqKQgliEWpXc",
        "outputId": "7f1b2ab3-7728-49ce-8673-9b43c9bcace8"
      },
      "outputs": [
        {
          "data": {
            "text/plain": [
              "['Rice', 'Roti', 'Panner', 'Chicken']"
            ]
          },
          "execution_count": 49,
          "metadata": {},
          "output_type": "execute_result"
        }
      ],
      "source": [
        "# create a list\n",
        "food = ['Rice', 'Panner', 'Chicken']\n",
        "# add element at index 1\n",
        "food.insert(1, 'Roti')\n",
        "food"
      ]
    },
    {
      "cell_type": "code",
      "execution_count": null,
      "metadata": {
        "id": "zChgL7uJWpXc",
        "outputId": "2d721f5b-b020-4e68-9581-a4ce40d0850d"
      },
      "outputs": [
        {
          "name": "stdout",
          "output_type": "stream",
          "text": [
            "Initial List: \n",
            "[1, 2, 3, 4]\n",
            "\n",
            "List after performing Insert Operation: \n",
            "['India', 1, 2, 3, 12, 4]\n"
          ]
        }
      ],
      "source": [
        "# Python program to demonstrate\n",
        "# Addition of elements in a List\n",
        "\n",
        "# Creating a List\n",
        "List = [1,2,3,4]\n",
        "print(\"Initial List: \")\n",
        "print(List)\n",
        "\n",
        "# Addition of Element at\n",
        "# specific Position\n",
        "# (using Insert Method)\n",
        "List.insert(3, 12)\n",
        "List.insert(0, 'India')\n",
        "print(\"\\nList after performing Insert Operation: \")\n",
        "print(List)\n"
      ]
    },
    {
      "cell_type": "markdown",
      "metadata": {
        "id": "-Sf_Pd6nWpXd"
      },
      "source": [
        "# Removing Elements from the List"
      ]
    },
    {
      "cell_type": "raw",
      "metadata": {
        "id": "4iNf5QGuWpXd"
      },
      "source": [
        "Elements can be removed from the List by using the built-in remove() function but an Error arises if the element doesn’t exist in the set. \n",
        "\n",
        "Remove() method only removes one element at a time, to remove a range of elements, the iterator is used. \n",
        "\n",
        "The remove() method removes the specified item.\n",
        "\n",
        "Note – Remove method in List will only remove the first occurrence of the searched element."
      ]
    },
    {
      "cell_type": "code",
      "execution_count": null,
      "metadata": {
        "id": "jdxWuo1VWpXd",
        "outputId": "64721afd-9bb5-4972-922d-f9a7946ff32f"
      },
      "outputs": [
        {
          "data": {
            "text/plain": [
              "['Panner', 'Chicken']"
            ]
          },
          "execution_count": 53,
          "metadata": {},
          "output_type": "execute_result"
        }
      ],
      "source": [
        "# create a list\n",
        "food = ['Rice', 'Panner', 'Chicken']\n",
        "# remove 'Rice' element\n",
        "food.remove('Rice')\n",
        "food"
      ]
    },
    {
      "cell_type": "code",
      "execution_count": null,
      "metadata": {
        "id": "P8tpaXRHWpXe",
        "outputId": "0ab16512-4907-4a09-d7ac-916e6df43c4a"
      },
      "outputs": [
        {
          "name": "stdout",
          "output_type": "stream",
          "text": [
            "Intial List: \n",
            "\n",
            "[1, 2, 3, 4, 5, 6, 7, 8, 9, 10, 11, 12]\n",
            "\n",
            "List after Removal of two elements: \n",
            "[1, 2, 3, 4, 7, 8, 9, 10, 11, 12]\n"
          ]
        }
      ],
      "source": [
        "# Python program to demonstrate  \n",
        "# Removal of elements in a List \n",
        "  \n",
        "# Creating a List \n",
        "List = [1, 2, 3, 4, 5, 6,7, 8, 9, 10, 11, 12] \n",
        "print(\"Intial List: \")\n",
        "print()\n",
        "print(List) \n",
        "  \n",
        "# Removing elements from List \n",
        "# using Remove() method \n",
        "List.remove(5) \n",
        "List.remove(6) \n",
        "print(\"\\nList after Removal of two elements: \") \n",
        "print(List) "
      ]
    },
    {
      "cell_type": "code",
      "execution_count": null,
      "metadata": {
        "id": "JX4ddpgxWpXe",
        "outputId": "878d62e8-5ad7-4bf9-a94e-5ecc31fe03d9"
      },
      "outputs": [
        {
          "name": "stdout",
          "output_type": "stream",
          "text": [
            "Intial List: \n",
            "[1, 2, 3, 4, 5, 6, 7, 8, 9, 10, 11, 12]\n",
            "\n",
            "List after Removal of two elements: \n",
            "[1, 2, 3, 4, 7, 8, 9, 10, 11, 12]\n",
            "\n",
            "List after Removing a range of elements: \n",
            "[7, 8, 9, 10, 11, 12]\n"
          ]
        }
      ],
      "source": [
        "# Python program to demonstrate  \n",
        "# Removal of elements in a List \n",
        "  \n",
        "# Creating a List \n",
        "List = [1, 2, 3, 4, 5, 6,  \n",
        "        7, 8, 9, 10, 11, 12] \n",
        "print(\"Intial List: \") \n",
        "print(List) \n",
        "  \n",
        "# Removing elements from List \n",
        "# using Remove() method \n",
        "List.remove(5) \n",
        "List.remove(6) \n",
        "print(\"\\nList after Removal of two elements: \") \n",
        "print(List) \n",
        "  \n",
        "# Removing elements from List \n",
        "# using iterator method \n",
        "for i in range(1, 5): \n",
        "    List.remove(i) \n",
        "print(\"\\nList after Removing a range of elements: \") \n",
        "print(List)"
      ]
    },
    {
      "cell_type": "markdown",
      "metadata": {
        "id": "FEGqpVZ9WpXf"
      },
      "source": [
        "# Using pop() method"
      ]
    },
    {
      "cell_type": "raw",
      "metadata": {
        "id": "NbewnNLLWpXf"
      },
      "source": [
        "Pop() function can also be used to remove and return an element from the set, but by default it removes only the last element of the set, to remove an element from a specific position of the List, the index of the element is passed as an argument to the pop() method."
      ]
    },
    {
      "cell_type": "code",
      "execution_count": null,
      "metadata": {
        "id": "x5jhpBOuWpXg",
        "outputId": "af41ce52-9f82-47d5-f464-580d454b0fff"
      },
      "outputs": [
        {
          "name": "stdout",
          "output_type": "stream",
          "text": [
            "\n",
            "List after popping an element: \n",
            "[1, 2, 3, 4]\n"
          ]
        }
      ],
      "source": [
        "List = [1,2,3,4,5] \n",
        "  \n",
        "# Removing element from the  \n",
        "# Set using the pop() method \n",
        "List.pop() \n",
        "print(\"\\nList after popping an element: \") \n",
        "print(List)"
      ]
    },
    {
      "cell_type": "code",
      "execution_count": null,
      "metadata": {
        "id": "gfXV1wWZWpXg",
        "outputId": "320a66cd-27a6-4f11-ee46-f9598340854d"
      },
      "outputs": [
        {
          "name": "stdout",
          "output_type": "stream",
          "text": [
            "\n",
            "List after popping an element: \n",
            "[1, 2, 3, 4]\n",
            "\n",
            "List after popping a specific element: \n",
            "[1, 2, 3]\n"
          ]
        }
      ],
      "source": [
        "List = [1,2,3,4,5] \n",
        "  \n",
        "# Removing element from the  \n",
        "# Set using the pop() method \n",
        "List.pop() \n",
        "print(\"\\nList after popping an element: \") \n",
        "print(List) \n",
        "  \n",
        "# Removing element at a  \n",
        "# specific location from the  \n",
        "# Set using the pop() method \n",
        "List.pop() \n",
        "print(\"\\nList after popping a specific element: \") \n",
        "print(List) "
      ]
    },
    {
      "cell_type": "code",
      "execution_count": null,
      "metadata": {
        "id": "0fy_5nQHWpXh",
        "outputId": "14e01253-b6a0-41ce-d492-bd91b6a6e604"
      },
      "outputs": [
        {
          "name": "stdout",
          "output_type": "stream",
          "text": [
            "\n",
            "List after popping an element: \n",
            "[1, 2, 3, 4]\n",
            "\n",
            "List after popping a specific element: \n",
            "[1, 2, 4]\n"
          ]
        }
      ],
      "source": [
        "List = [1,2,3,4,5]\n",
        "\n",
        "# Removing element from the\n",
        "# Set using the pop() method\n",
        "List.pop()\n",
        "print(\"\\nList after popping an element: \")\n",
        "print(List)\n",
        "\n",
        "# Removing element at a\n",
        "# specific location from the\n",
        "# Set using the pop() method\n",
        "List.pop(2)\n",
        "print(\"\\nList after popping a specific element: \")\n",
        "print(List)\n"
      ]
    },
    {
      "cell_type": "markdown",
      "metadata": {
        "id": "uBS3Q3mIWpXh"
      },
      "source": [
        "# We can also delete an element of a list using the <code>del</code> command:"
      ]
    },
    {
      "cell_type": "code",
      "execution_count": null,
      "metadata": {
        "id": "uyGHSNgUWpXh",
        "outputId": "1a275dec-fb21-4ea9-8adc-681a67825d8b"
      },
      "outputs": [
        {
          "name": "stdout",
          "output_type": "stream",
          "text": [
            "Before change: ['disco', 'hard rock', 1.2]\n",
            "After change: ['hard rock', 1.2]\n"
          ]
        }
      ],
      "source": [
        "# Delete the element based on the index\n",
        "A=['disco','hard rock',1.2]\n",
        "print('Before change:', A)\n",
        "del(A[0])\n",
        "print('After change:', A)"
      ]
    },
    {
      "cell_type": "code",
      "execution_count": null,
      "metadata": {
        "id": "-xsUd4OaWpXi",
        "outputId": "beeda920-f2a0-4c63-e7ac-4ad6a8e907d5"
      },
      "outputs": [
        {
          "name": "stdout",
          "output_type": "stream",
          "text": [
            "['physics', 'chemistry', 1997, 2000]\n",
            "After deleting value at index 2 : \n",
            "['physics', 'chemistry', 2000]\n"
          ]
        }
      ],
      "source": [
        "list1 = ['physics', 'chemistry', 1997, 2000];\n",
        "print (list1)\n",
        "del list1[2]\n",
        "print (\"After deleting value at index 2 : \")\n",
        "print (list1)"
      ]
    },
    {
      "cell_type": "markdown",
      "metadata": {
        "id": "u5g2tC3eWpXi"
      },
      "source": [
        "# Clear Method()"
      ]
    },
    {
      "cell_type": "code",
      "execution_count": null,
      "metadata": {
        "id": "Crhl_vF6WpXj",
        "outputId": "da09c26f-f68b-45bf-ae1f-b3f5456c9eb5"
      },
      "outputs": [
        {
          "data": {
            "text/plain": [
              "[]"
            ]
          },
          "execution_count": 61,
          "metadata": {},
          "output_type": "execute_result"
        }
      ],
      "source": [
        "# create a list\n",
        "food = ['Rice', 'Panner', 'Chicken']\n",
        "# remove all the elements from the list\n",
        "food.clear()\n",
        "food"
      ]
    },
    {
      "cell_type": "markdown",
      "metadata": {
        "id": "I6eF8GByWpXj"
      },
      "source": [
        "# checking particular element present inside the List"
      ]
    },
    {
      "cell_type": "code",
      "execution_count": null,
      "metadata": {
        "id": "48ys6LWGWpXj",
        "outputId": "02ad747c-13e6-47c4-8c3c-04f5f984d7db"
      },
      "outputs": [
        {
          "data": {
            "text/plain": [
              "['Michael Jackson', 10.2, 5, 6]"
            ]
          },
          "execution_count": 63,
          "metadata": {},
          "output_type": "execute_result"
        }
      ],
      "source": [
        "L"
      ]
    },
    {
      "cell_type": "code",
      "execution_count": null,
      "metadata": {
        "id": "-ubsrftOWpXk",
        "outputId": "cad18089-188d-4975-e3b8-3292734949ba"
      },
      "outputs": [
        {
          "data": {
            "text/plain": [
              "False"
            ]
          },
          "execution_count": 62,
          "metadata": {},
          "output_type": "execute_result"
        }
      ],
      "source": [
        "10 in L"
      ]
    },
    {
      "cell_type": "markdown",
      "metadata": {
        "id": "bNZtIScqWpXk"
      },
      "source": [
        "# Checking Index number of element in the List"
      ]
    },
    {
      "cell_type": "code",
      "execution_count": null,
      "metadata": {
        "id": "1Tt5Vhw0WpXl",
        "outputId": "4cfdbf10-b6c5-4ca1-ee26-6ee18f02fd7a"
      },
      "outputs": [
        {
          "data": {
            "text/plain": [
              "1"
            ]
          },
          "execution_count": 52,
          "metadata": {},
          "output_type": "execute_result"
        }
      ],
      "source": [
        "# create a list\n",
        "food = ['Rice', 'Panner', 'Chicken']\n",
        "# dislay the index number\n",
        "food.index('Panner')"
      ]
    },
    {
      "cell_type": "markdown",
      "metadata": {
        "id": "yQCzZkxKWpXm"
      },
      "source": [
        "# As lists are mutable, we can change them. For example, we can change the first element as follows:"
      ]
    },
    {
      "cell_type": "code",
      "execution_count": null,
      "metadata": {
        "id": "oGIaZ68tWpXm",
        "outputId": "04c79aa6-dd66-4f67-e8ec-f34ebb8a19ea"
      },
      "outputs": [
        {
          "name": "stdout",
          "output_type": "stream",
          "text": [
            "Before change: ['disco', 10, 1.2]\n",
            "After change: ['hard rock', 10, 1.2]\n"
          ]
        }
      ],
      "source": [
        "# Change the element based on the index\n",
        "\n",
        "A = [\"disco\", 10, 1.2]\n",
        "print('Before change:', A)\n",
        "\n",
        "A[0] = 'hard rock'\n",
        "print('After change:', A)"
      ]
    },
    {
      "cell_type": "code",
      "execution_count": null,
      "metadata": {
        "id": "q9VXijnRWpXm",
        "outputId": "d4ed46de-aecb-4573-9396-037ee04b9a90"
      },
      "outputs": [
        {
          "name": "stdout",
          "output_type": "stream",
          "text": [
            "Value available at index 2 : \n",
            "1997\n",
            "['physics', 'chemistry', 1997, 2000]\n",
            "New value available at index 2 : \n",
            "2001\n",
            "['physics', 'chemistry', 2001, 2000]\n"
          ]
        }
      ],
      "source": [
        "list1 = ['physics', 'chemistry', 1997, 2000];\n",
        "print (\"Value available at index 2 : \")\n",
        "print (list1[2])\n",
        "print(list1)\n",
        "list1[2] = 2001\n",
        "print (\"New value available at index 2 : \")\n",
        "print (list1[2])\n",
        "print(list1)"
      ]
    },
    {
      "cell_type": "markdown",
      "metadata": {
        "id": "hf3OrTGTWpXn"
      },
      "source": [
        "# Count Method: "
      ]
    },
    {
      "cell_type": "code",
      "execution_count": null,
      "metadata": {
        "id": "S8n3-VuIWpXn",
        "outputId": "1c055cc2-256a-4c90-96ab-b08a9af9cf85"
      },
      "outputs": [
        {
          "data": {
            "text/plain": [
              "4"
            ]
          },
          "execution_count": 66,
          "metadata": {},
          "output_type": "execute_result"
        }
      ],
      "source": [
        "# create a list\n",
        "product = ['Chips', 'Biscuits', 'Drinks', 'Numkeen', 'Chips', 'Biscuits', 'Chips','Chips']\n",
        "\n",
        "# get the count of \"Chips\"\n",
        "\n",
        "product.count('Chips')"
      ]
    },
    {
      "cell_type": "markdown",
      "metadata": {
        "id": "W1FVUJTfWpXo"
      },
      "source": [
        "# Reverse Method"
      ]
    },
    {
      "cell_type": "code",
      "execution_count": null,
      "metadata": {
        "id": "DOT_b678WpXo",
        "outputId": "a75e2260-38c8-4467-9e8f-43ddf65c77b1"
      },
      "outputs": [
        {
          "data": {
            "text/plain": [
              "['Chicken', 'Panner', 'Rice']"
            ]
          },
          "execution_count": 67,
          "metadata": {},
          "output_type": "execute_result"
        }
      ],
      "source": [
        "# create a list\n",
        "food = ['Rice', 'Panner', 'Chicken']\n",
        "# reverse the order of elements from the list\n",
        "food.reverse()\n",
        "food\n"
      ]
    },
    {
      "cell_type": "markdown",
      "metadata": {
        "id": "SPaImOh7WpXo"
      },
      "source": [
        "# Sort Method"
      ]
    },
    {
      "cell_type": "code",
      "execution_count": null,
      "metadata": {
        "id": "2Z3VNImsWpXp",
        "outputId": "97780918-8c5f-4b13-a95d-4d4e0c37e934"
      },
      "outputs": [
        {
          "data": {
            "text/plain": [
              "['A', 'C', 'K', 'R']"
            ]
          },
          "execution_count": 68,
          "metadata": {},
          "output_type": "execute_result"
        }
      ],
      "source": [
        "# create a list\n",
        "alph = ['R', 'A', 'C', 'K']\n",
        "# sort the elements\n",
        "alph.sort()\n",
        "alph"
      ]
    },
    {
      "cell_type": "code",
      "execution_count": null,
      "metadata": {
        "id": "IbEHs7xUWpXp",
        "outputId": "933d850e-cfed-4327-99f1-ec209fa9f83c"
      },
      "outputs": [
        {
          "data": {
            "text/plain": [
              "[1, 3, 4, 5, 7]"
            ]
          },
          "execution_count": 69,
          "metadata": {},
          "output_type": "execute_result"
        }
      ],
      "source": [
        "# create a list\n",
        "num = [1, 4, 5, 7, 3]\n",
        "# sort the numeric elements\n",
        "num.sort()\n",
        "num"
      ]
    },
    {
      "cell_type": "markdown",
      "metadata": {
        "id": "d6_O86JfWpXq"
      },
      "source": [
        "# We can convert a string to a list using <code>split</code>.  For example, the method <code>split</code> translates every group of characters separated by a space into an element in a list:"
      ]
    },
    {
      "cell_type": "code",
      "execution_count": null,
      "metadata": {
        "id": "JwYnOJpAWpXq",
        "outputId": "9a0f2c93-259d-42d9-be9f-acd3c36274cf"
      },
      "outputs": [
        {
          "data": {
            "text/plain": [
              "['hard', 'rock']"
            ]
          },
          "execution_count": 70,
          "metadata": {},
          "output_type": "execute_result"
        }
      ],
      "source": [
        "# Split the string, default is by space\n",
        "\n",
        "'hard rock'.split()"
      ]
    },
    {
      "cell_type": "code",
      "execution_count": null,
      "metadata": {
        "id": "L1N6zas_WpXr",
        "outputId": "272245a6-f1ff-4246-899e-477a1b0bb57b"
      },
      "outputs": [
        {
          "data": {
            "text/plain": [
              "['India', 'is', 'Great']"
            ]
          },
          "execution_count": 71,
          "metadata": {},
          "output_type": "execute_result"
        }
      ],
      "source": [
        "# Split the string, default is by space\n",
        "\n",
        "'India is Great'.split()"
      ]
    },
    {
      "cell_type": "raw",
      "metadata": {
        "id": "XvafD2A0WpXr"
      },
      "source": [
        "We can use the split function to separate strings on a specific character. We pass the character we would like to split on into the argument, which in this case is a comma. \n",
        "\n",
        "The result is a list, and each element corresponds to a set of characters that have been separated by a comma:"
      ]
    },
    {
      "cell_type": "code",
      "execution_count": null,
      "metadata": {
        "id": "PRFAhpw2WpXs",
        "outputId": "b6ce6683-3b18-431d-82fe-0da1b98f1197"
      },
      "outputs": [
        {
          "data": {
            "text/plain": [
              "['AB', 'C', 'D']"
            ]
          },
          "execution_count": 72,
          "metadata": {},
          "output_type": "execute_result"
        }
      ],
      "source": [
        "# Split the string by comma\n",
        "\n",
        "'AB,C,D'.split(',')"
      ]
    },
    {
      "cell_type": "markdown",
      "metadata": {
        "id": "NWAoPGVMWpXt"
      },
      "source": [
        "# <h3 id=\"co\">Copy and Clone List</h3>"
      ]
    },
    {
      "cell_type": "markdown",
      "metadata": {
        "id": "-xRDjVu0WpXt"
      },
      "source": [
        "When we set one variable <b>B</b> equal to <b>A</b>; both <b>A</b> and <b>B</b> are referencing the same list in memory:"
      ]
    },
    {
      "cell_type": "code",
      "execution_count": null,
      "metadata": {
        "id": "qWRN53AyWpXu",
        "outputId": "56ea3033-e537-4e05-ffbe-b11f9cf070a2"
      },
      "outputs": [
        {
          "name": "stdout",
          "output_type": "stream",
          "text": [
            "A: ['hard rock', 10, 1.2]\n",
            "B: ['hard rock', 10, 1.2]\n"
          ]
        }
      ],
      "source": [
        "# Copy (copy by reference) the list A\n",
        "\n",
        "A = [\"hard rock\", 10, 1.2]\n",
        "B = A\n",
        "print('A:', A)\n",
        "print('B:', B)"
      ]
    },
    {
      "cell_type": "markdown",
      "metadata": {
        "id": "9bIVCdLkWpXv"
      },
      "source": [
        "<img src=\"https://s3-api.us-geo.objectstorage.softlayer.net/cf-courses-data/CognitiveClass/PY0101EN/Chapter%202/Images/ListsRef.png\" width=\"1000\" align=\"center\">"
      ]
    },
    {
      "cell_type": "markdown",
      "metadata": {
        "id": "8TTVhaJkWpXv"
      },
      "source": [
        "Initially, the value of the first element in <b>B</b> is set as hard rock. If we change the first element in <b>A</b> to <b>banana</b>, we get an unexpected side effect.  As <b>A</b> and <b>B</b> are referencing the same list, if we change list <b>A</b>, then list <b>B</b> also changes. If we check the first element of <b>B</b> we get banana instead of hard rock:"
      ]
    },
    {
      "cell_type": "code",
      "execution_count": null,
      "metadata": {
        "id": "wMRI71cgWpXv",
        "outputId": "a8a705c1-68c5-48d1-ed15-7c20b4276eb5"
      },
      "outputs": [
        {
          "name": "stdout",
          "output_type": "stream",
          "text": [
            "B[0]: hard rock\n",
            "B[0]: banana\n"
          ]
        }
      ],
      "source": [
        "# Examine the copy by reference\n",
        "\n",
        "print('B[0]:', B[0])\n",
        "A[0] = \"banana\"\n",
        "print('B[0]:', B[0])"
      ]
    },
    {
      "cell_type": "markdown",
      "metadata": {
        "id": "KFoJS8hNWpXw"
      },
      "source": [
        "<img src = \"https://s3-api.us-geo.objectstorage.softlayer.net/cf-courses-data/CognitiveClass/PY0101EN/Chapter%202/Images/ListsRefGif.gif\" width=\"1000\" />"
      ]
    },
    {
      "cell_type": "raw",
      "metadata": {
        "id": "BKuQo0egWpXw"
      },
      "source": [
        "You can clone list A by using the following syntax:"
      ]
    },
    {
      "cell_type": "code",
      "execution_count": null,
      "metadata": {
        "id": "qMHYSIQ0WpXx",
        "outputId": "cb59e29b-140e-4f7d-be2c-c65259f00a2f"
      },
      "outputs": [
        {
          "data": {
            "text/plain": [
              "['banana', 10, 1.2]"
            ]
          },
          "execution_count": 76,
          "metadata": {},
          "output_type": "execute_result"
        }
      ],
      "source": [
        "# Clone (clone by value) the list A\n",
        "\n",
        "B = A[:]\n",
        "B"
      ]
    },
    {
      "cell_type": "markdown",
      "metadata": {
        "id": "FS9bG_9lWpXx"
      },
      "source": [
        " Variable **B** references a new copy or clone of the original list; this is demonstrated in the following figure:"
      ]
    },
    {
      "cell_type": "markdown",
      "metadata": {
        "id": "jfnfcpnRWpXy"
      },
      "source": [
        "<img src=\"https://s3-api.us-geo.objectstorage.softlayer.net/cf-courses-data/CognitiveClass/PY0101EN/Chapter%202/Images/ListsVal.gif\" width=\"1000\" />"
      ]
    },
    {
      "cell_type": "raw",
      "metadata": {
        "id": "ehWHDTLmWpXy"
      },
      "source": [
        "Now if you change A, B will not change:"
      ]
    },
    {
      "cell_type": "code",
      "execution_count": null,
      "metadata": {
        "id": "6icxA5aeWpXz",
        "outputId": "0865af0f-3a3f-42c0-ab56-634cb01ac664"
      },
      "outputs": [
        {
          "name": "stdout",
          "output_type": "stream",
          "text": [
            "B[0]: banana\n",
            "B[0]: banana\n"
          ]
        }
      ],
      "source": [
        "print('B[0]:', B[0])\n",
        "A[0] = \"hard rock\"\n",
        "print('B[0]:', B[0])"
      ]
    },
    {
      "cell_type": "markdown",
      "metadata": {
        "id": "opVOXEzcWpX0"
      },
      "source": [
        "# List Comprehension"
      ]
    },
    {
      "cell_type": "raw",
      "metadata": {
        "id": "9hpagty7WpX0"
      },
      "source": [
        "1. List comprehensions are used for creating new lists from other iterables like tuples, strings, arrays, lists, etc.\n",
        "\n",
        "2. A list comprehension consists of brackets containing the expression, which is executed for each element along with the for loop to iterate over each element"
      ]
    },
    {
      "cell_type": "raw",
      "metadata": {
        "id": "nxMICRRDWpX2"
      },
      "source": [
        "Syntax:\n",
        "\n",
        "newList = [ expression(element) for element in oldList if condition ]"
      ]
    },
    {
      "cell_type": "code",
      "execution_count": null,
      "metadata": {
        "id": "TqR-0ssaWpX3",
        "outputId": "477955a4-fe84-4b12-e535-8cd049340937"
      },
      "outputs": [
        {
          "name": "stdout",
          "output_type": "stream",
          "text": [
            "[1, 9, 25, 49, 81]\n"
          ]
        }
      ],
      "source": [
        "# Python program to demonstrate list\n",
        "# comprehension in Python\n",
        "\n",
        "# below list contains square of all\n",
        "# odd numbers from range 1 to 10\n",
        "odd_square = [x ** 2 for x in range(1, 11) if x % 2 == 1]\n",
        "print (odd_square)\n"
      ]
    },
    {
      "cell_type": "raw",
      "metadata": {
        "id": "-B24MybBWpX3"
      },
      "source": [
        "For better understanding, the above code is similar to – "
      ]
    },
    {
      "cell_type": "code",
      "execution_count": null,
      "metadata": {
        "id": "H9xW2z_rWpX3",
        "outputId": "e53a65f9-77e6-4f8d-f17e-6a304a94bbbc"
      },
      "outputs": [
        {
          "name": "stdout",
          "output_type": "stream",
          "text": [
            "[1, 9, 25, 49, 81]\n"
          ]
        }
      ],
      "source": [
        "# for understanding, above generation is same as,\n",
        "odd_square = []\n",
        "\n",
        "for x in range(1, 11):\n",
        "\tif x % 2 == 1:\n",
        "\t\todd_square.append(x**2)\n",
        "\n",
        "print (odd_square)\n"
      ]
    },
    {
      "cell_type": "code",
      "execution_count": null,
      "metadata": {
        "id": "fN63NPlUWpX4"
      },
      "outputs": [],
      "source": [
        ""
      ]
    },
    {
      "cell_type": "code",
      "execution_count": null,
      "metadata": {
        "id": "F7hOuGuUWpX4"
      },
      "outputs": [],
      "source": [
        ""
      ]
    },
    {
      "cell_type": "code",
      "execution_count": null,
      "metadata": {
        "id": "T0wPJM7eWpX4"
      },
      "outputs": [],
      "source": [
        ""
      ]
    },
    {
      "cell_type": "raw",
      "metadata": {
        "id": "Lqcgrd2fWpX4"
      },
      "source": [
        "There are four collection data types in the Python programming language:\n",
        "\n",
        "1. List is a collection which is ordered and changeable. ...\n",
        "\n",
        "\n",
        "2. Tuple is a collection which is ordered and unchangeable. ...\n",
        "\n",
        "\n",
        "3. Set is a collection which is unordered, unchangeable*, and unindexed. ...\n",
        "\n",
        "\n",
        "4. Dictionary is a collection which is ordered** and changeable."
      ]
    },
    {
      "cell_type": "code",
      "execution_count": null,
      "metadata": {
        "id": "3Bxrdi-fWpX5"
      },
      "outputs": [],
      "source": [
        ""
      ]
    }
  ],
  "metadata": {
    "kernelspec": {
      "display_name": "Python 3",
      "language": "python",
      "name": "python3"
    },
    "language_info": {
      "codemirror_mode": {
        "name": "ipython",
        "version": 3
      },
      "file_extension": ".py",
      "mimetype": "text/x-python",
      "name": "python",
      "nbconvert_exporter": "python",
      "pygments_lexer": "ipython3",
      "version": "3.8.5"
    },
    "colab": {
      "name": "Python Data Types -LIST.ipynb",
      "provenance": [],
      "include_colab_link": true
    }
  },
  "nbformat": 4,
  "nbformat_minor": 0
}