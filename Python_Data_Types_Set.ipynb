{
  "cells": [
    {
      "cell_type": "markdown",
      "metadata": {
        "id": "view-in-github",
        "colab_type": "text"
      },
      "source": [
        "<a href=\"https://colab.research.google.com/github/omvishal1/python-practice/blob/main/Python_Data_Types_Set.ipynb\" target=\"_parent\"><img src=\"https://colab.research.google.com/assets/colab-badge.svg\" alt=\"Open In Colab\"/></a>"
      ]
    },
    {
      "cell_type": "markdown",
      "metadata": {
        "id": "vGBARKIHk8ei"
      },
      "source": [
        "# Python Data Types"
      ]
    },
    {
      "cell_type": "code",
      "execution_count": null,
      "metadata": {
        "id": "CQKdvR3Ek8eq"
      },
      "outputs": [],
      "source": [
        "Data ---> Information\n",
        "\n",
        "\n",
        "Type: What kind of Information\n",
        "    \n",
        "    \n",
        "1. Numbers: INT/FLOAT/Complex Numbers\n",
        "\n",
        "2. Text: Strings\n",
        "    \n",
        "3. Boolean: True\n",
        "        \n",
        "Images/Video---> Pixel----> Numbers\n",
        "\n",
        "Audio----> Frequency-------> Numbers\n",
        "\n",
        "LIST\n",
        "\n",
        "Tuple\n",
        "\n",
        "Set\n",
        "\n",
        "Dictionary\n"
      ]
    },
    {
      "cell_type": "code",
      "execution_count": null,
      "metadata": {
        "id": "E7wcibC3k8eu"
      },
      "outputs": [],
      "source": [
        "Generating Data----> Store---> a=[1,2,3,4,5,6,7,.......]"
      ]
    },
    {
      "cell_type": "raw",
      "metadata": {
        "id": "iGHwnSCck8ev"
      },
      "source": [
        "Data types are the classification or categorization of data items. \n",
        "\n",
        "It represents the kind of value that tells what operations can be performed on a particular data. \n",
        "\n",
        "Since everything is an object in Python programming, data types are actually classes and variables are instance (object) of these classes."
      ]
    },
    {
      "cell_type": "raw",
      "metadata": {
        "id": "57ULLrnek8ew"
      },
      "source": [
        "Variables can hold values, and every value has a data-type. \n",
        "\n",
        "Python is a dynamically typed language; hence we do not need to define the type of the variable while declaring it. \n",
        "\n",
        "The interpreter implicitly binds the value with its type.\n",
        "\n",
        "a = 5  \n",
        "\n",
        "The variable a holds integer value five and we did not define its type. Python interpreter will automatically interpret variables a as an integer type.\n",
        "\n",
        "Python enables us to check the type of the variable used in the program. Python provides us the type() function, which returns the type of the variable passed.\n",
        "\n"
      ]
    },
    {
      "cell_type": "raw",
      "metadata": {
        "id": "gOpm8vhBk8ey"
      },
      "source": [
        "Consider the following example to define the values of different data types and checking its type."
      ]
    },
    {
      "cell_type": "code",
      "execution_count": null,
      "metadata": {
        "id": "044n6aJkk8ez",
        "outputId": "4279b903-ca06-4409-b25a-10a78e859501"
      },
      "outputs": [
        {
          "name": "stdout",
          "output_type": "stream",
          "text": [
            "<class 'int'>\n",
            "<class 'str'>\n",
            "<class 'float'>\n"
          ]
        }
      ],
      "source": [
        "\n",
        "a=10  \n",
        "b=\"Hi Python\"  \n",
        "c = 10.5  \n",
        "print(type(a))  \n",
        "print(type(b))  \n",
        "print(type(c)) "
      ]
    },
    {
      "cell_type": "markdown",
      "metadata": {
        "id": "lRa5mEPYk8e2"
      },
      "source": [
        "# Standard data types"
      ]
    },
    {
      "cell_type": "raw",
      "metadata": {
        "id": "A7DzyRvqk8e3"
      },
      "source": [
        "A variable can hold different types of values. For example, a person's name must be stored as a string whereas its id must be stored as an integer.\n",
        "\n",
        "Python provides various standard data types that define the storage method on each of them. The data types defined in Python are given below.\n",
        "\n",
        "1. Numbers (int/Flaot/Complex)\n",
        "\n",
        "2. Sequence Type (String/List/Tuple)\n",
        "\n",
        "3. Boolean\n",
        "\n",
        "4. Set\n",
        "\n",
        "5. Dictionary\n"
      ]
    },
    {
      "cell_type": "markdown",
      "metadata": {
        "id": "M_f8V8s7k8e5"
      },
      "source": [
        "![](1.png)\n"
      ]
    },
    {
      "cell_type": "markdown",
      "metadata": {
        "id": "2FWr6jKrk8e6"
      },
      "source": [
        "# Set"
      ]
    },
    {
      "cell_type": "raw",
      "metadata": {
        "id": "GsCDDp0kk8e7"
      },
      "source": [
        "1. A set is a collection which is unordered, unchangeable*, and unindexed.\n",
        "\n",
        "* Note: Set items are unchangeable, but you can remove items and add new items.\n",
        "\n",
        "2. A set is a unique collection of objects in Python. \n",
        "\n",
        "3. You can denote a set with a curly bracket <b>{}</b>. Python will automatically remove duplicate items:\n",
        "\n",
        "4. A Python set is the collection of the unordered items. Each element in the set must be unique, immutable, and the sets remove the duplicate elements. \n",
        "\n",
        "5. Sets are mutable which means we can modify it after its creation.\n",
        "\n",
        "6. Unlike other collections in Python, there is no index attached to the elements of the set, i.e., we cannot directly access any element of the set by the index. However, we can print them all together, or we can get the list of elements by looping through the set."
      ]
    },
    {
      "cell_type": "markdown",
      "metadata": {
        "id": "CBebYFY9k8e8"
      },
      "source": [
        "# Creating a set"
      ]
    },
    {
      "cell_type": "raw",
      "metadata": {
        "id": "oi61AxbMk8e8"
      },
      "source": [
        "The set can be created by enclosing the comma-separated immutable items with the curly braces {}. Python also provides the set() method, which can be used to create the set by the passed sequence."
      ]
    },
    {
      "cell_type": "code",
      "execution_count": null,
      "metadata": {
        "id": "RfJJG_aYk8e9",
        "outputId": "242678a3-141e-4f0d-ceb8-abd5c3349b99"
      },
      "outputs": [
        {
          "data": {
            "text/plain": [
              "{}"
            ]
          },
          "execution_count": 101,
          "metadata": {},
          "output_type": "execute_result"
        }
      ],
      "source": [
        "# creating empty set\n",
        "\n",
        "a={}\n",
        "a"
      ]
    },
    {
      "cell_type": "code",
      "execution_count": null,
      "metadata": {
        "id": "FC__15-wk8e-",
        "outputId": "69008c1e-bc02-4cf8-f4d8-6a39890da4dc"
      },
      "outputs": [
        {
          "data": {
            "text/plain": [
              "dict"
            ]
          },
          "execution_count": 102,
          "metadata": {},
          "output_type": "execute_result"
        }
      ],
      "source": [
        "type(a)"
      ]
    },
    {
      "cell_type": "raw",
      "metadata": {
        "id": "FveIx8Mek8e_"
      },
      "source": [
        "Creating an empty set is a bit different because empty curly {} braces are also used to create a dictionary as well. So Python provides the set() method used without an argument to create an empty set."
      ]
    },
    {
      "cell_type": "code",
      "execution_count": null,
      "metadata": {
        "id": "6gNyKtLqk8fA",
        "outputId": "d18dac5f-8bf3-48d7-c893-fe15044c9ef4"
      },
      "outputs": [
        {
          "name": "stdout",
          "output_type": "stream",
          "text": [
            "<class 'dict'>\n",
            "<class 'set'>\n"
          ]
        }
      ],
      "source": [
        "# Empty curly braces will create dictionary  \n",
        "set3 = {}  \n",
        "print(type(set3))  \n",
        "  \n",
        "# Empty set using set() function  \n",
        "set4 = set()  \n",
        "print(type(set4))  "
      ]
    },
    {
      "cell_type": "code",
      "execution_count": null,
      "metadata": {
        "id": "Q8Lv1ljGk8fB",
        "outputId": "2806ec1c-d4b4-464c-f7c8-9d7692565017"
      },
      "outputs": [
        {
          "name": "stdout",
          "output_type": "stream",
          "text": [
            "{'Wednesday', 'Tuesday', 'Monday', 'Sunday', 'Thursday', 'Friday', 'Saturday'}\n",
            "<class 'set'>\n"
          ]
        }
      ],
      "source": [
        "Days = {\"Monday\", \"Tuesday\", \"Wednesday\", \"Thursday\", \"Friday\", \"Saturday\", \"Sunday\"}    \n",
        "print(Days)    \n",
        "print(type(Days)) "
      ]
    },
    {
      "cell_type": "markdown",
      "metadata": {
        "id": "oWX3Zlx4k8fB"
      },
      "source": [
        "# Example 2: Using set() method"
      ]
    },
    {
      "cell_type": "code",
      "execution_count": null,
      "metadata": {
        "id": "OiHq1H6Uk8fC"
      },
      "outputs": [],
      "source": [
        "list()\n",
        "\n",
        "tuple()\n",
        "\n",
        "dict()\n",
        "\n",
        "set()\n",
        "\n"
      ]
    },
    {
      "cell_type": "code",
      "execution_count": null,
      "metadata": {
        "id": "J4y_xCIek8fC",
        "outputId": "22ba9ed7-3aa4-4a81-9e9f-e23242ca83ba"
      },
      "outputs": [
        {
          "name": "stdout",
          "output_type": "stream",
          "text": [
            "{'Wednesday', 'Tuesday', 'Monday', 'Sunday', 'Thursday', 'Friday', 'Saturday'}\n",
            "<class 'set'>\n"
          ]
        }
      ],
      "source": [
        "Days = set([\"Monday\", \"Tuesday\", \"Wednesday\", \"Thursday\", \"Friday\", \"Saturday\", \"Sunday\"])    \n",
        "print(Days)    \n",
        "print(type(Days)) "
      ]
    },
    {
      "cell_type": "code",
      "execution_count": null,
      "metadata": {
        "id": "oJD40KeHk8fD",
        "outputId": "028d63ef-359e-422f-e618-2afa93579689"
      },
      "outputs": [
        {
          "name": "stdout",
          "output_type": "stream",
          "text": [
            "{'a', 'c', 'b'}\n",
            "{'a', 'd', 'c', 'b'}\n"
          ]
        }
      ],
      "source": [
        "# Python program to\n",
        "# demonstrate sets\n",
        "\n",
        "# Same as {\"a\", \"b\", \"c\"}\n",
        "myset = set([\"a\", \"b\", \"c\"])\n",
        "print(myset)\n",
        "\n",
        "# Adding element to the set\n",
        "myset.add(\"d\")\n",
        "print(myset)\n"
      ]
    },
    {
      "cell_type": "markdown",
      "metadata": {
        "id": "4DE2rb--k8fD"
      },
      "source": [
        "# You can also create a set from a list as follows:"
      ]
    },
    {
      "cell_type": "code",
      "execution_count": null,
      "metadata": {
        "id": "kZ1xovNzk8fD",
        "outputId": "2cc3324a-ec6b-4d2c-aec6-cdbec4addf1e"
      },
      "outputs": [
        {
          "name": "stdout",
          "output_type": "stream",
          "text": [
            "['Michael Jackson', 'Thriller', 1982, '00:42:19', 'Pop, Rock, R&B', 46.0, 65, '30-Nov-82', None, 10.0, 'Thriller']\n",
            "Michael Jackson\n",
            "{65, 'Thriller', None, 10.0, 'Michael Jackson', 46.0, '30-Nov-82', '00:42:19', 1982, 'Pop, Rock, R&B'}\n"
          ]
        }
      ],
      "source": [
        "# Convert list to set\n",
        "\n",
        "album_list = [ \"Michael Jackson\", \"Thriller\", 1982, \"00:42:19\", \\\n",
        "              \"Pop, Rock, R&B\", 46.0, 65, \"30-Nov-82\", None, 10.0,\"Thriller\"]\n",
        "print(album_list)\n",
        "print(album_list[0])\n",
        "album_set = set(album_list)   \n",
        "\n",
        "print(album_set)"
      ]
    },
    {
      "cell_type": "code",
      "execution_count": null,
      "metadata": {
        "id": "uSRQX5Jvk8fE",
        "outputId": "6708e3bb-a111-4ab6-d5c2-bbec6362c09f"
      },
      "outputs": [
        {
          "ename": "TypeError",
          "evalue": "'set' object is not subscriptable",
          "output_type": "error",
          "traceback": [
            "\u001b[1;31m---------------------------------------------------------------------------\u001b[0m",
            "\u001b[1;31mTypeError\u001b[0m                                 Traceback (most recent call last)",
            "\u001b[1;32m<ipython-input-117-6858e31dde52>\u001b[0m in \u001b[0;36m<module>\u001b[1;34m\u001b[0m\n\u001b[1;32m----> 1\u001b[1;33m \u001b[0malbum_set\u001b[0m\u001b[1;33m[\u001b[0m\u001b[1;36m0\u001b[0m\u001b[1;33m]\u001b[0m\u001b[1;33m\u001b[0m\u001b[1;33m\u001b[0m\u001b[0m\n\u001b[0m",
            "\u001b[1;31mTypeError\u001b[0m: 'set' object is not subscriptable"
          ]
        }
      ],
      "source": [
        "album_set[0]"
      ]
    },
    {
      "cell_type": "code",
      "execution_count": null,
      "metadata": {
        "id": "6sk3z75Yk8fE",
        "outputId": "dacd38f7-2630-4c0f-87ca-b70768d318fa"
      },
      "outputs": [
        {
          "ename": "TypeError",
          "evalue": "'set' object does not support item assignment",
          "output_type": "error",
          "traceback": [
            "\u001b[1;31m---------------------------------------------------------------------------\u001b[0m",
            "\u001b[1;31mTypeError\u001b[0m                                 Traceback (most recent call last)",
            "\u001b[1;32m<ipython-input-119-cc224f88eb4a>\u001b[0m in \u001b[0;36m<module>\u001b[1;34m\u001b[0m\n\u001b[1;32m----> 1\u001b[1;33m \u001b[0malbum_set\u001b[0m\u001b[1;33m[\u001b[0m\u001b[1;36m0\u001b[0m\u001b[1;33m]\u001b[0m\u001b[1;33m=\u001b[0m\u001b[1;36m9\u001b[0m\u001b[1;33m\u001b[0m\u001b[1;33m\u001b[0m\u001b[0m\n\u001b[0m",
            "\u001b[1;31mTypeError\u001b[0m: 'set' object does not support item assignment"
          ]
        }
      ],
      "source": [
        "album_set[0]=9"
      ]
    },
    {
      "cell_type": "code",
      "execution_count": null,
      "metadata": {
        "id": "16QgflpJk8fF",
        "outputId": "367b0f5d-d93e-4bf2-9961-a70cfb1ea8b7"
      },
      "outputs": [
        {
          "data": {
            "text/plain": [
              "{'R&B',\n",
              " 'disco',\n",
              " 'folk rock',\n",
              " 'hard rock',\n",
              " 'pop',\n",
              " 'progressive rock',\n",
              " 'rock',\n",
              " 'soft rock',\n",
              " 'soul'}"
            ]
          },
          "execution_count": 120,
          "metadata": {},
          "output_type": "execute_result"
        }
      ],
      "source": [
        "# Convert list to set\n",
        "\n",
        "music_genres = set([\"pop\", \"pop\", \"rock\", \"folk rock\", \"hard rock\", \"soul\", \\\n",
        "                    \"progressive rock\", \"soft rock\", \"R&B\", \"disco\"])\n",
        "music_genres"
      ]
    },
    {
      "cell_type": "markdown",
      "metadata": {
        "id": "VpxZs4kzk8fF"
      },
      "source": [
        "# You can also create a set from a tuple as follows:"
      ]
    },
    {
      "cell_type": "code",
      "execution_count": null,
      "metadata": {
        "id": "rAmhZiH7k8fG",
        "outputId": "ac526899-33e6-4132-8c5c-b7b177e32545"
      },
      "outputs": [
        {
          "data": {
            "text/plain": [
              "{'bag', 'kurti', 'sneakers', 't-shirt'}"
            ]
          },
          "execution_count": 121,
          "metadata": {},
          "output_type": "execute_result"
        }
      ],
      "source": [
        "# create a set using set constructor\n",
        "obj = set((\"bag\", \"kurti\", \"sneakers\", \"t-shirt\"))\n",
        "obj"
      ]
    },
    {
      "cell_type": "markdown",
      "metadata": {
        "id": "-25FZ6tRk8fG"
      },
      "source": [
        "# Set Items\n",
        "\n",
        "Set items are unordered, unchangeable, and do not allow duplicate values."
      ]
    },
    {
      "cell_type": "markdown",
      "metadata": {
        "id": "He9u_3wCk8fG"
      },
      "source": [
        "# Unordered\n",
        "\n",
        "Unordered means that the items in a set do not have a defined order.\n",
        "\n",
        "Set items can appear in a different order every time you use them, and cannot be referred to by index or key."
      ]
    },
    {
      "cell_type": "markdown",
      "metadata": {
        "id": "EauGat_ak8fH"
      },
      "source": [
        "# Unchangeable\n",
        "\n",
        "Set items are unchangeable, meaning that we cannot change the items after the set has been created.\n",
        "\n",
        "Once a set is created, you cannot change its items, but you can remove items and add new items."
      ]
    },
    {
      "cell_type": "raw",
      "metadata": {
        "id": "CpzXHzijk8fH"
      },
      "source": [
        "Every set element is unique (no duplicates) and must be immutable (cannot be changed). However, a set itself is mutable. We can add or remove items from it."
      ]
    },
    {
      "cell_type": "markdown",
      "metadata": {
        "id": "KODXP7Jvk8fH"
      },
      "source": [
        "# Duplicates Not Allowed\n",
        "Sets cannot have two items with the same value."
      ]
    },
    {
      "cell_type": "code",
      "execution_count": null,
      "metadata": {
        "id": "eNCbl8ejk8fH",
        "outputId": "3e13346c-3909-4a83-bd57-05765819b726"
      },
      "outputs": [
        {
          "name": "stdout",
          "output_type": "stream",
          "text": [
            "{'apple', 'banana', 'cherry'}\n"
          ]
        }
      ],
      "source": [
        "thisset = {\"apple\", \"banana\", \"cherry\", \"apple\"}\n",
        "\n",
        "print(thisset)"
      ]
    },
    {
      "cell_type": "code",
      "execution_count": null,
      "metadata": {
        "id": "53lZ-QYYk8fI",
        "outputId": "044e047a-611d-4dfb-c015-5401d0437e3a"
      },
      "outputs": [
        {
          "data": {
            "text/plain": [
              "['pop', 'rock', 'soul', 'hard rock', 'rock', 'R&B', 'rock', 'disco']"
            ]
          },
          "execution_count": 123,
          "metadata": {},
          "output_type": "execute_result"
        }
      ],
      "source": [
        "# Create a set\n",
        "\n",
        "set2 = [\"pop\", \"rock\", \"soul\", \"hard rock\", \"rock\", \"R&B\", \"rock\", \"disco\"]\n",
        "set2"
      ]
    },
    {
      "cell_type": "markdown",
      "metadata": {
        "id": "hdYsDBIZk8fI"
      },
      "source": [
        "<img src=\"https://s3-api.us-geo.objectstorage.softlayer.net/cf-courses-data/CognitiveClass/PY0101EN/Chapter%202/Images/SetsUnique.png\" width=\"1100\" />"
      ]
    },
    {
      "cell_type": "markdown",
      "metadata": {
        "id": "MjyAtp1Ek8fJ"
      },
      "source": [
        "# Get the Length of a Set"
      ]
    },
    {
      "cell_type": "code",
      "execution_count": null,
      "metadata": {
        "id": "FkGOxoaHk8fJ",
        "outputId": "54f97bb8-b033-48ed-e535-b8309743ac2e"
      },
      "outputs": [
        {
          "name": "stdout",
          "output_type": "stream",
          "text": [
            "3\n"
          ]
        }
      ],
      "source": [
        "#To determine how many items a set has, use the len() method.\n",
        "\n",
        "#Example: Get the number of items in a set:\n",
        "\n",
        "thisset = {\"apple\", \"banana\", \"cherry\"}\n",
        "\n",
        "print(len(thisset))"
      ]
    },
    {
      "cell_type": "markdown",
      "metadata": {
        "id": "_PRvmTtkk8fJ"
      },
      "source": [
        "# Set Items - Data Types\n",
        "Set items can be of any data type:"
      ]
    },
    {
      "cell_type": "code",
      "execution_count": null,
      "metadata": {
        "id": "jbCIApLtk8fJ"
      },
      "outputs": [],
      "source": [
        "#Example: String, int and boolean data types:\n",
        "\n",
        "set1 = {\"apple\", \"banana\", \"cherry\"}\n",
        "set2 = {1, 5, 7, 9, 3}\n",
        "set3 = {True, False, False}"
      ]
    },
    {
      "cell_type": "markdown",
      "metadata": {
        "id": "E1QooV3sk8fJ"
      },
      "source": [
        "# Access Elements"
      ]
    },
    {
      "cell_type": "code",
      "execution_count": null,
      "metadata": {
        "id": "AKDcYo00k8fK",
        "outputId": "85d2e0ee-4f1b-4327-d772-70f74eeacc1d"
      },
      "outputs": [
        {
          "data": {
            "text/plain": [
              "{'bag', 'kurti', 'sneakers', 't-shirt'}"
            ]
          },
          "execution_count": 125,
          "metadata": {},
          "output_type": "execute_result"
        }
      ],
      "source": [
        "obj4= {\"bag\", \"kurti\", \"sneakers\", \"t-shirt\"}\n",
        "obj4"
      ]
    },
    {
      "cell_type": "code",
      "execution_count": null,
      "metadata": {
        "id": "MIEBE0P1k8fK",
        "outputId": "a7b2d51d-a732-4155-9064-d4dbc94ac641"
      },
      "outputs": [
        {
          "ename": "TypeError",
          "evalue": "'set' object is not subscriptable",
          "output_type": "error",
          "traceback": [
            "\u001b[1;31m---------------------------------------------------------------------------\u001b[0m",
            "\u001b[1;31mTypeError\u001b[0m                                 Traceback (most recent call last)",
            "\u001b[1;32m<ipython-input-126-190037373235>\u001b[0m in \u001b[0;36m<module>\u001b[1;34m\u001b[0m\n\u001b[1;32m----> 1\u001b[1;33m \u001b[0mobj4\u001b[0m\u001b[1;33m[\u001b[0m\u001b[1;36m1\u001b[0m\u001b[1;33m]\u001b[0m\u001b[1;33m\u001b[0m\u001b[1;33m\u001b[0m\u001b[0m\n\u001b[0m",
            "\u001b[1;31mTypeError\u001b[0m: 'set' object is not subscriptable"
          ]
        }
      ],
      "source": [
        "obj4[1]\n"
      ]
    },
    {
      "cell_type": "markdown",
      "metadata": {
        "id": "YVepF8Gok8fK"
      },
      "source": [
        "# Set is not Mutable"
      ]
    },
    {
      "cell_type": "code",
      "execution_count": null,
      "metadata": {
        "id": "3P4atAgok8fK",
        "outputId": "ca2783e5-ae96-4b3b-b439-dc0cd5eaccbd"
      },
      "outputs": [
        {
          "data": {
            "text/plain": [
              "{'bag', 'kurti', 'sneakers', 't-shirt'}"
            ]
          },
          "execution_count": 46,
          "metadata": {},
          "output_type": "execute_result"
        }
      ],
      "source": [
        "obj4= {\"bag\", \"kurti\", \"sneakers\", \"t-shirt\"}\n",
        "obj4"
      ]
    },
    {
      "cell_type": "code",
      "execution_count": null,
      "metadata": {
        "id": "p2dVETOuk8fL",
        "outputId": "e4185f5d-8d50-4f3a-fc7a-7da165bb9791"
      },
      "outputs": [
        {
          "ename": "TypeError",
          "evalue": "'set' object does not support item assignment",
          "output_type": "error",
          "traceback": [
            "\u001b[1;31m---------------------------------------------------------------------------\u001b[0m",
            "\u001b[1;31mTypeError\u001b[0m                                 Traceback (most recent call last)",
            "\u001b[1;32m<ipython-input-47-f12adb5fa6d8>\u001b[0m in \u001b[0;36m<module>\u001b[1;34m\u001b[0m\n\u001b[1;32m----> 1\u001b[1;33m \u001b[0mobj4\u001b[0m\u001b[1;33m[\u001b[0m\u001b[1;36m1\u001b[0m\u001b[1;33m]\u001b[0m\u001b[1;33m=\u001b[0m\u001b[1;34m'india'\u001b[0m\u001b[1;33m\u001b[0m\u001b[1;33m\u001b[0m\u001b[0m\n\u001b[0m\u001b[0;32m      2\u001b[0m \u001b[0mobj4\u001b[0m\u001b[1;33m\u001b[0m\u001b[1;33m\u001b[0m\u001b[0m\n",
            "\u001b[1;31mTypeError\u001b[0m: 'set' object does not support item assignment"
          ]
        }
      ],
      "source": [
        "obj4[1]='india'\n",
        "obj4"
      ]
    },
    {
      "cell_type": "markdown",
      "metadata": {
        "id": "y0DCpf5Kk8fL"
      },
      "source": [
        "# Note: We can not access elements in a set by referring to an index. Sets are unordered and unindexed"
      ]
    },
    {
      "cell_type": "markdown",
      "metadata": {
        "id": "lOhs8HdDk8fL"
      },
      "source": [
        "# Note: Once set is created we can not change its elements, but we can add new value"
      ]
    },
    {
      "cell_type": "markdown",
      "metadata": {
        "id": "fZKhHL2zk8fL"
      },
      "source": [
        "# Adding elements\n",
        "Insertion in set is done through set.add() function, where an appropriate record value is created to store in the hash table"
      ]
    },
    {
      "cell_type": "raw",
      "metadata": {
        "id": "FsyOZEnIk8fM"
      },
      "source": [
        "Python provides the add() method and update() method which can be used to add some particular item to the set. The add() method is used to add a single element whereas the update() method is used to add multiple elements to the set. Consider the following example."
      ]
    },
    {
      "cell_type": "markdown",
      "metadata": {
        "id": "vgOeI5gVk8fM"
      },
      "source": [
        "# Example: 1 - Using add() method"
      ]
    },
    {
      "cell_type": "code",
      "execution_count": null,
      "metadata": {
        "id": "d2BOtzeKk8fM",
        "outputId": "a332afbe-6f7a-4811-a3be-fd3f08bec2c8"
      },
      "outputs": [
        {
          "name": "stdout",
          "output_type": "stream",
          "text": [
            "\n",
            "printing the original set ... \n",
            "{'March', 'April', 'June', 'January', 'February', 'May'}\n",
            "\n",
            "Adding other months to the set...\n",
            "\n",
            "Printing the modified set...\n",
            "{'March', 'April', 'August', 'July', 'June', 'January', 'February', 'May'}\n",
            "{'March', 'April', 'August', 'July', 'June', 'January', 'February', 'May'}\n"
          ]
        }
      ],
      "source": [
        "Months = set([\"January\",\"February\", \"March\", \"April\", \"May\", \"June\"])    \n",
        "\n",
        "print(\"\\nprinting the original set ... \")    \n",
        "print(Months)    \n",
        "\n",
        "print(\"\\nAdding other months to the set...\");    \n",
        "Months.add(\"July\");    \n",
        "\n",
        "Months.add (\"August\");    \n",
        "print(\"\\nPrinting the modified set...\"); \n",
        "\n",
        "print(Months)    \n",
        "\n",
        "Months.add(\"August\")\n",
        "print(Months)\n",
        "   "
      ]
    },
    {
      "cell_type": "code",
      "execution_count": null,
      "metadata": {
        "id": "P9pLVrxSk8fM",
        "outputId": "282cf6cb-1086-4e77-8141-22ae782f40db"
      },
      "outputs": [
        {
          "name": "stdout",
          "output_type": "stream",
          "text": [
            "People: {'Archi', 'Jay', 'Idrish'}\n",
            "{'Archi', 'Daxit', 'Jay', 'Idrish'}\n",
            "\n",
            "Set after adding element: {1, 2, 3, 4, 5, 'Archi', 'Daxit', 'Jay', 'Idrish'}\n"
          ]
        }
      ],
      "source": [
        "# A Python program to\n",
        "# demonstrate adding elements\n",
        "# in a set\n",
        "\n",
        "# Creating a Set\n",
        "people = {\"Jay\", \"Idrish\", \"Archi\"}\n",
        "\n",
        "print(\"People:\", end = \" \")\n",
        "print(people)\n",
        "\n",
        "# This will add Daxit\n",
        "# in the set\n",
        "people.add(\"Daxit\")\n",
        "\n",
        "print(people)\n",
        "\n",
        "# Adding elements to the\n",
        "# set using iterator\n",
        "for i in range(1, 6):\n",
        "\tpeople.add(i)\n",
        "\n",
        "print(\"\\nSet after adding element:\", end = \" \")\n",
        "print(people)\n"
      ]
    },
    {
      "cell_type": "code",
      "execution_count": null,
      "metadata": {
        "id": "WeWMvEYvk8fN",
        "outputId": "ca1a73a6-1735-4c31-c853-96251c1883de"
      },
      "outputs": [
        {
          "name": "stdout",
          "output_type": "stream",
          "text": [
            "{'a', 'c', 'b'}\n",
            "{'a', 'd', 'c', 'b'}\n"
          ]
        }
      ],
      "source": [
        "# Python program to\n",
        "# demonstrate sets\n",
        "  \n",
        "# Same as {\"a\", \"b\", \"c\"}\n",
        "#myset = {\"a\", \"b\", \"c\"}\n",
        "myset = set([\"a\", \"b\", \"c\"])\n",
        "print(myset)\n",
        "  \n",
        "# Adding element to the set\n",
        "myset.add(\"d\")\n",
        "print(myset)"
      ]
    },
    {
      "cell_type": "markdown",
      "metadata": {
        "id": "cMsOSp9ok8fN"
      },
      "source": [
        "# Example - 2 Using update() function"
      ]
    },
    {
      "cell_type": "raw",
      "metadata": {
        "id": "TFdS4Gfyk8fN"
      },
      "source": [
        "To add more than one item in the set, Python provides the update() method. It accepts iterable as an argument.\n",
        "\n",
        "Consider the following example."
      ]
    },
    {
      "cell_type": "code",
      "execution_count": null,
      "metadata": {
        "id": "R-FZ9KLdk8fO",
        "outputId": "400ffc3d-c443-4d28-b883-7ea0b99fe386"
      },
      "outputs": [
        {
          "name": "stdout",
          "output_type": "stream",
          "text": [
            "\n",
            "printing the original set ... \n",
            "{'March', 'April', 'June', 'January', 'February', 'May'}\n",
            "\n",
            "updating the original set ... \n",
            "\n",
            "printing the modified set ... \n",
            "{'March', 'April', 'October', 'August', 'July', 'September', 'June', 'January', 'February', 'May'}\n"
          ]
        }
      ],
      "source": [
        "Months = set([\"January\",\"February\", \"March\", \"April\", \"May\", \"June\"])    \n",
        "\n",
        "print(\"\\nprinting the original set ... \")    \n",
        "print(Months)    \n",
        "print(\"\\nupdating the original set ... \")    \n",
        "\n",
        "Months.update([\"July\",\"August\",\"September\",\"October\"]);    \n",
        "print(\"\\nprinting the modified set ... \")     \n",
        "print(Months);"
      ]
    },
    {
      "cell_type": "markdown",
      "metadata": {
        "id": "ax4Am7ydk8fO"
      },
      "source": [
        "# Removing items from the set"
      ]
    },
    {
      "cell_type": "raw",
      "metadata": {
        "id": "GxelqTeqk8fO"
      },
      "source": [
        "Python provides the discard() method and remove() method which can be used to remove the items from the set. \n",
        "\n",
        "The difference between these function, using discard() function if the item does not exist in the set then the set remain unchanged whereas remove() method will through an error.\n",
        "\n",
        "Consider the following example."
      ]
    },
    {
      "cell_type": "markdown",
      "metadata": {
        "id": "CfAPZ74Bk8fO"
      },
      "source": [
        "# Example-1 Using discard() method"
      ]
    },
    {
      "cell_type": "code",
      "execution_count": null,
      "metadata": {
        "id": "UrTOO-mOk8fO",
        "outputId": "57654a1e-9dd3-4e48-c47c-123c16e0eb39"
      },
      "outputs": [
        {
          "name": "stdout",
          "output_type": "stream",
          "text": [
            "\n",
            "printing the original set ... \n",
            "{'March', 'April', 'June', 'January', 'February', 'May'}\n",
            "\n",
            "Removing some months from the set...\n",
            "\n",
            "Printing the modified set...\n",
            "{'March', 'April', 'June', 'February'}\n",
            "\n",
            "looping through the set elements ... \n"
          ]
        }
      ],
      "source": [
        "months = set([\"January\",\"February\", \"March\", \"April\", \"May\", \"June\"])    \n",
        "\n",
        "print(\"\\nprinting the original set ... \")    \n",
        "print(months)    \n",
        "print(\"\\nRemoving some months from the set...\");    \n",
        "\n",
        "months.discard(\"January\");    \n",
        "months.discard(\"May\");    \n",
        "\n",
        "print(\"\\nPrinting the modified set...\");    \n",
        "print(months)    \n",
        "print(\"\\nlooping through the set elements ... \")    \n",
        " "
      ]
    },
    {
      "cell_type": "code",
      "execution_count": null,
      "metadata": {
        "id": "SDfDS9Lsk8fP",
        "outputId": "3a46b2d5-319c-467f-9814-c31b54063470"
      },
      "outputs": [
        {
          "data": {
            "text/plain": [
              "{3.2, 3.3, 5.5, 5.6, 6.7}"
            ]
          },
          "execution_count": 66,
          "metadata": {},
          "output_type": "execute_result"
        }
      ],
      "source": [
        "# create a set\n",
        "height = {5.5, 6.7, 5.6, 3.2, 3.3,5.5}\n",
        "height"
      ]
    },
    {
      "cell_type": "code",
      "execution_count": null,
      "metadata": {
        "id": "QMOw8L4Yk8fP",
        "outputId": "f419354e-6dd8-438b-a03a-db9fbb59b1b9"
      },
      "outputs": [
        {
          "data": {
            "text/plain": [
              "{3.3, 5.5, 5.6, 6.7}"
            ]
          },
          "execution_count": 67,
          "metadata": {},
          "output_type": "execute_result"
        }
      ],
      "source": [
        "# remove element from the set\n",
        "height.discard(3.2)\n",
        "height"
      ]
    },
    {
      "cell_type": "raw",
      "metadata": {
        "id": "pB4JP9Xvk8fP"
      },
      "source": [
        "Python provides also the remove() method to remove the item from the set. Consider the following example to remove the items using remove() method."
      ]
    },
    {
      "cell_type": "markdown",
      "metadata": {
        "id": "EieY7KBGk8fQ"
      },
      "source": [
        "# Example-2 Using remove() function"
      ]
    },
    {
      "cell_type": "code",
      "execution_count": null,
      "metadata": {
        "id": "8rnyN5kEk8fQ",
        "outputId": "cd59fece-7c86-4267-bc25-57e1e420ef5c"
      },
      "outputs": [
        {
          "name": "stdout",
          "output_type": "stream",
          "text": [
            "\n",
            "printing the original set ... \n",
            "{'March', 'April', 'June', 'January', 'February', 'May'}\n",
            "\n",
            "Removing some months from the set...\n",
            "\n",
            "Printing the modified set...\n",
            "{'March', 'April', 'June', 'February'}\n"
          ]
        }
      ],
      "source": [
        "\n",
        "months = set([\"January\",\"February\", \"March\", \"April\", \"May\", \"June\"])    \n",
        "print(\"\\nprinting the original set ... \")    \n",
        "print(months)    \n",
        "print(\"\\nRemoving some months from the set...\");    \n",
        "months.remove(\"January\");    \n",
        "months.remove(\"May\");    \n",
        "print(\"\\nPrinting the modified set...\");    \n",
        "print(months)    "
      ]
    },
    {
      "cell_type": "raw",
      "metadata": {
        "id": "fKuQ7t3Ok8fQ"
      },
      "source": [
        "\n",
        "We can also use the pop() method to remove the item. Generally, the pop() method will always remove the last item but the set is unordered, we can't determine which element will be popped from set.\n",
        "\n",
        "Consider the following example to remove the item from the set using pop() method.\n",
        "\n",
        "\n"
      ]
    },
    {
      "cell_type": "code",
      "execution_count": null,
      "metadata": {
        "id": "dytRAwg6k8fQ",
        "outputId": "8d553eff-90a6-4519-94ba-178302ad51f9"
      },
      "outputs": [
        {
          "name": "stdout",
          "output_type": "stream",
          "text": [
            "\n",
            "printing the original set ... \n",
            "{'March', 'April', 'June', 'January', 'February', 'May'}\n",
            "\n",
            "Removing some months from the set...\n",
            "\n",
            "Printing the modified set...\n",
            "{'June', 'January', 'February', 'May'}\n"
          ]
        }
      ],
      "source": [
        "Months = set([\"January\",\"February\", \"March\", \"April\", \"May\", \"June\"])    \n",
        "print(\"\\nprinting the original set ... \")    \n",
        "print(Months)    \n",
        "print(\"\\nRemoving some months from the set...\");    \n",
        "Months.pop();    \n",
        "Months.pop();    \n",
        "print(\"\\nPrinting the modified set...\");    \n",
        "print(Months) \n"
      ]
    },
    {
      "cell_type": "code",
      "execution_count": null,
      "metadata": {
        "id": "S1d75aMXk8fR",
        "outputId": "4c208bbe-5881-440f-d721-b8a6c9ad887a"
      },
      "outputs": [
        {
          "data": {
            "text/plain": [
              "{2, 3, 4}"
            ]
          },
          "execution_count": 68,
          "metadata": {},
          "output_type": "execute_result"
        }
      ],
      "source": [
        "# create a first set\n",
        "num_1 = {1, 2, 3, 4}\n",
        "num_1.remove(1)\n",
        "num_1"
      ]
    },
    {
      "cell_type": "raw",
      "metadata": {
        "id": "rEarqPLJk8fR"
      },
      "source": [
        "In the above code, the last element of the Month set is March but the pop() method removed the June and January because the set is unordered and the pop() method could not determine the last element of the set.\n",
        "\n",
        "Python provides the clear() method to remove all the items from the set.\n",
        "\n",
        "Consider the following example."
      ]
    },
    {
      "cell_type": "code",
      "execution_count": null,
      "metadata": {
        "id": "Gu7KG6F5k8fR",
        "outputId": "1aca694c-d642-4747-a848-611209a7fbff"
      },
      "outputs": [
        {
          "name": "stdout",
          "output_type": "stream",
          "text": [
            "\n",
            "printing the original set ... \n",
            "{'March', 'April', 'June', 'January', 'February', 'May'}\n",
            "\n",
            "Removing all the items from the set...\n",
            "\n",
            "Printing the modified set...\n",
            "set()\n"
          ]
        }
      ],
      "source": [
        "Months = set([\"January\",\"February\", \"March\", \"April\", \"May\", \"June\"])    \n",
        "print(\"\\nprinting the original set ... \")    \n",
        "print(Months)    \n",
        "print(\"\\nRemoving all the items from the set...\");    \n",
        "Months.clear()    \n",
        "print(\"\\nPrinting the modified set...\")    \n",
        "print(Months)   \n"
      ]
    },
    {
      "cell_type": "markdown",
      "metadata": {
        "id": "0Yn-gJY1k8fR"
      },
      "source": [
        "# Difference between discard() and remove()"
      ]
    },
    {
      "cell_type": "raw",
      "metadata": {
        "id": "KrTvbF08k8fS"
      },
      "source": [
        "Despite the fact that discard() and remove() method both perform the same task, There is one main difference between discard() and remove().\n",
        "\n",
        "If the key to be deleted from the set using discard() doesn't exist in the set, the Python will not give the error. The program maintains its control flow.\n",
        "\n",
        "On the other hand, if the item to be deleted from the set using remove() doesn't exist in the set, the Python will raise an error.\n",
        "\n",
        "Consider the following example.\n"
      ]
    },
    {
      "cell_type": "code",
      "execution_count": null,
      "metadata": {
        "id": "j1vFSWOGk8fS",
        "outputId": "e4212ef7-726e-419b-d714-a00e15d2df8d"
      },
      "outputs": [
        {
          "name": "stdout",
          "output_type": "stream",
          "text": [
            "\n",
            "printing the original set ... \n",
            "{'March', 'April', 'June', 'January', 'February', 'May'}\n",
            "\n",
            "Removing items through discard() method...\n",
            "\n",
            "printing the modified set...\n",
            "{'March', 'April', 'June', 'January', 'February', 'May'}\n",
            "\n",
            "Removing items through remove() method...\n"
          ]
        },
        {
          "ename": "KeyError",
          "evalue": "'Jan'",
          "output_type": "error",
          "traceback": [
            "\u001b[1;31m---------------------------------------------------------------------------\u001b[0m",
            "\u001b[1;31mKeyError\u001b[0m                                  Traceback (most recent call last)",
            "\u001b[1;32m<ipython-input-19-02d9aeba205d>\u001b[0m in \u001b[0;36m<module>\u001b[1;34m\u001b[0m\n\u001b[0;32m      7\u001b[0m \u001b[0mprint\u001b[0m\u001b[1;33m(\u001b[0m\u001b[0mMonths\u001b[0m\u001b[1;33m)\u001b[0m\u001b[1;33m\u001b[0m\u001b[1;33m\u001b[0m\u001b[0m\n\u001b[0;32m      8\u001b[0m \u001b[0mprint\u001b[0m\u001b[1;33m(\u001b[0m\u001b[1;34m\"\\nRemoving items through remove() method...\"\u001b[0m\u001b[1;33m)\u001b[0m\u001b[1;33m;\u001b[0m\u001b[1;33m\u001b[0m\u001b[1;33m\u001b[0m\u001b[0m\n\u001b[1;32m----> 9\u001b[1;33m \u001b[0mMonths\u001b[0m\u001b[1;33m.\u001b[0m\u001b[0mremove\u001b[0m\u001b[1;33m(\u001b[0m\u001b[1;34m\"Jan\"\u001b[0m\u001b[1;33m)\u001b[0m \u001b[1;31m#will give an error as the key jan is not available in the set.\u001b[0m\u001b[1;33m\u001b[0m\u001b[1;33m\u001b[0m\u001b[0m\n\u001b[0m\u001b[0;32m     10\u001b[0m \u001b[0mprint\u001b[0m\u001b[1;33m(\u001b[0m\u001b[1;34m\"\\nPrinting the modified set...\"\u001b[0m\u001b[1;33m)\u001b[0m\u001b[1;33m\u001b[0m\u001b[1;33m\u001b[0m\u001b[0m\n\u001b[0;32m     11\u001b[0m \u001b[0mprint\u001b[0m\u001b[1;33m(\u001b[0m\u001b[0mMonths\u001b[0m\u001b[1;33m)\u001b[0m\u001b[1;33m\u001b[0m\u001b[1;33m\u001b[0m\u001b[0m\n",
            "\u001b[1;31mKeyError\u001b[0m: 'Jan'"
          ]
        }
      ],
      "source": [
        "Months = set([\"January\",\"February\", \"March\", \"April\", \"May\", \"June\"])    \n",
        "print(\"\\nprinting the original set ... \")    \n",
        "print(Months)    \n",
        "print(\"\\nRemoving items through discard() method...\");    \n",
        "Months.discard(\"Feb\"); #will not give an error although the key feb is not available in the set    \n",
        "print(\"\\nprinting the modified set...\")    \n",
        "print(Months)    \n",
        "print(\"\\nRemoving items through remove() method...\");    \n",
        "Months.remove(\"Jan\") #will give an error as the key jan is not available in the set.     \n",
        "print(\"\\nPrinting the modified set...\")    \n",
        "print(Months)    "
      ]
    },
    {
      "cell_type": "code",
      "execution_count": null,
      "metadata": {
        "id": "L0IT_X8Sk8fS",
        "outputId": "38f6e7be-5e7a-4e72-9bb4-d2530caa836b"
      },
      "outputs": [
        {
          "name": "stdout",
          "output_type": "stream",
          "text": [
            "{1, 3, 4, 5, 6}\n",
            "{1, 3, 5, 6}\n",
            "{1, 3, 5}\n",
            "{1, 3, 5}\n"
          ]
        },
        {
          "ename": "KeyError",
          "evalue": "2",
          "output_type": "error",
          "traceback": [
            "\u001b[1;31m---------------------------------------------------------------------------\u001b[0m",
            "\u001b[1;31mKeyError\u001b[0m                                  Traceback (most recent call last)",
            "\u001b[1;32m<ipython-input-49-8cb8edd7dd9a>\u001b[0m in \u001b[0;36m<module>\u001b[1;34m\u001b[0m\n\u001b[0;32m     26\u001b[0m \u001b[1;31m# Output: KeyError\u001b[0m\u001b[1;33m\u001b[0m\u001b[1;33m\u001b[0m\u001b[1;33m\u001b[0m\u001b[0m\n\u001b[0;32m     27\u001b[0m \u001b[1;33m\u001b[0m\u001b[0m\n\u001b[1;32m---> 28\u001b[1;33m \u001b[0mmy_set\u001b[0m\u001b[1;33m.\u001b[0m\u001b[0mremove\u001b[0m\u001b[1;33m(\u001b[0m\u001b[1;36m2\u001b[0m\u001b[1;33m)\u001b[0m\u001b[1;33m\u001b[0m\u001b[1;33m\u001b[0m\u001b[0m\n\u001b[0m",
            "\u001b[1;31mKeyError\u001b[0m: 2"
          ]
        }
      ],
      "source": [
        "# Difference between discard() and remove()\n",
        "\n",
        "# initialize my_set\n",
        "my_set = {1, 3, 4, 5, 6}\n",
        "print(my_set)\n",
        "\n",
        "# discard an element\n",
        "# Output: {1, 3, 5, 6}\n",
        "my_set.discard(4)\n",
        "print(my_set)\n",
        "\n",
        "# remove an element\n",
        "# Output: {1, 3, 5}\n",
        "my_set.remove(6)\n",
        "print(my_set)\n",
        "\n",
        "# discard an element\n",
        "# not present in my_set\n",
        "# Output: {1, 3, 5}\n",
        "my_set.discard(2)\n",
        "print(my_set)\n",
        "\n",
        "# remove an element\n",
        "# not present in my_set\n",
        "# you will get an error.\n",
        "# Output: KeyError\n",
        "\n",
        "my_set.remove(2)"
      ]
    },
    {
      "cell_type": "markdown",
      "metadata": {
        "id": "leT0L86Tk8fS"
      },
      "source": [
        "# We can verify if an element is in the set using the in command:"
      ]
    },
    {
      "cell_type": "code",
      "execution_count": null,
      "metadata": {
        "id": "5TD3b1PKk8fT"
      },
      "outputs": [],
      "source": [
        "g={1,2,3,4,5,2}"
      ]
    },
    {
      "cell_type": "code",
      "execution_count": null,
      "metadata": {
        "id": "ZrSI0xpbk8fT",
        "outputId": "52a4c6c3-cf6e-4bc8-8e6e-4c42866387e0"
      },
      "outputs": [
        {
          "data": {
            "text/plain": [
              "True"
            ]
          },
          "execution_count": 139,
          "metadata": {},
          "output_type": "execute_result"
        }
      ],
      "source": [
        "2 in g"
      ]
    },
    {
      "cell_type": "markdown",
      "metadata": {
        "id": "YhEpE0_ik8fT"
      },
      "source": [
        "# Python Set Operations"
      ]
    },
    {
      "cell_type": "raw",
      "metadata": {
        "id": "IZI-GuRXk8fT"
      },
      "source": [
        "\n",
        "Set can be performed mathematical operation such as union, intersection, difference, and symmetric difference. Python provides the facility to carry out these operations with operators or methods. We describe these operations as follows.\n"
      ]
    },
    {
      "cell_type": "markdown",
      "metadata": {
        "id": "4kg3T8cek8fU"
      },
      "source": [
        "# Union of two Sets"
      ]
    },
    {
      "cell_type": "raw",
      "metadata": {
        "id": "wd1Xmw1Bk8fU"
      },
      "source": [
        "The union of two sets is calculated by using the pipe (|) operator. The union of the two sets contains all the items that are present in both the sets.\n"
      ]
    },
    {
      "cell_type": "markdown",
      "metadata": {
        "id": "h5rGBxn0k8fU"
      },
      "source": [
        "![](3.png)\n",
        "\n",
        "\n",
        "\n",
        "\n"
      ]
    },
    {
      "cell_type": "code",
      "execution_count": null,
      "metadata": {
        "id": "uQfu_o7zk8fU",
        "outputId": "62243767-1dfe-4d07-bf87-c14d6bdc4d18"
      },
      "outputs": [
        {
          "data": {
            "text/plain": [
              "{1, 2, 3, 4, 5, 6}"
            ]
          },
          "execution_count": 143,
          "metadata": {},
          "output_type": "execute_result"
        }
      ],
      "source": [
        "a={1,2,3}\n",
        "b={4,5,6}\n",
        "a.union(b)\n"
      ]
    },
    {
      "cell_type": "code",
      "execution_count": null,
      "metadata": {
        "id": "YuHo_cpCk8fU",
        "outputId": "a241b650-d763-49aa-edc6-89ea900d2e09"
      },
      "outputs": [
        {
          "name": "stdout",
          "output_type": "stream",
          "text": [
            "{'Wednesday', 'Monday', 'Sunday', 'Thursday', 'Friday', 'Saturday', 'Tuesday'}\n"
          ]
        }
      ],
      "source": [
        "#Consider the following example to calculate the union of two sets.\n",
        "\n",
        "#Example 1: using union | operator\n",
        "\n",
        "Days1 = {\"Monday\",\"Tuesday\",\"Wednesday\",\"Thursday\", \"Sunday\"}    \n",
        "Days2 = {\"Friday\",\"Saturday\",\"Sunday\"}    \n",
        "print(Days1|Days2) #printing the union of the sets     \n"
      ]
    },
    {
      "cell_type": "raw",
      "metadata": {
        "id": "jK_CylLYk8fV"
      },
      "source": [
        "Python also provides the union() method which can also be used to calculate the union of two sets. Consider the following example."
      ]
    },
    {
      "cell_type": "code",
      "execution_count": null,
      "metadata": {
        "id": "tb9oAAwCk8fV",
        "outputId": "ecf44a84-b78b-4c52-fa47-85d6eae93264"
      },
      "outputs": [
        {
          "name": "stdout",
          "output_type": "stream",
          "text": [
            "{'Wednesday', 'Monday', 'Sunday', 'Thursday', 'Friday', 'Saturday', 'Tuesday'}\n"
          ]
        }
      ],
      "source": [
        "#Example 2: using union() method\n",
        "\n",
        "Days1 = {\"Monday\",\"Tuesday\",\"Wednesday\",\"Thursday\"}    \n",
        "Days2 = {\"Friday\",\"Saturday\",\"Sunday\"}    \n",
        "print(Days1.union(Days2)) #printing the union of the sets     "
      ]
    },
    {
      "cell_type": "code",
      "execution_count": null,
      "metadata": {
        "id": "eBHB23HLk8fV"
      },
      "outputs": [],
      "source": [
        "# Sample Sets\n",
        "\n",
        "album_set1 = set([\"Thriller\", 'AC/DC', 'Back in Black'])\n",
        "album_set2 = set([ \"AC/DC\", \"Back in Black\", \"The Dark Side of the Moon\"])\n"
      ]
    },
    {
      "cell_type": "markdown",
      "metadata": {
        "id": "sB84OjtLk8fW"
      },
      "source": [
        "<img src=\"https://s3-api.us-geo.objectstorage.softlayer.net/cf-courses-data/CognitiveClass/PY0101EN/Chapter%202/Images/SetsSamples.png\" width=\"650\" />"
      ]
    },
    {
      "cell_type": "code",
      "execution_count": null,
      "metadata": {
        "id": "5UJZohR9k8fW",
        "outputId": "f00d5645-01a7-4834-bfe5-0ee5bfda3289"
      },
      "outputs": [
        {
          "data": {
            "text/plain": [
              "{'AC/DC', 'Back in Black', 'The Dark Side of the Moon', 'Thriller'}"
            ]
          },
          "execution_count": 72,
          "metadata": {},
          "output_type": "execute_result"
        }
      ],
      "source": [
        "# Find the union of two sets\n",
        "\n",
        "album_set1.union(album_set2)"
      ]
    },
    {
      "cell_type": "markdown",
      "metadata": {
        "id": "NtoE8n3Mk8fW"
      },
      "source": [
        "<img src = \"https://s3-api.us-geo.objectstorage.softlayer.net/cf-courses-data/CognitiveClass/PY0101EN/Chapter%202/Images/SetsUnion.png\" width=\"650\" />"
      ]
    },
    {
      "cell_type": "code",
      "execution_count": null,
      "metadata": {
        "id": "2_4UbdwKk8fW"
      },
      "outputs": [],
      "source": [
        "# create a first set\n",
        "words_a = {'then', 'before', 'we', 'where'}\n",
        "# create a second set\n",
        "words_b = {'before', 'never', 'we', 'late'}"
      ]
    },
    {
      "cell_type": "code",
      "execution_count": null,
      "metadata": {
        "id": "BMWK8CdWk8fX",
        "outputId": "bf7329be-59c1-48df-fb62-bb908d24a371"
      },
      "outputs": [
        {
          "data": {
            "text/plain": [
              "{'before', 'late', 'never', 'then', 'we', 'where'}"
            ]
          },
          "execution_count": 74,
          "metadata": {},
          "output_type": "execute_result"
        }
      ],
      "source": [
        "words_a.union(words_b)"
      ]
    },
    {
      "cell_type": "markdown",
      "metadata": {
        "id": "LNQqg668k8fX"
      },
      "source": [
        "# Intersection of two sets"
      ]
    },
    {
      "cell_type": "raw",
      "metadata": {
        "id": "cK_ASnwFk8fX"
      },
      "source": [
        "The intersection of two sets can be performed by the and & operator or the intersection() function. The intersection of the two sets is given as the set of the elements that common in both sets."
      ]
    },
    {
      "cell_type": "markdown",
      "metadata": {
        "id": "_ngFY5HPk8fX"
      },
      "source": [
        "![](4.png)"
      ]
    },
    {
      "cell_type": "code",
      "execution_count": null,
      "metadata": {
        "id": "lW00rwrmk8fY",
        "outputId": "7c4c3c33-1bba-4835-c95e-a206afdaa07d"
      },
      "outputs": [
        {
          "name": "stdout",
          "output_type": "stream",
          "text": [
            "{'Monday', 'Tuesday'}\n"
          ]
        }
      ],
      "source": [
        "#Consider the following example.\n",
        "\n",
        "#Example 1: Using & operator\n",
        "\n",
        "Days1 = {\"Monday\",\"Tuesday\", \"Wednesday\", \"Thursday\"}    \n",
        "Days2 = {\"Monday\",\"Tuesday\",\"Sunday\", \"Friday\"}    \n",
        "print(Days1&Days2) #prints the intersection of the two sets  "
      ]
    },
    {
      "cell_type": "code",
      "execution_count": null,
      "metadata": {
        "id": "Q4QF262Vk8fY",
        "outputId": "245ed9bc-9c4f-4c73-e1cf-786a1e7e04c9"
      },
      "outputs": [
        {
          "name": "stdout",
          "output_type": "stream",
          "text": [
            "{'Martin', 'David'}\n"
          ]
        }
      ],
      "source": [
        "#Example 2: Using intersection() method\n",
        "\n",
        "set1 = {\"Devansh\",\"John\", \"David\", \"Martin\"}    \n",
        "set2 = {\"Steve\", \"Milan\", \"David\", \"Martin\"}    \n",
        "print(set1.intersection(set2)) #prints the intersection of the two sets    "
      ]
    },
    {
      "cell_type": "code",
      "execution_count": null,
      "metadata": {
        "id": "c3ff4giek8fY",
        "outputId": "68c9ed2a-4319-43ee-ba15-8fadf7ff97c7"
      },
      "outputs": [
        {
          "name": "stdout",
          "output_type": "stream",
          "text": [
            "{1, 2, 5}\n"
          ]
        }
      ],
      "source": [
        "#Example 3:\n",
        "\n",
        "set1 = {1,2,3,4,5,6,7}  \n",
        "set2 = {1,2,20,32,5,9}  \n",
        "set3 = set1.intersection(set2)  \n",
        "print(set3)  "
      ]
    },
    {
      "cell_type": "code",
      "execution_count": null,
      "metadata": {
        "id": "ToDUA7zhk8fZ"
      },
      "outputs": [],
      "source": [
        ""
      ]
    },
    {
      "cell_type": "code",
      "execution_count": null,
      "metadata": {
        "id": "0zlc25SJk8fZ"
      },
      "outputs": [],
      "source": [
        "# Sample Sets\n",
        "\n",
        "album_set1 = set([\"Thriller\", 'AC/DC', 'Back in Black'])\n",
        "\n",
        "album_set2 = set([ \"AC/DC\", \"Back in Black\", \"The Dark Side of the Moon\"])"
      ]
    },
    {
      "cell_type": "markdown",
      "metadata": {
        "id": "_qR41XZck8fZ"
      },
      "source": [
        "<img src=\"https://s3-api.us-geo.objectstorage.softlayer.net/cf-courses-data/CognitiveClass/PY0101EN/Chapter%202/Images/SetsSamples.png\" width=\"650\" />"
      ]
    },
    {
      "cell_type": "code",
      "execution_count": null,
      "metadata": {
        "id": "eY8VmD4Lk8fZ",
        "outputId": "69f651d7-a7a7-4471-f9c1-2578697a227a"
      },
      "outputs": [
        {
          "data": {
            "text/plain": [
              "{'AC/DC', 'Back in Black'}"
            ]
          },
          "execution_count": 76,
          "metadata": {},
          "output_type": "execute_result"
        }
      ],
      "source": [
        "# Find the intersections\n",
        "\n",
        "intersection = album_set1 & album_set2\n",
        "intersection"
      ]
    },
    {
      "cell_type": "markdown",
      "metadata": {
        "id": "RgjJutY6k8fa"
      },
      "source": [
        "<img src = \"https://s3-api.us-geo.objectstorage.softlayer.net/cf-courses-data/CognitiveClass/PY0101EN/Chapter%202/Images/SetsLogic.png\" width = \"650\" />"
      ]
    },
    {
      "cell_type": "markdown",
      "metadata": {
        "id": "jjvuUiE8k8fa"
      },
      "source": [
        "<img src=\"https://s3-api.us-geo.objectstorage.softlayer.net/cf-courses-data/CognitiveClass/PY0101EN/Chapter%202/Images/SetsIntersect.png\" width=\"650\" />"
      ]
    },
    {
      "cell_type": "markdown",
      "metadata": {
        "id": "UJYwxUXNk8fa"
      },
      "source": [
        "# The intersection_update() method"
      ]
    },
    {
      "cell_type": "raw",
      "metadata": {
        "id": "_P-Wq1a3k8fa"
      },
      "source": [
        "The intersection_update() method removes the items from the original set that are not present in both the sets (all the sets if more than one are specified).\n",
        "\n",
        "The intersection_update() method is different from the intersection() method since it modifies the original set by removing the unwanted items, on the other hand, the intersection() method returns a new set."
      ]
    },
    {
      "cell_type": "code",
      "execution_count": null,
      "metadata": {
        "id": "2nrXdbhgk8fa",
        "outputId": "0bd874eb-37eb-4ef0-b5a9-168dac31de71"
      },
      "outputs": [
        {
          "name": "stdout",
          "output_type": "stream",
          "text": [
            "{'castle'}\n"
          ]
        }
      ],
      "source": [
        "#Consider the following example.\n",
        "\n",
        "a = {\"Devansh\", \"bob\", \"castle\"}    \n",
        "b = {\"castle\", \"dude\", \"emyway\"}    \n",
        "c = {\"fuson\", \"gaurav\", \"castle\"}    \n",
        "    \n",
        "a.intersection_update(b, c)    \n",
        "    \n",
        "print(a)  "
      ]
    },
    {
      "cell_type": "code",
      "execution_count": null,
      "metadata": {
        "id": "r-sNTk_mk8fb"
      },
      "outputs": [],
      "source": [
        "# create a first set\n",
        "p = {'a', 'b', 'c', 'd'}\n",
        "# create a second set\n",
        "q = {'c', 'e', 'a', 'f'}"
      ]
    },
    {
      "cell_type": "code",
      "execution_count": null,
      "metadata": {
        "id": "TJRVWjWpk8fb",
        "outputId": "d7a0e814-a811-434f-ce0b-67b13fb17054"
      },
      "outputs": [
        {
          "data": {
            "text/plain": [
              "{'a', 'c'}"
            ]
          },
          "execution_count": 156,
          "metadata": {},
          "output_type": "execute_result"
        }
      ],
      "source": [
        "c=p&q\n",
        "c"
      ]
    },
    {
      "cell_type": "code",
      "execution_count": null,
      "metadata": {
        "id": "8reaj5txk8fb",
        "outputId": "7ac7ba69-1be2-4473-bdc5-bb3f3a535229"
      },
      "outputs": [
        {
          "data": {
            "text/plain": [
              "{'a', 'c'}"
            ]
          },
          "execution_count": 152,
          "metadata": {},
          "output_type": "execute_result"
        }
      ],
      "source": [
        "p.intersection(q)"
      ]
    },
    {
      "cell_type": "code",
      "execution_count": null,
      "metadata": {
        "id": "MwEIyhUjk8fb",
        "outputId": "9dafa09f-4c43-4d28-8b46-1f316166b085"
      },
      "outputs": [
        {
          "data": {
            "text/plain": [
              "{'a', 'b', 'c', 'd'}"
            ]
          },
          "execution_count": 153,
          "metadata": {},
          "output_type": "execute_result"
        }
      ],
      "source": [
        "p"
      ]
    },
    {
      "cell_type": "code",
      "execution_count": null,
      "metadata": {
        "id": "tldntPY7k8fc"
      },
      "outputs": [],
      "source": [
        "p.intersection_update(q)"
      ]
    },
    {
      "cell_type": "code",
      "execution_count": null,
      "metadata": {
        "id": "OjIBD-OVk8fc",
        "outputId": "486d3c1c-2532-4b16-c39f-d18a754cb5fe"
      },
      "outputs": [
        {
          "data": {
            "text/plain": [
              "{'a', 'c'}"
            ]
          },
          "execution_count": 158,
          "metadata": {},
          "output_type": "execute_result"
        }
      ],
      "source": [
        "p"
      ]
    },
    {
      "cell_type": "markdown",
      "metadata": {
        "id": "_6aKgo2ik8fc"
      },
      "source": [
        "# Difference between the two sets"
      ]
    },
    {
      "cell_type": "markdown",
      "metadata": {
        "id": "3UsvOTKek8fc"
      },
      "source": [
        "You can find all the elements that are only contained in album_set1 using the difference method:"
      ]
    },
    {
      "cell_type": "raw",
      "metadata": {
        "id": "kawwMAUdk8fd"
      },
      "source": [
        "The difference of two sets can be calculated by using the subtraction (-) operator or intersection() method. Suppose there are two sets A and B, and the difference is A-B that denotes the resulting set will be obtained that element of A, which is not present in the set B.\n",
        "\n"
      ]
    },
    {
      "cell_type": "raw",
      "metadata": {
        "id": "QzNSkZb0k8fd"
      },
      "source": [
        "difference method()\n",
        "It returns a set contains the elements that only exist in set alpha_a, and not in alpha_b"
      ]
    },
    {
      "cell_type": "markdown",
      "metadata": {
        "id": "yGu_MrADk8fd"
      },
      "source": [
        "![](5.png)"
      ]
    },
    {
      "cell_type": "code",
      "execution_count": null,
      "metadata": {
        "id": "Ct1fAwSMk8fd",
        "outputId": "ce9e8ad9-1096-45bf-9f25-c0531b41166a"
      },
      "outputs": [
        {
          "name": "stdout",
          "output_type": "stream",
          "text": [
            "{'Thursday', 'Wednesday'}\n"
          ]
        }
      ],
      "source": [
        "#Consider the following example.\n",
        "\n",
        "#Example 1 : Using subtraction ( - ) operator\n",
        "\n",
        "Days1 = {\"Monday\",  \"Tuesday\", \"Wednesday\", \"Thursday\"}    \n",
        "Days2 = {\"Monday\", \"Tuesday\", \"Sunday\"}    \n",
        "print(Days1-Days2) #{\"Wednesday\", \"Thursday\" will be printed}    "
      ]
    },
    {
      "cell_type": "code",
      "execution_count": null,
      "metadata": {
        "id": "qw8OASSKk8fe",
        "outputId": "5add9849-1dfa-48a3-ca5f-8630b73a7a13"
      },
      "outputs": [
        {
          "name": "stdout",
          "output_type": "stream",
          "text": [
            "{'Sunday'}\n"
          ]
        }
      ],
      "source": [
        "print(Days2-Days1)"
      ]
    },
    {
      "cell_type": "code",
      "execution_count": null,
      "metadata": {
        "id": "KzPrMuLuk8fe",
        "outputId": "fbc60711-d52b-4a4c-c13a-707a3d509b59"
      },
      "outputs": [
        {
          "name": "stdout",
          "output_type": "stream",
          "text": [
            "{'Thursday', 'Wednesday'}\n"
          ]
        }
      ],
      "source": [
        "#Example 2 : Using difference() method\n",
        "\n",
        "Days1 = {\"Monday\",  \"Tuesday\", \"Wednesday\", \"Thursday\"}    \n",
        "Days2 = {\"Monday\", \"Tuesday\", \"Sunday\"}    \n",
        "print(Days1.difference(Days2)) # prints the difference of the two sets Days1 and Days2    "
      ]
    },
    {
      "cell_type": "code",
      "execution_count": null,
      "metadata": {
        "id": "cp1h9beok8fe"
      },
      "outputs": [],
      "source": [
        "# create a first set\n",
        "alpha_a = {'a', 'b', 'c', 'd'}\n",
        "# create a second set\n",
        "alpha_b = {'c', 'e', 'a', 'f'}"
      ]
    },
    {
      "cell_type": "code",
      "execution_count": null,
      "metadata": {
        "id": "5JVAMBKVk8fe",
        "outputId": "8dc31595-0922-4d51-ddde-92bba27ca6ec"
      },
      "outputs": [
        {
          "data": {
            "text/plain": [
              "{'b', 'd'}"
            ]
          },
          "execution_count": 165,
          "metadata": {},
          "output_type": "execute_result"
        }
      ],
      "source": [
        "alpha_a.difference(alpha_b)"
      ]
    },
    {
      "cell_type": "code",
      "execution_count": null,
      "metadata": {
        "id": "mccJiJr3k8ff",
        "outputId": "a3353008-1d57-4db0-b523-e1fcaf059366"
      },
      "outputs": [
        {
          "data": {
            "text/plain": [
              "{'e', 'f'}"
            ]
          },
          "execution_count": 166,
          "metadata": {},
          "output_type": "execute_result"
        }
      ],
      "source": [
        "alpha_b.difference(alpha_a)"
      ]
    },
    {
      "cell_type": "code",
      "execution_count": null,
      "metadata": {
        "id": "uBHXgPndk8ff",
        "outputId": "72c56ec2-23e2-4ef3-afc5-49c3f941feeb"
      },
      "outputs": [
        {
          "data": {
            "text/plain": [
              "{'a', 'b', 'c', 'd'}"
            ]
          },
          "execution_count": 167,
          "metadata": {},
          "output_type": "execute_result"
        }
      ],
      "source": [
        "alpha_a"
      ]
    },
    {
      "cell_type": "code",
      "execution_count": null,
      "metadata": {
        "id": "aE4z1iN5k8fg",
        "outputId": "7b4851ae-ab78-4970-a79f-c6584cba5805"
      },
      "outputs": [
        {
          "data": {
            "text/plain": [
              "{'a', 'c', 'e', 'f'}"
            ]
          },
          "execution_count": 54,
          "metadata": {},
          "output_type": "execute_result"
        }
      ],
      "source": [
        "alpha_b"
      ]
    },
    {
      "cell_type": "code",
      "execution_count": null,
      "metadata": {
        "id": "kacgo-LFk8fg"
      },
      "outputs": [],
      "source": [
        "# Sample Sets\n",
        "\n",
        "album_set1 = set([\"Thriller\", 'AC/DC', 'Back in Black'])\n",
        "album_set2 = set([ \"AC/DC\", \"Back in Black\", \"The Dark Side of the Moon\"])"
      ]
    },
    {
      "cell_type": "code",
      "execution_count": null,
      "metadata": {
        "id": "NJA-HRqgk8fg",
        "outputId": "50748baa-0166-4bed-8e64-7208f7e7fc17"
      },
      "outputs": [
        {
          "data": {
            "text/plain": [
              "{'Thriller'}"
            ]
          },
          "execution_count": 82,
          "metadata": {},
          "output_type": "execute_result"
        }
      ],
      "source": [
        "# Find the difference in set1 but not set2\n",
        "\n",
        "album_set1.difference(album_set2)  "
      ]
    },
    {
      "cell_type": "markdown",
      "metadata": {
        "id": "9-jrbfnTk8fg"
      },
      "source": [
        "<img src=\"https://s3-api.us-geo.objectstorage.softlayer.net/cf-courses-data/CognitiveClass/PY0101EN/Chapter%202/Images/SetsLeft.png\" width=\"650\" />"
      ]
    },
    {
      "cell_type": "code",
      "execution_count": null,
      "metadata": {
        "id": "3N9THWUdk8fh"
      },
      "outputs": [],
      "source": [
        "# Sample Sets\n",
        "\n",
        "album_set1 = set([\"Thriller\", 'AC/DC', 'Back in Black'])\n",
        "album_set2 = set([ \"AC/DC\", \"Back in Black\", \"The Dark Side of the Moon\"])"
      ]
    },
    {
      "cell_type": "code",
      "execution_count": null,
      "metadata": {
        "id": "zcYFLKvik8fh",
        "outputId": "55ce0e2a-3ac8-444d-d4ec-f43be5a52c93"
      },
      "outputs": [
        {
          "data": {
            "text/plain": [
              "{'The Dark Side of the Moon'}"
            ]
          },
          "execution_count": 84,
          "metadata": {},
          "output_type": "execute_result"
        }
      ],
      "source": [
        "album_set2.difference(album_set1)  "
      ]
    },
    {
      "cell_type": "markdown",
      "metadata": {
        "id": "clPZOcZtk8fh"
      },
      "source": [
        "<img src = \"https://s3-api.us-geo.objectstorage.softlayer.net/cf-courses-data/CognitiveClass/PY0101EN/Chapter%202/Images/SetsRight.png\" width=\"650\" />"
      ]
    },
    {
      "cell_type": "markdown",
      "metadata": {
        "id": "Zodhvmhpk8fi"
      },
      "source": [
        "# difference_update()\n",
        "It removes the items from first set that are included in another set"
      ]
    },
    {
      "cell_type": "code",
      "execution_count": null,
      "metadata": {
        "id": "ppfGEMj6k8fi"
      },
      "outputs": [],
      "source": [
        "a= {1,2,3}\n",
        "\n",
        "b= {1,2,4}\n",
        "\n",
        "b.difference_update(a)\n"
      ]
    },
    {
      "cell_type": "code",
      "execution_count": null,
      "metadata": {
        "id": "vH2UgnIZk8fi",
        "outputId": "99f925e6-9116-4ae0-da4c-a18c8447df39"
      },
      "outputs": [
        {
          "data": {
            "text/plain": [
              "{4}"
            ]
          },
          "execution_count": 56,
          "metadata": {},
          "output_type": "execute_result"
        }
      ],
      "source": [
        "b"
      ]
    },
    {
      "cell_type": "code",
      "execution_count": null,
      "metadata": {
        "id": "7Nua9Lptk8fi",
        "outputId": "c17ee73f-fe30-40bf-deba-47b04792e17a"
      },
      "outputs": [
        {
          "data": {
            "text/plain": [
              "{1, 2, 3}"
            ]
          },
          "execution_count": 57,
          "metadata": {},
          "output_type": "execute_result"
        }
      ],
      "source": [
        "a"
      ]
    },
    {
      "cell_type": "code",
      "execution_count": null,
      "metadata": {
        "id": "NNXFXG1tk8fi"
      },
      "outputs": [],
      "source": [
        "# create a first set\n",
        "alpha_a = {'a', 'b', 'c', 'd'}\n",
        "# create a second set\n",
        "alpha_b = {'c', 'e', 'a', 'f'}"
      ]
    },
    {
      "cell_type": "code",
      "execution_count": null,
      "metadata": {
        "id": "R8ganZM2k8fj"
      },
      "outputs": [],
      "source": [
        "alpha_b.difference_update(alpha_a)"
      ]
    },
    {
      "cell_type": "code",
      "execution_count": null,
      "metadata": {
        "id": "FzDk61wNk8fj",
        "outputId": "040a0936-e2c2-4e75-c3a5-474ad4c26f10"
      },
      "outputs": [
        {
          "data": {
            "text/plain": [
              "{'e', 'f'}"
            ]
          },
          "execution_count": 170,
          "metadata": {},
          "output_type": "execute_result"
        }
      ],
      "source": [
        "alpha_b"
      ]
    },
    {
      "cell_type": "code",
      "execution_count": null,
      "metadata": {
        "id": "bJPfjuLik8fj",
        "outputId": "ce7ecb95-cb89-496c-bead-cc6566a9407b"
      },
      "outputs": [
        {
          "data": {
            "text/plain": [
              "{'a', 'b', 'c', 'd'}"
            ]
          },
          "execution_count": 171,
          "metadata": {},
          "output_type": "execute_result"
        }
      ],
      "source": [
        "alpha_a"
      ]
    },
    {
      "cell_type": "code",
      "execution_count": null,
      "metadata": {
        "id": "Ug26IJb3k8fj"
      },
      "outputs": [],
      "source": [
        "# create a first set\n",
        "alpha_a = {'a', 'b', 'c', 'd'}\n",
        "# create a second set\n",
        "alpha_b = {'c', 'e', 'a', 'f'}"
      ]
    },
    {
      "cell_type": "code",
      "execution_count": null,
      "metadata": {
        "id": "QH3NpQPjk8fk"
      },
      "outputs": [],
      "source": [
        "alpha_a.difference_update(alpha_b)"
      ]
    },
    {
      "cell_type": "code",
      "execution_count": null,
      "metadata": {
        "id": "4Ohb-7Kbk8fk",
        "outputId": "b8eacd9c-237c-4bf2-e84d-ce9bdecf5c6b"
      },
      "outputs": [
        {
          "data": {
            "text/plain": [
              "{'b', 'd'}"
            ]
          },
          "execution_count": 64,
          "metadata": {},
          "output_type": "execute_result"
        }
      ],
      "source": [
        "alpha_a"
      ]
    },
    {
      "cell_type": "code",
      "execution_count": null,
      "metadata": {
        "id": "w8wmSS8gk8fk",
        "outputId": "911d8800-6da3-4bd5-aa7a-c44a3c81a886"
      },
      "outputs": [
        {
          "data": {
            "text/plain": [
              "{'a', 'c', 'e', 'f'}"
            ]
          },
          "execution_count": 65,
          "metadata": {},
          "output_type": "execute_result"
        }
      ],
      "source": [
        "alpha_b"
      ]
    },
    {
      "cell_type": "markdown",
      "metadata": {
        "id": "U6j8flD0k8fk"
      },
      "source": [
        "# Note: difference() method is different from difference_update() method, because the difference() method returns a new set\n",
        "​"
      ]
    },
    {
      "cell_type": "markdown",
      "metadata": {
        "id": "spFWaR2Gk8fl"
      },
      "source": [
        "# Symmetric Difference of two sets\n"
      ]
    },
    {
      "cell_type": "raw",
      "metadata": {
        "id": "XkaaInwfk8fl"
      },
      "source": [
        "The symmetric difference of two sets is calculated by ^ operator or symmetric_difference() method.\n",
        "\n",
        "Symmetric difference of sets, it removes that element which is present in both sets. Consider the following example:"
      ]
    },
    {
      "cell_type": "markdown",
      "metadata": {
        "id": "mHF8DMvOk8fm"
      },
      "source": [
        "![](6.png)\n",
        "\n"
      ]
    },
    {
      "cell_type": "code",
      "execution_count": null,
      "metadata": {
        "id": "c2UlvRzrk8fm",
        "outputId": "5b191a3e-a20a-4719-e814-c89c7d40847c"
      },
      "outputs": [
        {
          "name": "stdout",
          "output_type": "stream",
          "text": [
            "{3, 4, 5, 6, 8, 9, 10}\n"
          ]
        }
      ],
      "source": [
        "#Example - 1: Using ^ operator\n",
        "\n",
        "a = {1,2,3,4,5,6}  \n",
        "b = {1,2,9,8,10}  \n",
        "c = a^b  \n",
        "print(c)  \n",
        "\n",
        "\n"
      ]
    },
    {
      "cell_type": "code",
      "execution_count": null,
      "metadata": {
        "id": "RlxVkLbbk8fm",
        "outputId": "86b166c2-a101-441e-f048-f1229a27edb2"
      },
      "outputs": [
        {
          "name": "stdout",
          "output_type": "stream",
          "text": [
            "{3, 4, 5, 6, 8, 9, 10}\n"
          ]
        }
      ],
      "source": [
        "#Example - 2: Using symmetric_difference() method\n",
        "\n",
        "a = {1,2,3,4,5,6}  \n",
        "b = {1,2,9,8,10}  \n",
        "c = a.symmetric_difference(b)  \n",
        "print(c)  "
      ]
    },
    {
      "cell_type": "markdown",
      "metadata": {
        "id": "BR5-rqhXk8fu"
      },
      "source": [
        "# And you can check if a set is a superset or subset of another set, respectively, like this:\n",
        "# Sample Sets"
      ]
    },
    {
      "cell_type": "code",
      "execution_count": null,
      "metadata": {
        "id": "ymIygqafk8fu",
        "outputId": "5d38f8a8-b18c-4a67-d82b-2fafd60eb04d"
      },
      "outputs": [
        {
          "data": {
            "text/plain": [
              "{1, 2, 3, 4, 5}"
            ]
          },
          "execution_count": 173,
          "metadata": {},
          "output_type": "execute_result"
        }
      ],
      "source": [
        "a={1,2,3,4,5}\n",
        "a"
      ]
    },
    {
      "cell_type": "code",
      "execution_count": null,
      "metadata": {
        "id": "r1s-kH-Yk8fv",
        "outputId": "b65b0dfc-24f7-4323-f78c-dc72f8daca41"
      },
      "outputs": [
        {
          "data": {
            "text/plain": [
              "{2, 3}"
            ]
          },
          "execution_count": 174,
          "metadata": {},
          "output_type": "execute_result"
        }
      ],
      "source": [
        "b={2,3}\n",
        "b"
      ]
    },
    {
      "cell_type": "code",
      "execution_count": null,
      "metadata": {
        "id": "I92jWmygk8fv"
      },
      "outputs": [],
      "source": [
        "b is the subset a"
      ]
    },
    {
      "cell_type": "code",
      "execution_count": null,
      "metadata": {
        "id": "jWOOdTeLk8fv"
      },
      "outputs": [],
      "source": [
        ""
      ]
    },
    {
      "cell_type": "code",
      "execution_count": null,
      "metadata": {
        "id": "UlYnyCUKk8fw"
      },
      "outputs": [],
      "source": [
        "# Sample Sets\n",
        "\n",
        "album_set1 = set([\"Thriller\", 'AC/DC', 'Back in Black'])\n",
        "album_set2 = set([ \"AC/DC\", \"Back in Black\", \"The Dark Side of the Moon\"])"
      ]
    },
    {
      "cell_type": "code",
      "execution_count": null,
      "metadata": {
        "id": "LXr4S6NQk8fw",
        "outputId": "fa85209d-aa49-445c-d31b-58542fe3ed45"
      },
      "outputs": [
        {
          "data": {
            "text/plain": [
              "False"
            ]
          },
          "execution_count": 176,
          "metadata": {},
          "output_type": "execute_result"
        }
      ],
      "source": [
        "# Check if superset\n",
        "\n",
        "set(album_set1).issuperset(album_set2)   "
      ]
    },
    {
      "cell_type": "code",
      "execution_count": null,
      "metadata": {
        "id": "qGbXmjjTk8fx",
        "outputId": "1b715ecc-5bbd-43e8-8d7f-f2b388b3adc0"
      },
      "outputs": [
        {
          "data": {
            "text/plain": [
              "False"
            ]
          },
          "execution_count": 177,
          "metadata": {},
          "output_type": "execute_result"
        }
      ],
      "source": [
        "# Check if subset\n",
        "\n",
        "set(album_set2).issubset(album_set1) "
      ]
    },
    {
      "cell_type": "code",
      "execution_count": null,
      "metadata": {
        "id": "MYWgDpFCk8fx",
        "outputId": "d0dda7fc-745d-4603-e4fa-d30a58d8f6cb"
      },
      "outputs": [
        {
          "data": {
            "text/plain": [
              "True"
            ]
          },
          "execution_count": 178,
          "metadata": {},
          "output_type": "execute_result"
        }
      ],
      "source": [
        "# Check if subset\n",
        "\n",
        "set({\"Back in Black\", \"AC/DC\"}).issubset(album_set1) "
      ]
    },
    {
      "cell_type": "code",
      "execution_count": null,
      "metadata": {
        "id": "Fh49L_QUk8fx",
        "outputId": "215a802e-7e51-4f57-be5f-38449c4681fa"
      },
      "outputs": [
        {
          "data": {
            "text/plain": [
              "True"
            ]
          },
          "execution_count": 89,
          "metadata": {},
          "output_type": "execute_result"
        }
      ],
      "source": [
        "# Check if superset\n",
        "\n",
        "album_set1.issuperset({\"Back in Black\", \"AC/DC\"})"
      ]
    },
    {
      "cell_type": "markdown",
      "metadata": {
        "id": "78GWdApak8fy"
      },
      "source": [
        "# isdisjoint() method"
      ]
    },
    {
      "cell_type": "code",
      "execution_count": null,
      "metadata": {
        "id": "wQNMy_E-k8fy"
      },
      "outputs": [],
      "source": [
        "# create a first set\n",
        "alpha_a = {'a', 'b'}\n",
        "# create a second set\n",
        "alpha_b = {'c', 'd'}\n"
      ]
    },
    {
      "cell_type": "code",
      "execution_count": null,
      "metadata": {
        "id": "x7coIwBnk8fz",
        "outputId": "60eb03f7-f843-4c3b-d1bb-f2eed5ed106e"
      },
      "outputs": [
        {
          "data": {
            "text/plain": [
              "True"
            ]
          },
          "execution_count": 183,
          "metadata": {},
          "output_type": "execute_result"
        }
      ],
      "source": [
        "alpha_a.isdisjoint(alpha_b)"
      ]
    },
    {
      "cell_type": "markdown",
      "metadata": {
        "id": "2TF7pDKwk8fz"
      },
      "source": [
        "# issuperset() method"
      ]
    },
    {
      "cell_type": "code",
      "execution_count": null,
      "metadata": {
        "id": "OTm15yc7k8fz"
      },
      "outputs": [],
      "source": [
        "# create a first set\n",
        "num_1 = {1, 2, 3, 4}\n",
        "# create a second set\n",
        "num_2 = {1, 2, 3, 4}"
      ]
    },
    {
      "cell_type": "code",
      "execution_count": null,
      "metadata": {
        "id": "gfGLmRL1k8f0",
        "outputId": "3df8c97e-12a7-4504-be67-5a1903c762a7"
      },
      "outputs": [
        {
          "data": {
            "text/plain": [
              "True"
            ]
          },
          "execution_count": 185,
          "metadata": {},
          "output_type": "execute_result"
        }
      ],
      "source": [
        "num_1.issuperset(num_2)"
      ]
    },
    {
      "cell_type": "code",
      "execution_count": null,
      "metadata": {
        "id": "jqfWlF1vk8f0"
      },
      "outputs": [],
      "source": [
        ""
      ]
    },
    {
      "cell_type": "markdown",
      "metadata": {
        "id": "eM0KNFQ3k8f0"
      },
      "source": [
        "# Set comparisons"
      ]
    },
    {
      "cell_type": "raw",
      "metadata": {
        "id": "fr8bs3qpk8f0"
      },
      "source": [
        "Python allows us to use the comparison operators i.e., <, >, <=, >= , == with the sets by using which we can check whether a set is a subset, superset, or equivalent to other set. The boolean true or false is returned depending upon the items present inside the sets.\n",
        "\n",
        "Consider the following example."
      ]
    },
    {
      "cell_type": "code",
      "execution_count": null,
      "metadata": {
        "id": "G3SlQ37Wk8f1",
        "outputId": "a8ecf4d6-9fc4-4706-fc34-2a5e082aced0"
      },
      "outputs": [
        {
          "name": "stdout",
          "output_type": "stream",
          "text": [
            "True\n",
            "False\n",
            "False\n"
          ]
        }
      ],
      "source": [
        "Days1 = {\"Monday\",  \"Tuesday\", \"Wednesday\", \"Thursday\"}    \n",
        "Days2 = {\"Monday\", \"Tuesday\"}    \n",
        "Days3 = {\"Monday\", \"Tuesday\", \"Friday\"}    \n",
        "    \n",
        "#Days1 is the superset of Days2 hence it will print true.     \n",
        "print (Days1>Days2)     \n",
        "    \n",
        "#prints false since Days1 is not the subset of Days2     \n",
        "print (Days1<Days2)    \n",
        "    \n",
        "#prints false since Days2 and Days3 are not equivalent     \n",
        "print (Days2 == Days3)    "
      ]
    },
    {
      "cell_type": "markdown",
      "metadata": {
        "id": "WR26vsNSk8f1"
      },
      "source": [
        "# FrozenSets\n",
        "\n",
        "\n"
      ]
    },
    {
      "cell_type": "raw",
      "metadata": {
        "id": "wv5L1V23k8f2"
      },
      "source": [
        "The frozen sets are the immutable form of the normal sets, i.e., the items of the frozen set cannot be changed and therefore it can be used as a key in the dictionary.\n",
        "\n",
        "The elements of the frozen set cannot be changed after the creation. We cannot change or append the content of the frozen sets by using the methods like add() or remove().\n",
        "\n",
        "The frozenset() method is used to create the frozenset object. The iterable sequence is passed into this method which is converted into the frozen set as a return type of the method.\n",
        "\n",
        "Consider the following example to create the frozen set."
      ]
    },
    {
      "cell_type": "code",
      "execution_count": null,
      "metadata": {
        "id": "QWKtbf6fk8f2",
        "outputId": "9084745f-e1ad-4535-bc4e-66ededccc720"
      },
      "outputs": [
        {
          "data": {
            "text/plain": [
              "frozenset({1, 2, 3, 4, 5, 6, 7, 8, 9})"
            ]
          },
          "execution_count": 190,
          "metadata": {},
          "output_type": "execute_result"
        }
      ],
      "source": [
        "nu = (1, 2, 3, 4, 5, 6, 7, 8, 9)\n",
        "c=set(nu)\n",
        "c"
      ]
    },
    {
      "cell_type": "code",
      "execution_count": null,
      "metadata": {
        "id": "PNMJk3OFk8f2",
        "outputId": "2506e059-aac9-4f9b-e263-58d7cfe45712"
      },
      "outputs": [
        {
          "ename": "AttributeError",
          "evalue": "'frozenset' object has no attribute 'add'",
          "output_type": "error",
          "traceback": [
            "\u001b[1;31m---------------------------------------------------------------------------\u001b[0m",
            "\u001b[1;31mAttributeError\u001b[0m                            Traceback (most recent call last)",
            "\u001b[1;32m<ipython-input-191-4ddf2843b20b>\u001b[0m in \u001b[0;36m<module>\u001b[1;34m\u001b[0m\n\u001b[1;32m----> 1\u001b[1;33m \u001b[0mc\u001b[0m\u001b[1;33m.\u001b[0m\u001b[0madd\u001b[0m\u001b[1;33m(\u001b[0m\u001b[1;36m10\u001b[0m\u001b[1;33m)\u001b[0m\u001b[1;33m\u001b[0m\u001b[1;33m\u001b[0m\u001b[0m\n\u001b[0m\u001b[0;32m      2\u001b[0m \u001b[0mc\u001b[0m\u001b[1;33m\u001b[0m\u001b[1;33m\u001b[0m\u001b[0m\n",
            "\u001b[1;31mAttributeError\u001b[0m: 'frozenset' object has no attribute 'add'"
          ]
        }
      ],
      "source": [
        "c.add(10)\n",
        "c"
      ]
    },
    {
      "cell_type": "code",
      "execution_count": null,
      "metadata": {
        "id": "z7TEaocOk8f3",
        "outputId": "10468c9b-41e6-4d05-c935-2e2dcc31e309"
      },
      "outputs": [
        {
          "name": "stdout",
          "output_type": "stream",
          "text": [
            "frozenset Object is :  frozenset({1, 2, 3, 4, 5, 6, 7, 8, 9})\n"
          ]
        }
      ],
      "source": [
        "# Python program to understand frozenset() function\n",
        "\n",
        "# tuple of numbers\n",
        "nu = (1, 2, 3, 4, 5, 6, 7, 8, 9)\n",
        "\n",
        "# converting tuple to frozenset\n",
        "fnum = frozenset(nu)\n",
        "\n",
        "# printing details\n",
        "print(\"frozenset Object is : \", fnum)\n"
      ]
    },
    {
      "cell_type": "raw",
      "metadata": {
        "id": "qkYE97CQk8f3"
      },
      "source": [
        "Since frozenset object are immutable they are mainly used as key in dictionary or elements of other sets. Below example explains it clearly"
      ]
    },
    {
      "cell_type": "code",
      "execution_count": null,
      "metadata": {
        "id": "4yJx8kCmk8f4",
        "outputId": "0b70c0f2-d134-45f7-d1a3-b3fcf70699d6"
      },
      "outputs": [
        {
          "name": "stdout",
          "output_type": "stream",
          "text": [
            "The frozen set is: frozenset({'name', 'sex', 'age', 'college', 'address'})\n"
          ]
        }
      ],
      "source": [
        "# Python program to understand use\n",
        "# of frozenset function\n",
        "\n",
        "# creating a dictionary\n",
        "Student = {\"name\": \"Ankit\", \"age\": 21, \"sex\": \"Male\",\n",
        "\t\t\"college\": \"MNNIT Allahabad\", \"address\": \"Allahabad\"}\n",
        "\n",
        "# making keys of dictionary as frozenset\n",
        "key = frozenset(Student)\n",
        "\n",
        "# printing keys details\n",
        "print('The frozen set is:', key)\n"
      ]
    },
    {
      "cell_type": "raw",
      "metadata": {
        "id": "JtdW9pqGk8f4"
      },
      "source": [
        "If by mistake we want to change the frozenset object then it throws an error “‘frozenset’ object does not support item assignment“. "
      ]
    },
    {
      "cell_type": "code",
      "execution_count": null,
      "metadata": {
        "id": "humCmERpk8f5",
        "outputId": "1a8374c1-701b-42d4-c719-634f2f030aea"
      },
      "outputs": [
        {
          "ename": "TypeError",
          "evalue": "'frozenset' object does not support item assignment",
          "output_type": "error",
          "traceback": [
            "\u001b[1;31m---------------------------------------------------------------------------\u001b[0m",
            "\u001b[1;31mTypeError\u001b[0m                                 Traceback (most recent call last)",
            "\u001b[1;32m<ipython-input-96-cd8be4b391f3>\u001b[0m in \u001b[0;36m<module>\u001b[1;34m\u001b[0m\n\u001b[0;32m     10\u001b[0m \u001b[1;31m# below line will generate error\u001b[0m\u001b[1;33m\u001b[0m\u001b[1;33m\u001b[0m\u001b[1;33m\u001b[0m\u001b[0m\n\u001b[0;32m     11\u001b[0m \u001b[1;33m\u001b[0m\u001b[0m\n\u001b[1;32m---> 12\u001b[1;33m \u001b[0mf_subject\u001b[0m\u001b[1;33m[\u001b[0m\u001b[1;36m1\u001b[0m\u001b[1;33m]\u001b[0m \u001b[1;33m=\u001b[0m \u001b[1;34m\"Networking\"\u001b[0m\u001b[1;33m\u001b[0m\u001b[1;33m\u001b[0m\u001b[0m\n\u001b[0m",
            "\u001b[1;31mTypeError\u001b[0m: 'frozenset' object does not support item assignment"
          ]
        }
      ],
      "source": [
        "# Python program to understand\n",
        "# use of frozenset function\n",
        "\n",
        "# creating a list\n",
        "favourite_subject = [\"OS\", \"DBMS\", \"Algo\"]\n",
        "\n",
        "# making it frozenset type\n",
        "f_subject = frozenset(favourite_subject)\n",
        "\n",
        "# below line will generate error\n",
        "\n",
        "f_subject[1] = \"Networking\"\n"
      ]
    },
    {
      "cell_type": "code",
      "execution_count": null,
      "metadata": {
        "id": "lJateuOEk8f5",
        "outputId": "d332593d-2271-4cb0-fe29-643735bc6faf"
      },
      "outputs": [
        {
          "name": "stdout",
          "output_type": "stream",
          "text": [
            "<class 'frozenset'>\n",
            "\n",
            "printing the content of frozen set...\n",
            "1\n",
            "2\n",
            "3\n",
            "4\n",
            "5\n"
          ]
        },
        {
          "ename": "AttributeError",
          "evalue": "'frozenset' object has no attribute 'add'",
          "output_type": "error",
          "traceback": [
            "\u001b[1;31m---------------------------------------------------------------------------\u001b[0m",
            "\u001b[1;31mAttributeError\u001b[0m                            Traceback (most recent call last)",
            "\u001b[1;32m<ipython-input-31-8151203d7d02>\u001b[0m in \u001b[0;36m<module>\u001b[1;34m\u001b[0m\n\u001b[0;32m      4\u001b[0m \u001b[1;32mfor\u001b[0m \u001b[0mi\u001b[0m \u001b[1;32min\u001b[0m \u001b[0mFrozenset\u001b[0m\u001b[1;33m:\u001b[0m\u001b[1;33m\u001b[0m\u001b[1;33m\u001b[0m\u001b[0m\n\u001b[0;32m      5\u001b[0m     \u001b[0mprint\u001b[0m\u001b[1;33m(\u001b[0m\u001b[0mi\u001b[0m\u001b[1;33m)\u001b[0m\u001b[1;33m;\u001b[0m\u001b[1;33m\u001b[0m\u001b[1;33m\u001b[0m\u001b[0m\n\u001b[1;32m----> 6\u001b[1;33m \u001b[0mFrozenset\u001b[0m\u001b[1;33m.\u001b[0m\u001b[0madd\u001b[0m\u001b[1;33m(\u001b[0m\u001b[1;36m6\u001b[0m\u001b[1;33m)\u001b[0m \u001b[1;31m#gives an error since we cannot change the content of Frozenset after creation\u001b[0m\u001b[1;33m\u001b[0m\u001b[1;33m\u001b[0m\u001b[0m\n\u001b[0m",
            "\u001b[1;31mAttributeError\u001b[0m: 'frozenset' object has no attribute 'add'"
          ]
        }
      ],
      "source": [
        "Frozenset = frozenset([1,2,3,4,5])     \n",
        "print(type(Frozenset))    \n",
        "print(\"\\nprinting the content of frozen set...\")    \n",
        "for i in Frozenset:    \n",
        "    print(i);    \n",
        "Frozenset.add(6) #gives an error since we cannot change the content of Frozenset after creation  "
      ]
    },
    {
      "cell_type": "markdown",
      "metadata": {
        "id": "Cj136-7Hk8f5"
      },
      "source": [
        "# Frozenset for the dictionary"
      ]
    },
    {
      "cell_type": "raw",
      "metadata": {
        "id": "_Ru875lQk8f6"
      },
      "source": [
        "If we pass the dictionary as the sequence inside the frozenset() method, it will take only the keys from the dictionary and returns a frozenset that contains the key of the dictionary as its elements.\n",
        "\n",
        "Consider the following example."
      ]
    },
    {
      "cell_type": "code",
      "execution_count": null,
      "metadata": {
        "id": "Iqx-Kb1ik8f6",
        "outputId": "14379aa6-3423-4b17-f8ea-a940c9e5d555"
      },
      "outputs": [
        {
          "name": "stdout",
          "output_type": "stream",
          "text": [
            "<class 'dict'>\n",
            "<class 'frozenset'>\n",
            "Country\n",
            "Name\n",
            "ID\n"
          ]
        }
      ],
      "source": [
        "Dictionary = {\"Name\":\"John\", \"Country\":\"USA\", \"ID\":101}     \n",
        "print(type(Dictionary))    \n",
        "Frozenset = frozenset(Dictionary); #Frozenset will contain the keys of the dictionary    \n",
        "print(type(Frozenset))    \n",
        "for i in Frozenset:     \n",
        "    print(i) "
      ]
    },
    {
      "cell_type": "markdown",
      "metadata": {
        "id": "Urh5p5l7k8f6"
      },
      "source": [
        "# Set Programming Example"
      ]
    },
    {
      "cell_type": "code",
      "execution_count": null,
      "metadata": {
        "id": "k6nY4e9Fk8f7",
        "outputId": "e62d7006-8a2c-4409-a792-2e79a5ac0228"
      },
      "outputs": [
        {
          "name": "stdout",
          "output_type": "stream",
          "text": [
            "Enter the number you want to remove3\n",
            "After Removing: {1, 2, 4, 5, 6, 12, 24}\n"
          ]
        }
      ],
      "source": [
        "#Example - 1: Write a program to remove the given number from the set.\n",
        "\n",
        "my_set = {1,2,3,4,5,6,12,24}  \n",
        "n = int(input(\"Enter the number you want to remove\"))  \n",
        "my_set.discard(n)  \n",
        "print(\"After Removing:\",my_set)  "
      ]
    },
    {
      "cell_type": "code",
      "execution_count": null,
      "metadata": {
        "id": "8LBLP-P5k8f7",
        "outputId": "5d0f6bb9-e535-4906-b716-f6299e28c955"
      },
      "outputs": [
        {
          "name": "stdout",
          "output_type": "stream",
          "text": [
            "{1, 2, 4, 'Mango', 'John', 'Apple', 'Grapes', 'CS'}\n"
          ]
        }
      ],
      "source": [
        "#Example - 2: Write a program to add multiple elements to the set.\n",
        "\n",
        "set1 = set([1,2,4,\"John\",\"CS\"])  \n",
        "set1.update([\"Apple\",\"Mango\",\"Grapes\"])  \n",
        "print(set1)  \n"
      ]
    },
    {
      "cell_type": "code",
      "execution_count": null,
      "metadata": {
        "id": "d9NEkbAak8f7",
        "outputId": "bbb5a2a1-8511-4dd0-f344-cc100ded9b1f"
      },
      "outputs": [
        {
          "name": "stdout",
          "output_type": "stream",
          "text": [
            "{96, 65, 'Peter', 2, 1, 'Joseph', 59}\n"
          ]
        }
      ],
      "source": [
        "#Example - 3: Write a program to find the union between two set.\n",
        "\n",
        "set1 = set([\"Peter\",\"Joseph\", 65,59,96])  \n",
        "set2  = set([\"Peter\",1,2,\"Joseph\"])  \n",
        "set3 = set1.union(set2)  \n",
        "print(set3) \n"
      ]
    },
    {
      "cell_type": "code",
      "execution_count": null,
      "metadata": {
        "id": "Jfbas8lqk8f8",
        "outputId": "c6e880ad-9e24-42d8-ba07-20c8fbfd98be"
      },
      "outputs": [
        {
          "name": "stdout",
          "output_type": "stream",
          "text": [
            "{56, 23}\n"
          ]
        }
      ],
      "source": [
        "#Example- 4: Write a program to find the intersection between two sets.\n",
        "\n",
        "set1 = {23,44,56,67,90,45,\"Javatpoint\"}  \n",
        "set2 = {13,23,56,76,\"Sachin\"}  \n",
        "set3 = set1.intersection(set2)  \n",
        "print(set3)  "
      ]
    },
    {
      "cell_type": "code",
      "execution_count": null,
      "metadata": {
        "id": "oMvTVgE_k8f8",
        "outputId": "8e959847-ed56-4b0d-ec35-a7f7c153708b"
      },
      "outputs": [
        {
          "name": "stdout",
          "output_type": "stream",
          "text": [
            "{56, 23}\n"
          ]
        }
      ],
      "source": [
        "#Example - 5: Write the program to add element to the frozenset.\n",
        "\n",
        "set1 = {23,44,56,67,90,45,\"Javatpoint\"}  \n",
        "set2 = {13,23,56,76,\"Sachin\"}  \n",
        "set3 = set1.intersection(set2)  \n",
        "print(set3)  "
      ]
    },
    {
      "cell_type": "code",
      "execution_count": null,
      "metadata": {
        "id": "i-_t9zUDk8f9",
        "outputId": "4a1fbe6a-f5ac-470c-9d04-2c0c0b533daf"
      },
      "outputs": [
        {
          "name": "stdout",
          "output_type": "stream",
          "text": [
            "False\n",
            "False\n",
            "True\n",
            "True\n"
          ]
        }
      ],
      "source": [
        "#Example - 6: Write the program to find the issuperset, issubset and superset.\n",
        "\n",
        "set1 = set([\"Peter\",\"James\",\"Camroon\",\"Ricky\",\"Donald\"])  \n",
        "set2 = set([\"Camroon\",\"Washington\",\"Peter\"])  \n",
        "set3 = set([\"Peter\"])  \n",
        "  \n",
        "issubset = set1 >= set2  \n",
        "print(issubset)  \n",
        "issuperset = set1 <= set2  \n",
        "print(issuperset)  \n",
        "issubset = set3 <= set2  \n",
        "print(issubset)  \n",
        "issuperset = set2 >= set3  \n",
        "print(issuperset)  "
      ]
    },
    {
      "cell_type": "markdown",
      "metadata": {
        "id": "Q_cloz94k8f9"
      },
      "source": [
        "# Python Built-in set methods"
      ]
    },
    {
      "cell_type": "raw",
      "metadata": {
        "id": "9XoSacE9k8f9"
      },
      "source": [
        "Python contains the following methods to be used with the sets.\n",
        "\n",
        "SN\tMethod\tDescription\n",
        "1\tadd(item)\tIt adds an item to the set. It has no effect if the item is already present in the set.\n",
        "2\tclear()\tIt deletes all the items from the set.\n",
        "3\tcopy()\tIt returns a shallow copy of the set.\n",
        "4\tdifference_update(....)\tIt modifies this set by removing all the items that are also present in the specified sets.\n",
        "5\tdiscard(item)\tIt removes the specified item from the set.\n",
        "6\tintersection()\tIt returns a new set that contains only the common elements of both the sets. (all the sets if more than two are specified).\n",
        "7\tintersection_update(....)\tIt removes the items from the original set that are not present in both the sets (all the sets if more than one are specified).\n",
        "8\tIsdisjoint(....)\tReturn True if two sets have a null intersection.\n",
        "9\tIssubset(....)\tReport whether another set contains this set.\n",
        "10\tIssuperset(....)\tReport whether this set contains another set.\n",
        "11\tpop()\tRemove and return an arbitrary set element that is the last element of the set. Raises KeyError if the set is empty.\n",
        "12\tremove(item)\tRemove an element from a set; it must be a member. If the element is not a member, raise a KeyError.\n",
        "13\tsymmetric_difference(....)\tRemove an element from a set; it must be a member. If the element is not a member, raise a KeyError.\n",
        "14\tsymmetric_difference_update(....)\tUpdate a set with the symmetric difference of itself and another.\n",
        "15\tunion(....)\tReturn the union of sets as a new set.\n",
        "(i.e. all elements that are in either set.)\n",
        "16\tupdate()\tUpdate a set with the union of itself and others."
      ]
    },
    {
      "cell_type": "raw",
      "metadata": {
        "id": "gu-RRF3xk8f-"
      },
      "source": [
        "# Python Collections (Arrays)\n",
        "\n",
        "There are four collection data types in the Python programming language:\n",
        "\n",
        "1. List is a collection which is ordered and changeable. Allows duplicate members.\n",
        "\n",
        "\n",
        "2. Tuple is a collection which is ordered and unchangeable. Allows duplicate members.\n",
        "\n",
        "\n",
        "3. Set is a collection which is unordered, unchangeable*, and unindexed. No duplicate members.\n",
        "\n",
        "\n",
        "4. Dictionary is a collection which is ordered** and changeable. No duplicate members."
      ]
    },
    {
      "cell_type": "code",
      "execution_count": null,
      "metadata": {
        "id": "E8sysKXKk8f-"
      },
      "outputs": [],
      "source": [
        ""
      ]
    },
    {
      "cell_type": "code",
      "execution_count": null,
      "metadata": {
        "id": "ENxP4a-Kk8f-"
      },
      "outputs": [],
      "source": [
        ""
      ]
    },
    {
      "cell_type": "code",
      "execution_count": null,
      "metadata": {
        "id": "oWqjA8gHk8f_"
      },
      "outputs": [],
      "source": [
        "\n"
      ]
    }
  ],
  "metadata": {
    "kernelspec": {
      "display_name": "Python 3",
      "language": "python",
      "name": "python3"
    },
    "language_info": {
      "codemirror_mode": {
        "name": "ipython",
        "version": 3
      },
      "file_extension": ".py",
      "mimetype": "text/x-python",
      "name": "python",
      "nbconvert_exporter": "python",
      "pygments_lexer": "ipython3",
      "version": "3.8.5"
    },
    "colab": {
      "name": "Python Data Types - Set.ipynb",
      "provenance": [],
      "include_colab_link": true
    }
  },
  "nbformat": 4,
  "nbformat_minor": 0
}