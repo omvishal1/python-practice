{
 "cells": [
  {
   "cell_type": "markdown",
   "metadata": {},
   "source": [
    "# Python Data Types"
   ]
  },
  {
   "cell_type": "code",
   "execution_count": null,
   "metadata": {},
   "outputs": [],
   "source": [
    "Data ---> Information\n",
    "\n",
    "\n",
    "Type: What kind of Information\n",
    "    \n",
    "    \n",
    "1. Numbers: INT/FLOAT/Complex Numbers\n",
    "\n",
    "2. Text: Strings\n",
    "    \n",
    "3. Boolean: True\n",
    "        \n",
    "Images/Video---> Pixel----> Numbers\n",
    "\n",
    "Audio----> Frequency-------> Numbers\n",
    "\n",
    "LIST\n",
    "\n",
    "Tuple\n",
    "\n",
    "Set\n",
    "\n",
    "Dictionary\n"
   ]
  },
  {
   "cell_type": "code",
   "execution_count": null,
   "metadata": {},
   "outputs": [],
   "source": [
    "Generating Data----> Store---> a=[1,2,3,4,5,6,7,.......]"
   ]
  },
  {
   "cell_type": "raw",
   "metadata": {},
   "source": [
    "Data types are the classification or categorization of data items. \n",
    "\n",
    "It represents the kind of value that tells what operations can be performed on a particular data. \n",
    "\n",
    "Since everything is an object in Python programming, data types are actually classes and variables are instance (object) of these classes."
   ]
  },
  {
   "cell_type": "raw",
   "metadata": {},
   "source": [
    "Variables can hold values, and every value has a data-type. \n",
    "\n",
    "Python is a dynamically typed language; hence we do not need to define the type of the variable while declaring it. \n",
    "\n",
    "The interpreter implicitly binds the value with its type.\n",
    "\n",
    "a = 5  \n",
    "\n",
    "The variable a holds integer value five and we did not define its type. Python interpreter will automatically interpret variables a as an integer type.\n",
    "\n",
    "Python enables us to check the type of the variable used in the program. Python provides us the type() function, which returns the type of the variable passed.\n",
    "\n"
   ]
  },
  {
   "cell_type": "raw",
   "metadata": {},
   "source": [
    "Consider the following example to define the values of different data types and checking its type."
   ]
  },
  {
   "cell_type": "code",
   "execution_count": 1,
   "metadata": {},
   "outputs": [
    {
     "name": "stdout",
     "output_type": "stream",
     "text": [
      "<class 'int'>\n",
      "<class 'str'>\n",
      "<class 'float'>\n"
     ]
    }
   ],
   "source": [
    "\n",
    "a=10  \n",
    "b=\"Hi Python\"  \n",
    "c = 10.5  \n",
    "print(type(a))  \n",
    "print(type(b))  \n",
    "print(type(c)) "
   ]
  },
  {
   "cell_type": "markdown",
   "metadata": {},
   "source": [
    "# Standard data types"
   ]
  },
  {
   "cell_type": "raw",
   "metadata": {},
   "source": [
    "A variable can hold different types of values. For example, a person's name must be stored as a string whereas its id must be stored as an integer.\n",
    "\n",
    "Python provides various standard data types that define the storage method on each of them. The data types defined in Python are given below.\n",
    "\n",
    "1. Numbers (int/Flaot/Complex)\n",
    "\n",
    "2. Sequence Type (String/List/Tuple)\n",
    "\n",
    "3. Boolean\n",
    "\n",
    "4. Set\n",
    "\n",
    "5. Dictionary\n"
   ]
  },
  {
   "cell_type": "markdown",
   "metadata": {},
   "source": [
    "![](1.png)\n"
   ]
  },
  {
   "cell_type": "markdown",
   "metadata": {},
   "source": [
    "# Set"
   ]
  },
  {
   "cell_type": "raw",
   "metadata": {},
   "source": [
    "1. A set is a collection which is unordered, unchangeable*, and unindexed.\n",
    "\n",
    "* Note: Set items are unchangeable, but you can remove items and add new items.\n",
    "\n",
    "2. A set is a unique collection of objects in Python. \n",
    "\n",
    "3. You can denote a set with a curly bracket <b>{}</b>. Python will automatically remove duplicate items:\n",
    "\n",
    "4. A Python set is the collection of the unordered items. Each element in the set must be unique, immutable, and the sets remove the duplicate elements. \n",
    "\n",
    "5. Sets are mutable which means we can modify it after its creation.\n",
    "\n",
    "6. Unlike other collections in Python, there is no index attached to the elements of the set, i.e., we cannot directly access any element of the set by the index. However, we can print them all together, or we can get the list of elements by looping through the set."
   ]
  },
  {
   "cell_type": "markdown",
   "metadata": {},
   "source": [
    "# Creating a set"
   ]
  },
  {
   "cell_type": "raw",
   "metadata": {},
   "source": [
    "The set can be created by enclosing the comma-separated immutable items with the curly braces {}. Python also provides the set() method, which can be used to create the set by the passed sequence."
   ]
  },
  {
   "cell_type": "code",
   "execution_count": 101,
   "metadata": {},
   "outputs": [
    {
     "data": {
      "text/plain": [
       "{}"
      ]
     },
     "execution_count": 101,
     "metadata": {},
     "output_type": "execute_result"
    }
   ],
   "source": [
    "# creating empty set\n",
    "\n",
    "a={}\n",
    "a"
   ]
  },
  {
   "cell_type": "code",
   "execution_count": 102,
   "metadata": {},
   "outputs": [
    {
     "data": {
      "text/plain": [
       "dict"
      ]
     },
     "execution_count": 102,
     "metadata": {},
     "output_type": "execute_result"
    }
   ],
   "source": [
    "type(a)"
   ]
  },
  {
   "cell_type": "raw",
   "metadata": {},
   "source": [
    "Creating an empty set is a bit different because empty curly {} braces are also used to create a dictionary as well. So Python provides the set() method used without an argument to create an empty set."
   ]
  },
  {
   "cell_type": "code",
   "execution_count": 10,
   "metadata": {},
   "outputs": [
    {
     "name": "stdout",
     "output_type": "stream",
     "text": [
      "<class 'dict'>\n",
      "<class 'set'>\n"
     ]
    }
   ],
   "source": [
    "# Empty curly braces will create dictionary  \n",
    "set3 = {}  \n",
    "print(type(set3))  \n",
    "  \n",
    "# Empty set using set() function  \n",
    "set4 = set()  \n",
    "print(type(set4))  "
   ]
  },
  {
   "cell_type": "code",
   "execution_count": 109,
   "metadata": {},
   "outputs": [
    {
     "name": "stdout",
     "output_type": "stream",
     "text": [
      "{'Wednesday', 'Tuesday', 'Monday', 'Sunday', 'Thursday', 'Friday', 'Saturday'}\n",
      "<class 'set'>\n"
     ]
    }
   ],
   "source": [
    "Days = {\"Monday\", \"Tuesday\", \"Wednesday\", \"Thursday\", \"Friday\", \"Saturday\", \"Sunday\"}    \n",
    "print(Days)    \n",
    "print(type(Days)) "
   ]
  },
  {
   "cell_type": "markdown",
   "metadata": {},
   "source": [
    "# Example 2: Using set() method"
   ]
  },
  {
   "cell_type": "code",
   "execution_count": null,
   "metadata": {},
   "outputs": [],
   "source": [
    "list()\n",
    "\n",
    "tuple()\n",
    "\n",
    "dict()\n",
    "\n",
    "set()\n",
    "\n"
   ]
  },
  {
   "cell_type": "code",
   "execution_count": 113,
   "metadata": {},
   "outputs": [
    {
     "name": "stdout",
     "output_type": "stream",
     "text": [
      "{'Wednesday', 'Tuesday', 'Monday', 'Sunday', 'Thursday', 'Friday', 'Saturday'}\n",
      "<class 'set'>\n"
     ]
    }
   ],
   "source": [
    "Days = set([\"Monday\", \"Tuesday\", \"Wednesday\", \"Thursday\", \"Friday\", \"Saturday\", \"Sunday\"])    \n",
    "print(Days)    \n",
    "print(type(Days)) "
   ]
  },
  {
   "cell_type": "code",
   "execution_count": 114,
   "metadata": {},
   "outputs": [
    {
     "name": "stdout",
     "output_type": "stream",
     "text": [
      "{'a', 'c', 'b'}\n",
      "{'a', 'd', 'c', 'b'}\n"
     ]
    }
   ],
   "source": [
    "# Python program to\n",
    "# demonstrate sets\n",
    "\n",
    "# Same as {\"a\", \"b\", \"c\"}\n",
    "myset = set([\"a\", \"b\", \"c\"])\n",
    "print(myset)\n",
    "\n",
    "# Adding element to the set\n",
    "myset.add(\"d\")\n",
    "print(myset)\n"
   ]
  },
  {
   "cell_type": "markdown",
   "metadata": {},
   "source": [
    "# You can also create a set from a list as follows:"
   ]
  },
  {
   "cell_type": "code",
   "execution_count": 118,
   "metadata": {},
   "outputs": [
    {
     "name": "stdout",
     "output_type": "stream",
     "text": [
      "['Michael Jackson', 'Thriller', 1982, '00:42:19', 'Pop, Rock, R&B', 46.0, 65, '30-Nov-82', None, 10.0, 'Thriller']\n",
      "Michael Jackson\n",
      "{65, 'Thriller', None, 10.0, 'Michael Jackson', 46.0, '30-Nov-82', '00:42:19', 1982, 'Pop, Rock, R&B'}\n"
     ]
    }
   ],
   "source": [
    "# Convert list to set\n",
    "\n",
    "album_list = [ \"Michael Jackson\", \"Thriller\", 1982, \"00:42:19\", \\\n",
    "              \"Pop, Rock, R&B\", 46.0, 65, \"30-Nov-82\", None, 10.0,\"Thriller\"]\n",
    "print(album_list)\n",
    "print(album_list[0])\n",
    "album_set = set(album_list)   \n",
    "\n",
    "print(album_set)"
   ]
  },
  {
   "cell_type": "code",
   "execution_count": 117,
   "metadata": {},
   "outputs": [
    {
     "ename": "TypeError",
     "evalue": "'set' object is not subscriptable",
     "output_type": "error",
     "traceback": [
      "\u001b[1;31m---------------------------------------------------------------------------\u001b[0m",
      "\u001b[1;31mTypeError\u001b[0m                                 Traceback (most recent call last)",
      "\u001b[1;32m<ipython-input-117-6858e31dde52>\u001b[0m in \u001b[0;36m<module>\u001b[1;34m\u001b[0m\n\u001b[1;32m----> 1\u001b[1;33m \u001b[0malbum_set\u001b[0m\u001b[1;33m[\u001b[0m\u001b[1;36m0\u001b[0m\u001b[1;33m]\u001b[0m\u001b[1;33m\u001b[0m\u001b[1;33m\u001b[0m\u001b[0m\n\u001b[0m",
      "\u001b[1;31mTypeError\u001b[0m: 'set' object is not subscriptable"
     ]
    }
   ],
   "source": [
    "album_set[0]"
   ]
  },
  {
   "cell_type": "code",
   "execution_count": 119,
   "metadata": {},
   "outputs": [
    {
     "ename": "TypeError",
     "evalue": "'set' object does not support item assignment",
     "output_type": "error",
     "traceback": [
      "\u001b[1;31m---------------------------------------------------------------------------\u001b[0m",
      "\u001b[1;31mTypeError\u001b[0m                                 Traceback (most recent call last)",
      "\u001b[1;32m<ipython-input-119-cc224f88eb4a>\u001b[0m in \u001b[0;36m<module>\u001b[1;34m\u001b[0m\n\u001b[1;32m----> 1\u001b[1;33m \u001b[0malbum_set\u001b[0m\u001b[1;33m[\u001b[0m\u001b[1;36m0\u001b[0m\u001b[1;33m]\u001b[0m\u001b[1;33m=\u001b[0m\u001b[1;36m9\u001b[0m\u001b[1;33m\u001b[0m\u001b[1;33m\u001b[0m\u001b[0m\n\u001b[0m",
      "\u001b[1;31mTypeError\u001b[0m: 'set' object does not support item assignment"
     ]
    }
   ],
   "source": [
    "album_set[0]=9"
   ]
  },
  {
   "cell_type": "code",
   "execution_count": 120,
   "metadata": {},
   "outputs": [
    {
     "data": {
      "text/plain": [
       "{'R&B',\n",
       " 'disco',\n",
       " 'folk rock',\n",
       " 'hard rock',\n",
       " 'pop',\n",
       " 'progressive rock',\n",
       " 'rock',\n",
       " 'soft rock',\n",
       " 'soul'}"
      ]
     },
     "execution_count": 120,
     "metadata": {},
     "output_type": "execute_result"
    }
   ],
   "source": [
    "# Convert list to set\n",
    "\n",
    "music_genres = set([\"pop\", \"pop\", \"rock\", \"folk rock\", \"hard rock\", \"soul\", \\\n",
    "                    \"progressive rock\", \"soft rock\", \"R&B\", \"disco\"])\n",
    "music_genres"
   ]
  },
  {
   "cell_type": "markdown",
   "metadata": {},
   "source": [
    "# You can also create a set from a tuple as follows:"
   ]
  },
  {
   "cell_type": "code",
   "execution_count": 121,
   "metadata": {},
   "outputs": [
    {
     "data": {
      "text/plain": [
       "{'bag', 'kurti', 'sneakers', 't-shirt'}"
      ]
     },
     "execution_count": 121,
     "metadata": {},
     "output_type": "execute_result"
    }
   ],
   "source": [
    "# create a set using set constructor\n",
    "obj = set((\"bag\", \"kurti\", \"sneakers\", \"t-shirt\"))\n",
    "obj"
   ]
  },
  {
   "cell_type": "markdown",
   "metadata": {},
   "source": [
    "# Set Items\n",
    "\n",
    "Set items are unordered, unchangeable, and do not allow duplicate values."
   ]
  },
  {
   "cell_type": "markdown",
   "metadata": {},
   "source": [
    "# Unordered\n",
    "\n",
    "Unordered means that the items in a set do not have a defined order.\n",
    "\n",
    "Set items can appear in a different order every time you use them, and cannot be referred to by index or key."
   ]
  },
  {
   "cell_type": "markdown",
   "metadata": {},
   "source": [
    "# Unchangeable\n",
    "\n",
    "Set items are unchangeable, meaning that we cannot change the items after the set has been created.\n",
    "\n",
    "Once a set is created, you cannot change its items, but you can remove items and add new items."
   ]
  },
  {
   "cell_type": "raw",
   "metadata": {},
   "source": [
    "Every set element is unique (no duplicates) and must be immutable (cannot be changed). However, a set itself is mutable. We can add or remove items from it."
   ]
  },
  {
   "cell_type": "markdown",
   "metadata": {},
   "source": [
    "# Duplicates Not Allowed\n",
    "Sets cannot have two items with the same value."
   ]
  },
  {
   "cell_type": "code",
   "execution_count": 122,
   "metadata": {},
   "outputs": [
    {
     "name": "stdout",
     "output_type": "stream",
     "text": [
      "{'apple', 'banana', 'cherry'}\n"
     ]
    }
   ],
   "source": [
    "thisset = {\"apple\", \"banana\", \"cherry\", \"apple\"}\n",
    "\n",
    "print(thisset)"
   ]
  },
  {
   "cell_type": "code",
   "execution_count": 123,
   "metadata": {},
   "outputs": [
    {
     "data": {
      "text/plain": [
       "['pop', 'rock', 'soul', 'hard rock', 'rock', 'R&B', 'rock', 'disco']"
      ]
     },
     "execution_count": 123,
     "metadata": {},
     "output_type": "execute_result"
    }
   ],
   "source": [
    "# Create a set\n",
    "\n",
    "set2 = [\"pop\", \"rock\", \"soul\", \"hard rock\", \"rock\", \"R&B\", \"rock\", \"disco\"]\n",
    "set2"
   ]
  },
  {
   "cell_type": "markdown",
   "metadata": {},
   "source": [
    "<img src=\"https://s3-api.us-geo.objectstorage.softlayer.net/cf-courses-data/CognitiveClass/PY0101EN/Chapter%202/Images/SetsUnique.png\" width=\"1100\" />"
   ]
  },
  {
   "cell_type": "markdown",
   "metadata": {},
   "source": [
    "# Get the Length of a Set"
   ]
  },
  {
   "cell_type": "code",
   "execution_count": 124,
   "metadata": {},
   "outputs": [
    {
     "name": "stdout",
     "output_type": "stream",
     "text": [
      "3\n"
     ]
    }
   ],
   "source": [
    "#To determine how many items a set has, use the len() method.\n",
    "\n",
    "#Example: Get the number of items in a set:\n",
    "\n",
    "thisset = {\"apple\", \"banana\", \"cherry\"}\n",
    "\n",
    "print(len(thisset))"
   ]
  },
  {
   "cell_type": "markdown",
   "metadata": {},
   "source": [
    "# Set Items - Data Types\n",
    "Set items can be of any data type:"
   ]
  },
  {
   "cell_type": "code",
   "execution_count": 6,
   "metadata": {},
   "outputs": [],
   "source": [
    "#Example: String, int and boolean data types:\n",
    "\n",
    "set1 = {\"apple\", \"banana\", \"cherry\"}\n",
    "set2 = {1, 5, 7, 9, 3}\n",
    "set3 = {True, False, False}"
   ]
  },
  {
   "cell_type": "markdown",
   "metadata": {},
   "source": [
    "# Access Elements"
   ]
  },
  {
   "cell_type": "code",
   "execution_count": 125,
   "metadata": {},
   "outputs": [
    {
     "data": {
      "text/plain": [
       "{'bag', 'kurti', 'sneakers', 't-shirt'}"
      ]
     },
     "execution_count": 125,
     "metadata": {},
     "output_type": "execute_result"
    }
   ],
   "source": [
    "obj4= {\"bag\", \"kurti\", \"sneakers\", \"t-shirt\"}\n",
    "obj4"
   ]
  },
  {
   "cell_type": "code",
   "execution_count": 126,
   "metadata": {},
   "outputs": [
    {
     "ename": "TypeError",
     "evalue": "'set' object is not subscriptable",
     "output_type": "error",
     "traceback": [
      "\u001b[1;31m---------------------------------------------------------------------------\u001b[0m",
      "\u001b[1;31mTypeError\u001b[0m                                 Traceback (most recent call last)",
      "\u001b[1;32m<ipython-input-126-190037373235>\u001b[0m in \u001b[0;36m<module>\u001b[1;34m\u001b[0m\n\u001b[1;32m----> 1\u001b[1;33m \u001b[0mobj4\u001b[0m\u001b[1;33m[\u001b[0m\u001b[1;36m1\u001b[0m\u001b[1;33m]\u001b[0m\u001b[1;33m\u001b[0m\u001b[1;33m\u001b[0m\u001b[0m\n\u001b[0m",
      "\u001b[1;31mTypeError\u001b[0m: 'set' object is not subscriptable"
     ]
    }
   ],
   "source": [
    "obj4[1]\n"
   ]
  },
  {
   "cell_type": "markdown",
   "metadata": {},
   "source": [
    "# Set is not Mutable"
   ]
  },
  {
   "cell_type": "code",
   "execution_count": 46,
   "metadata": {},
   "outputs": [
    {
     "data": {
      "text/plain": [
       "{'bag', 'kurti', 'sneakers', 't-shirt'}"
      ]
     },
     "execution_count": 46,
     "metadata": {},
     "output_type": "execute_result"
    }
   ],
   "source": [
    "obj4= {\"bag\", \"kurti\", \"sneakers\", \"t-shirt\"}\n",
    "obj4"
   ]
  },
  {
   "cell_type": "code",
   "execution_count": 47,
   "metadata": {},
   "outputs": [
    {
     "ename": "TypeError",
     "evalue": "'set' object does not support item assignment",
     "output_type": "error",
     "traceback": [
      "\u001b[1;31m---------------------------------------------------------------------------\u001b[0m",
      "\u001b[1;31mTypeError\u001b[0m                                 Traceback (most recent call last)",
      "\u001b[1;32m<ipython-input-47-f12adb5fa6d8>\u001b[0m in \u001b[0;36m<module>\u001b[1;34m\u001b[0m\n\u001b[1;32m----> 1\u001b[1;33m \u001b[0mobj4\u001b[0m\u001b[1;33m[\u001b[0m\u001b[1;36m1\u001b[0m\u001b[1;33m]\u001b[0m\u001b[1;33m=\u001b[0m\u001b[1;34m'india'\u001b[0m\u001b[1;33m\u001b[0m\u001b[1;33m\u001b[0m\u001b[0m\n\u001b[0m\u001b[0;32m      2\u001b[0m \u001b[0mobj4\u001b[0m\u001b[1;33m\u001b[0m\u001b[1;33m\u001b[0m\u001b[0m\n",
      "\u001b[1;31mTypeError\u001b[0m: 'set' object does not support item assignment"
     ]
    }
   ],
   "source": [
    "obj4[1]='india'\n",
    "obj4"
   ]
  },
  {
   "cell_type": "markdown",
   "metadata": {},
   "source": [
    "# Note: We can not access elements in a set by referring to an index. Sets are unordered and unindexed"
   ]
  },
  {
   "cell_type": "markdown",
   "metadata": {},
   "source": [
    "# Note: Once set is created we can not change its elements, but we can add new value"
   ]
  },
  {
   "cell_type": "markdown",
   "metadata": {},
   "source": [
    "# Adding elements\n",
    "Insertion in set is done through set.add() function, where an appropriate record value is created to store in the hash table"
   ]
  },
  {
   "cell_type": "raw",
   "metadata": {},
   "source": [
    "Python provides the add() method and update() method which can be used to add some particular item to the set. The add() method is used to add a single element whereas the update() method is used to add multiple elements to the set. Consider the following example."
   ]
  },
  {
   "cell_type": "markdown",
   "metadata": {},
   "source": [
    "# Example: 1 - Using add() method"
   ]
  },
  {
   "cell_type": "code",
   "execution_count": 127,
   "metadata": {},
   "outputs": [
    {
     "name": "stdout",
     "output_type": "stream",
     "text": [
      "\n",
      "printing the original set ... \n",
      "{'March', 'April', 'June', 'January', 'February', 'May'}\n",
      "\n",
      "Adding other months to the set...\n",
      "\n",
      "Printing the modified set...\n",
      "{'March', 'April', 'August', 'July', 'June', 'January', 'February', 'May'}\n",
      "{'March', 'April', 'August', 'July', 'June', 'January', 'February', 'May'}\n"
     ]
    }
   ],
   "source": [
    "Months = set([\"January\",\"February\", \"March\", \"April\", \"May\", \"June\"])    \n",
    "\n",
    "print(\"\\nprinting the original set ... \")    \n",
    "print(Months)    \n",
    "\n",
    "print(\"\\nAdding other months to the set...\");    \n",
    "Months.add(\"July\");    \n",
    "\n",
    "Months.add (\"August\");    \n",
    "print(\"\\nPrinting the modified set...\"); \n",
    "\n",
    "print(Months)    \n",
    "\n",
    "Months.add(\"August\")\n",
    "print(Months)\n",
    "   "
   ]
  },
  {
   "cell_type": "code",
   "execution_count": 8,
   "metadata": {},
   "outputs": [
    {
     "name": "stdout",
     "output_type": "stream",
     "text": [
      "People: {'Archi', 'Jay', 'Idrish'}\n",
      "{'Archi', 'Daxit', 'Jay', 'Idrish'}\n",
      "\n",
      "Set after adding element: {1, 2, 3, 4, 5, 'Archi', 'Daxit', 'Jay', 'Idrish'}\n"
     ]
    }
   ],
   "source": [
    "# A Python program to\n",
    "# demonstrate adding elements\n",
    "# in a set\n",
    "\n",
    "# Creating a Set\n",
    "people = {\"Jay\", \"Idrish\", \"Archi\"}\n",
    "\n",
    "print(\"People:\", end = \" \")\n",
    "print(people)\n",
    "\n",
    "# This will add Daxit\n",
    "# in the set\n",
    "people.add(\"Daxit\")\n",
    "\n",
    "print(people)\n",
    "\n",
    "# Adding elements to the\n",
    "# set using iterator\n",
    "for i in range(1, 6):\n",
    "\tpeople.add(i)\n",
    "\n",
    "print(\"\\nSet after adding element:\", end = \" \")\n",
    "print(people)\n"
   ]
  },
  {
   "cell_type": "code",
   "execution_count": 48,
   "metadata": {},
   "outputs": [
    {
     "name": "stdout",
     "output_type": "stream",
     "text": [
      "{'a', 'c', 'b'}\n",
      "{'a', 'd', 'c', 'b'}\n"
     ]
    }
   ],
   "source": [
    "# Python program to\n",
    "# demonstrate sets\n",
    "  \n",
    "# Same as {\"a\", \"b\", \"c\"}\n",
    "#myset = {\"a\", \"b\", \"c\"}\n",
    "myset = set([\"a\", \"b\", \"c\"])\n",
    "print(myset)\n",
    "  \n",
    "# Adding element to the set\n",
    "myset.add(\"d\")\n",
    "print(myset)"
   ]
  },
  {
   "cell_type": "markdown",
   "metadata": {},
   "source": [
    "# Example - 2 Using update() function"
   ]
  },
  {
   "cell_type": "raw",
   "metadata": {},
   "source": [
    "To add more than one item in the set, Python provides the update() method. It accepts iterable as an argument.\n",
    "\n",
    "Consider the following example."
   ]
  },
  {
   "cell_type": "code",
   "execution_count": 13,
   "metadata": {},
   "outputs": [
    {
     "name": "stdout",
     "output_type": "stream",
     "text": [
      "\n",
      "printing the original set ... \n",
      "{'March', 'April', 'June', 'January', 'February', 'May'}\n",
      "\n",
      "updating the original set ... \n",
      "\n",
      "printing the modified set ... \n",
      "{'March', 'April', 'October', 'August', 'July', 'September', 'June', 'January', 'February', 'May'}\n"
     ]
    }
   ],
   "source": [
    "Months = set([\"January\",\"February\", \"March\", \"April\", \"May\", \"June\"])    \n",
    "\n",
    "print(\"\\nprinting the original set ... \")    \n",
    "print(Months)    \n",
    "print(\"\\nupdating the original set ... \")    \n",
    "\n",
    "Months.update([\"July\",\"August\",\"September\",\"October\"]);    \n",
    "print(\"\\nprinting the modified set ... \")     \n",
    "print(Months);"
   ]
  },
  {
   "cell_type": "markdown",
   "metadata": {},
   "source": [
    "# Removing items from the set"
   ]
  },
  {
   "cell_type": "raw",
   "metadata": {},
   "source": [
    "Python provides the discard() method and remove() method which can be used to remove the items from the set. \n",
    "\n",
    "The difference between these function, using discard() function if the item does not exist in the set then the set remain unchanged whereas remove() method will through an error.\n",
    "\n",
    "Consider the following example."
   ]
  },
  {
   "cell_type": "markdown",
   "metadata": {},
   "source": [
    "# Example-1 Using discard() method"
   ]
  },
  {
   "cell_type": "code",
   "execution_count": 128,
   "metadata": {},
   "outputs": [
    {
     "name": "stdout",
     "output_type": "stream",
     "text": [
      "\n",
      "printing the original set ... \n",
      "{'March', 'April', 'June', 'January', 'February', 'May'}\n",
      "\n",
      "Removing some months from the set...\n",
      "\n",
      "Printing the modified set...\n",
      "{'March', 'April', 'June', 'February'}\n",
      "\n",
      "looping through the set elements ... \n"
     ]
    }
   ],
   "source": [
    "months = set([\"January\",\"February\", \"March\", \"April\", \"May\", \"June\"])    \n",
    "\n",
    "print(\"\\nprinting the original set ... \")    \n",
    "print(months)    \n",
    "print(\"\\nRemoving some months from the set...\");    \n",
    "\n",
    "months.discard(\"January\");    \n",
    "months.discard(\"May\");    \n",
    "\n",
    "print(\"\\nPrinting the modified set...\");    \n",
    "print(months)    \n",
    "print(\"\\nlooping through the set elements ... \")    \n",
    " "
   ]
  },
  {
   "cell_type": "code",
   "execution_count": 66,
   "metadata": {},
   "outputs": [
    {
     "data": {
      "text/plain": [
       "{3.2, 3.3, 5.5, 5.6, 6.7}"
      ]
     },
     "execution_count": 66,
     "metadata": {},
     "output_type": "execute_result"
    }
   ],
   "source": [
    "# create a set\n",
    "height = {5.5, 6.7, 5.6, 3.2, 3.3,5.5}\n",
    "height"
   ]
  },
  {
   "cell_type": "code",
   "execution_count": 67,
   "metadata": {},
   "outputs": [
    {
     "data": {
      "text/plain": [
       "{3.3, 5.5, 5.6, 6.7}"
      ]
     },
     "execution_count": 67,
     "metadata": {},
     "output_type": "execute_result"
    }
   ],
   "source": [
    "# remove element from the set\n",
    "height.discard(3.2)\n",
    "height"
   ]
  },
  {
   "cell_type": "raw",
   "metadata": {},
   "source": [
    "Python provides also the remove() method to remove the item from the set. Consider the following example to remove the items using remove() method."
   ]
  },
  {
   "cell_type": "markdown",
   "metadata": {},
   "source": [
    "# Example-2 Using remove() function"
   ]
  },
  {
   "cell_type": "code",
   "execution_count": 15,
   "metadata": {},
   "outputs": [
    {
     "name": "stdout",
     "output_type": "stream",
     "text": [
      "\n",
      "printing the original set ... \n",
      "{'March', 'April', 'June', 'January', 'February', 'May'}\n",
      "\n",
      "Removing some months from the set...\n",
      "\n",
      "Printing the modified set...\n",
      "{'March', 'April', 'June', 'February'}\n"
     ]
    }
   ],
   "source": [
    "\n",
    "months = set([\"January\",\"February\", \"March\", \"April\", \"May\", \"June\"])    \n",
    "print(\"\\nprinting the original set ... \")    \n",
    "print(months)    \n",
    "print(\"\\nRemoving some months from the set...\");    \n",
    "months.remove(\"January\");    \n",
    "months.remove(\"May\");    \n",
    "print(\"\\nPrinting the modified set...\");    \n",
    "print(months)    "
   ]
  },
  {
   "cell_type": "raw",
   "metadata": {},
   "source": [
    "\n",
    "We can also use the pop() method to remove the item. Generally, the pop() method will always remove the last item but the set is unordered, we can't determine which element will be popped from set.\n",
    "\n",
    "Consider the following example to remove the item from the set using pop() method.\n",
    "\n",
    "\n"
   ]
  },
  {
   "cell_type": "code",
   "execution_count": 17,
   "metadata": {},
   "outputs": [
    {
     "name": "stdout",
     "output_type": "stream",
     "text": [
      "\n",
      "printing the original set ... \n",
      "{'March', 'April', 'June', 'January', 'February', 'May'}\n",
      "\n",
      "Removing some months from the set...\n",
      "\n",
      "Printing the modified set...\n",
      "{'June', 'January', 'February', 'May'}\n"
     ]
    }
   ],
   "source": [
    "Months = set([\"January\",\"February\", \"March\", \"April\", \"May\", \"June\"])    \n",
    "print(\"\\nprinting the original set ... \")    \n",
    "print(Months)    \n",
    "print(\"\\nRemoving some months from the set...\");    \n",
    "Months.pop();    \n",
    "Months.pop();    \n",
    "print(\"\\nPrinting the modified set...\");    \n",
    "print(Months) \n"
   ]
  },
  {
   "cell_type": "code",
   "execution_count": 68,
   "metadata": {},
   "outputs": [
    {
     "data": {
      "text/plain": [
       "{2, 3, 4}"
      ]
     },
     "execution_count": 68,
     "metadata": {},
     "output_type": "execute_result"
    }
   ],
   "source": [
    "# create a first set\n",
    "num_1 = {1, 2, 3, 4}\n",
    "num_1.remove(1)\n",
    "num_1"
   ]
  },
  {
   "cell_type": "raw",
   "metadata": {},
   "source": [
    "In the above code, the last element of the Month set is March but the pop() method removed the June and January because the set is unordered and the pop() method could not determine the last element of the set.\n",
    "\n",
    "Python provides the clear() method to remove all the items from the set.\n",
    "\n",
    "Consider the following example."
   ]
  },
  {
   "cell_type": "code",
   "execution_count": 18,
   "metadata": {},
   "outputs": [
    {
     "name": "stdout",
     "output_type": "stream",
     "text": [
      "\n",
      "printing the original set ... \n",
      "{'March', 'April', 'June', 'January', 'February', 'May'}\n",
      "\n",
      "Removing all the items from the set...\n",
      "\n",
      "Printing the modified set...\n",
      "set()\n"
     ]
    }
   ],
   "source": [
    "Months = set([\"January\",\"February\", \"March\", \"April\", \"May\", \"June\"])    \n",
    "print(\"\\nprinting the original set ... \")    \n",
    "print(Months)    \n",
    "print(\"\\nRemoving all the items from the set...\");    \n",
    "Months.clear()    \n",
    "print(\"\\nPrinting the modified set...\")    \n",
    "print(Months)   \n"
   ]
  },
  {
   "cell_type": "markdown",
   "metadata": {},
   "source": [
    "# Difference between discard() and remove()"
   ]
  },
  {
   "cell_type": "raw",
   "metadata": {},
   "source": [
    "Despite the fact that discard() and remove() method both perform the same task, There is one main difference between discard() and remove().\n",
    "\n",
    "If the key to be deleted from the set using discard() doesn't exist in the set, the Python will not give the error. The program maintains its control flow.\n",
    "\n",
    "On the other hand, if the item to be deleted from the set using remove() doesn't exist in the set, the Python will raise an error.\n",
    "\n",
    "Consider the following example.\n"
   ]
  },
  {
   "cell_type": "code",
   "execution_count": 19,
   "metadata": {},
   "outputs": [
    {
     "name": "stdout",
     "output_type": "stream",
     "text": [
      "\n",
      "printing the original set ... \n",
      "{'March', 'April', 'June', 'January', 'February', 'May'}\n",
      "\n",
      "Removing items through discard() method...\n",
      "\n",
      "printing the modified set...\n",
      "{'March', 'April', 'June', 'January', 'February', 'May'}\n",
      "\n",
      "Removing items through remove() method...\n"
     ]
    },
    {
     "ename": "KeyError",
     "evalue": "'Jan'",
     "output_type": "error",
     "traceback": [
      "\u001b[1;31m---------------------------------------------------------------------------\u001b[0m",
      "\u001b[1;31mKeyError\u001b[0m                                  Traceback (most recent call last)",
      "\u001b[1;32m<ipython-input-19-02d9aeba205d>\u001b[0m in \u001b[0;36m<module>\u001b[1;34m\u001b[0m\n\u001b[0;32m      7\u001b[0m \u001b[0mprint\u001b[0m\u001b[1;33m(\u001b[0m\u001b[0mMonths\u001b[0m\u001b[1;33m)\u001b[0m\u001b[1;33m\u001b[0m\u001b[1;33m\u001b[0m\u001b[0m\n\u001b[0;32m      8\u001b[0m \u001b[0mprint\u001b[0m\u001b[1;33m(\u001b[0m\u001b[1;34m\"\\nRemoving items through remove() method...\"\u001b[0m\u001b[1;33m)\u001b[0m\u001b[1;33m;\u001b[0m\u001b[1;33m\u001b[0m\u001b[1;33m\u001b[0m\u001b[0m\n\u001b[1;32m----> 9\u001b[1;33m \u001b[0mMonths\u001b[0m\u001b[1;33m.\u001b[0m\u001b[0mremove\u001b[0m\u001b[1;33m(\u001b[0m\u001b[1;34m\"Jan\"\u001b[0m\u001b[1;33m)\u001b[0m \u001b[1;31m#will give an error as the key jan is not available in the set.\u001b[0m\u001b[1;33m\u001b[0m\u001b[1;33m\u001b[0m\u001b[0m\n\u001b[0m\u001b[0;32m     10\u001b[0m \u001b[0mprint\u001b[0m\u001b[1;33m(\u001b[0m\u001b[1;34m\"\\nPrinting the modified set...\"\u001b[0m\u001b[1;33m)\u001b[0m\u001b[1;33m\u001b[0m\u001b[1;33m\u001b[0m\u001b[0m\n\u001b[0;32m     11\u001b[0m \u001b[0mprint\u001b[0m\u001b[1;33m(\u001b[0m\u001b[0mMonths\u001b[0m\u001b[1;33m)\u001b[0m\u001b[1;33m\u001b[0m\u001b[1;33m\u001b[0m\u001b[0m\n",
      "\u001b[1;31mKeyError\u001b[0m: 'Jan'"
     ]
    }
   ],
   "source": [
    "Months = set([\"January\",\"February\", \"March\", \"April\", \"May\", \"June\"])    \n",
    "print(\"\\nprinting the original set ... \")    \n",
    "print(Months)    \n",
    "print(\"\\nRemoving items through discard() method...\");    \n",
    "Months.discard(\"Feb\"); #will not give an error although the key feb is not available in the set    \n",
    "print(\"\\nprinting the modified set...\")    \n",
    "print(Months)    \n",
    "print(\"\\nRemoving items through remove() method...\");    \n",
    "Months.remove(\"Jan\") #will give an error as the key jan is not available in the set.     \n",
    "print(\"\\nPrinting the modified set...\")    \n",
    "print(Months)    "
   ]
  },
  {
   "cell_type": "code",
   "execution_count": 49,
   "metadata": {},
   "outputs": [
    {
     "name": "stdout",
     "output_type": "stream",
     "text": [
      "{1, 3, 4, 5, 6}\n",
      "{1, 3, 5, 6}\n",
      "{1, 3, 5}\n",
      "{1, 3, 5}\n"
     ]
    },
    {
     "ename": "KeyError",
     "evalue": "2",
     "output_type": "error",
     "traceback": [
      "\u001b[1;31m---------------------------------------------------------------------------\u001b[0m",
      "\u001b[1;31mKeyError\u001b[0m                                  Traceback (most recent call last)",
      "\u001b[1;32m<ipython-input-49-8cb8edd7dd9a>\u001b[0m in \u001b[0;36m<module>\u001b[1;34m\u001b[0m\n\u001b[0;32m     26\u001b[0m \u001b[1;31m# Output: KeyError\u001b[0m\u001b[1;33m\u001b[0m\u001b[1;33m\u001b[0m\u001b[1;33m\u001b[0m\u001b[0m\n\u001b[0;32m     27\u001b[0m \u001b[1;33m\u001b[0m\u001b[0m\n\u001b[1;32m---> 28\u001b[1;33m \u001b[0mmy_set\u001b[0m\u001b[1;33m.\u001b[0m\u001b[0mremove\u001b[0m\u001b[1;33m(\u001b[0m\u001b[1;36m2\u001b[0m\u001b[1;33m)\u001b[0m\u001b[1;33m\u001b[0m\u001b[1;33m\u001b[0m\u001b[0m\n\u001b[0m",
      "\u001b[1;31mKeyError\u001b[0m: 2"
     ]
    }
   ],
   "source": [
    "# Difference between discard() and remove()\n",
    "\n",
    "# initialize my_set\n",
    "my_set = {1, 3, 4, 5, 6}\n",
    "print(my_set)\n",
    "\n",
    "# discard an element\n",
    "# Output: {1, 3, 5, 6}\n",
    "my_set.discard(4)\n",
    "print(my_set)\n",
    "\n",
    "# remove an element\n",
    "# Output: {1, 3, 5}\n",
    "my_set.remove(6)\n",
    "print(my_set)\n",
    "\n",
    "# discard an element\n",
    "# not present in my_set\n",
    "# Output: {1, 3, 5}\n",
    "my_set.discard(2)\n",
    "print(my_set)\n",
    "\n",
    "# remove an element\n",
    "# not present in my_set\n",
    "# you will get an error.\n",
    "# Output: KeyError\n",
    "\n",
    "my_set.remove(2)"
   ]
  },
  {
   "cell_type": "markdown",
   "metadata": {},
   "source": [
    "# We can verify if an element is in the set using the in command:"
   ]
  },
  {
   "cell_type": "code",
   "execution_count": 138,
   "metadata": {},
   "outputs": [],
   "source": [
    "g={1,2,3,4,5,2}"
   ]
  },
  {
   "cell_type": "code",
   "execution_count": 139,
   "metadata": {},
   "outputs": [
    {
     "data": {
      "text/plain": [
       "True"
      ]
     },
     "execution_count": 139,
     "metadata": {},
     "output_type": "execute_result"
    }
   ],
   "source": [
    "2 in g"
   ]
  },
  {
   "cell_type": "markdown",
   "metadata": {},
   "source": [
    "# Python Set Operations"
   ]
  },
  {
   "cell_type": "raw",
   "metadata": {},
   "source": [
    "\n",
    "Set can be performed mathematical operation such as union, intersection, difference, and symmetric difference. Python provides the facility to carry out these operations with operators or methods. We describe these operations as follows.\n"
   ]
  },
  {
   "cell_type": "markdown",
   "metadata": {},
   "source": [
    "# Union of two Sets"
   ]
  },
  {
   "cell_type": "raw",
   "metadata": {},
   "source": [
    "The union of two sets is calculated by using the pipe (|) operator. The union of the two sets contains all the items that are present in both the sets.\n"
   ]
  },
  {
   "cell_type": "markdown",
   "metadata": {},
   "source": [
    "![](3.png)\n",
    "\n",
    "\n",
    "\n",
    "\n"
   ]
  },
  {
   "cell_type": "code",
   "execution_count": 143,
   "metadata": {},
   "outputs": [
    {
     "data": {
      "text/plain": [
       "{1, 2, 3, 4, 5, 6}"
      ]
     },
     "execution_count": 143,
     "metadata": {},
     "output_type": "execute_result"
    }
   ],
   "source": [
    "a={1,2,3}\n",
    "b={4,5,6}\n",
    "a.union(b)\n"
   ]
  },
  {
   "cell_type": "code",
   "execution_count": 20,
   "metadata": {},
   "outputs": [
    {
     "name": "stdout",
     "output_type": "stream",
     "text": [
      "{'Wednesday', 'Monday', 'Sunday', 'Thursday', 'Friday', 'Saturday', 'Tuesday'}\n"
     ]
    }
   ],
   "source": [
    "#Consider the following example to calculate the union of two sets.\n",
    "\n",
    "#Example 1: using union | operator\n",
    "\n",
    "Days1 = {\"Monday\",\"Tuesday\",\"Wednesday\",\"Thursday\", \"Sunday\"}    \n",
    "Days2 = {\"Friday\",\"Saturday\",\"Sunday\"}    \n",
    "print(Days1|Days2) #printing the union of the sets     \n"
   ]
  },
  {
   "cell_type": "raw",
   "metadata": {},
   "source": [
    "Python also provides the union() method which can also be used to calculate the union of two sets. Consider the following example."
   ]
  },
  {
   "cell_type": "code",
   "execution_count": 21,
   "metadata": {},
   "outputs": [
    {
     "name": "stdout",
     "output_type": "stream",
     "text": [
      "{'Wednesday', 'Monday', 'Sunday', 'Thursday', 'Friday', 'Saturday', 'Tuesday'}\n"
     ]
    }
   ],
   "source": [
    "#Example 2: using union() method\n",
    "\n",
    "Days1 = {\"Monday\",\"Tuesday\",\"Wednesday\",\"Thursday\"}    \n",
    "Days2 = {\"Friday\",\"Saturday\",\"Sunday\"}    \n",
    "print(Days1.union(Days2)) #printing the union of the sets     "
   ]
  },
  {
   "cell_type": "code",
   "execution_count": 71,
   "metadata": {},
   "outputs": [],
   "source": [
    "# Sample Sets\n",
    "\n",
    "album_set1 = set([\"Thriller\", 'AC/DC', 'Back in Black'])\n",
    "album_set2 = set([ \"AC/DC\", \"Back in Black\", \"The Dark Side of the Moon\"])\n"
   ]
  },
  {
   "cell_type": "markdown",
   "metadata": {},
   "source": [
    "<img src=\"https://s3-api.us-geo.objectstorage.softlayer.net/cf-courses-data/CognitiveClass/PY0101EN/Chapter%202/Images/SetsSamples.png\" width=\"650\" />"
   ]
  },
  {
   "cell_type": "code",
   "execution_count": 72,
   "metadata": {},
   "outputs": [
    {
     "data": {
      "text/plain": [
       "{'AC/DC', 'Back in Black', 'The Dark Side of the Moon', 'Thriller'}"
      ]
     },
     "execution_count": 72,
     "metadata": {},
     "output_type": "execute_result"
    }
   ],
   "source": [
    "# Find the union of two sets\n",
    "\n",
    "album_set1.union(album_set2)"
   ]
  },
  {
   "cell_type": "markdown",
   "metadata": {},
   "source": [
    "<img src = \"https://s3-api.us-geo.objectstorage.softlayer.net/cf-courses-data/CognitiveClass/PY0101EN/Chapter%202/Images/SetsUnion.png\" width=\"650\" />"
   ]
  },
  {
   "cell_type": "code",
   "execution_count": 73,
   "metadata": {},
   "outputs": [],
   "source": [
    "# create a first set\n",
    "words_a = {'then', 'before', 'we', 'where'}\n",
    "# create a second set\n",
    "words_b = {'before', 'never', 'we', 'late'}"
   ]
  },
  {
   "cell_type": "code",
   "execution_count": 74,
   "metadata": {},
   "outputs": [
    {
     "data": {
      "text/plain": [
       "{'before', 'late', 'never', 'then', 'we', 'where'}"
      ]
     },
     "execution_count": 74,
     "metadata": {},
     "output_type": "execute_result"
    }
   ],
   "source": [
    "words_a.union(words_b)"
   ]
  },
  {
   "cell_type": "markdown",
   "metadata": {},
   "source": [
    "# Intersection of two sets"
   ]
  },
  {
   "cell_type": "raw",
   "metadata": {},
   "source": [
    "The intersection of two sets can be performed by the and & operator or the intersection() function. The intersection of the two sets is given as the set of the elements that common in both sets."
   ]
  },
  {
   "cell_type": "markdown",
   "metadata": {},
   "source": [
    "![](4.png)"
   ]
  },
  {
   "cell_type": "code",
   "execution_count": 22,
   "metadata": {},
   "outputs": [
    {
     "name": "stdout",
     "output_type": "stream",
     "text": [
      "{'Monday', 'Tuesday'}\n"
     ]
    }
   ],
   "source": [
    "#Consider the following example.\n",
    "\n",
    "#Example 1: Using & operator\n",
    "\n",
    "Days1 = {\"Monday\",\"Tuesday\", \"Wednesday\", \"Thursday\"}    \n",
    "Days2 = {\"Monday\",\"Tuesday\",\"Sunday\", \"Friday\"}    \n",
    "print(Days1&Days2) #prints the intersection of the two sets  "
   ]
  },
  {
   "cell_type": "code",
   "execution_count": 23,
   "metadata": {},
   "outputs": [
    {
     "name": "stdout",
     "output_type": "stream",
     "text": [
      "{'Martin', 'David'}\n"
     ]
    }
   ],
   "source": [
    "#Example 2: Using intersection() method\n",
    "\n",
    "set1 = {\"Devansh\",\"John\", \"David\", \"Martin\"}    \n",
    "set2 = {\"Steve\", \"Milan\", \"David\", \"Martin\"}    \n",
    "print(set1.intersection(set2)) #prints the intersection of the two sets    "
   ]
  },
  {
   "cell_type": "code",
   "execution_count": 24,
   "metadata": {},
   "outputs": [
    {
     "name": "stdout",
     "output_type": "stream",
     "text": [
      "{1, 2, 5}\n"
     ]
    }
   ],
   "source": [
    "#Example 3:\n",
    "\n",
    "set1 = {1,2,3,4,5,6,7}  \n",
    "set2 = {1,2,20,32,5,9}  \n",
    "set3 = set1.intersection(set2)  \n",
    "print(set3)  "
   ]
  },
  {
   "cell_type": "code",
   "execution_count": null,
   "metadata": {},
   "outputs": [],
   "source": []
  },
  {
   "cell_type": "code",
   "execution_count": 75,
   "metadata": {},
   "outputs": [],
   "source": [
    "# Sample Sets\n",
    "\n",
    "album_set1 = set([\"Thriller\", 'AC/DC', 'Back in Black'])\n",
    "\n",
    "album_set2 = set([ \"AC/DC\", \"Back in Black\", \"The Dark Side of the Moon\"])"
   ]
  },
  {
   "cell_type": "markdown",
   "metadata": {},
   "source": [
    "<img src=\"https://s3-api.us-geo.objectstorage.softlayer.net/cf-courses-data/CognitiveClass/PY0101EN/Chapter%202/Images/SetsSamples.png\" width=\"650\" />"
   ]
  },
  {
   "cell_type": "code",
   "execution_count": 76,
   "metadata": {},
   "outputs": [
    {
     "data": {
      "text/plain": [
       "{'AC/DC', 'Back in Black'}"
      ]
     },
     "execution_count": 76,
     "metadata": {},
     "output_type": "execute_result"
    }
   ],
   "source": [
    "# Find the intersections\n",
    "\n",
    "intersection = album_set1 & album_set2\n",
    "intersection"
   ]
  },
  {
   "cell_type": "markdown",
   "metadata": {},
   "source": [
    "<img src = \"https://s3-api.us-geo.objectstorage.softlayer.net/cf-courses-data/CognitiveClass/PY0101EN/Chapter%202/Images/SetsLogic.png\" width = \"650\" />"
   ]
  },
  {
   "cell_type": "markdown",
   "metadata": {},
   "source": [
    "<img src=\"https://s3-api.us-geo.objectstorage.softlayer.net/cf-courses-data/CognitiveClass/PY0101EN/Chapter%202/Images/SetsIntersect.png\" width=\"650\" />"
   ]
  },
  {
   "cell_type": "markdown",
   "metadata": {},
   "source": [
    "# The intersection_update() method"
   ]
  },
  {
   "cell_type": "raw",
   "metadata": {},
   "source": [
    "The intersection_update() method removes the items from the original set that are not present in both the sets (all the sets if more than one are specified).\n",
    "\n",
    "The intersection_update() method is different from the intersection() method since it modifies the original set by removing the unwanted items, on the other hand, the intersection() method returns a new set."
   ]
  },
  {
   "cell_type": "code",
   "execution_count": 25,
   "metadata": {},
   "outputs": [
    {
     "name": "stdout",
     "output_type": "stream",
     "text": [
      "{'castle'}\n"
     ]
    }
   ],
   "source": [
    "#Consider the following example.\n",
    "\n",
    "a = {\"Devansh\", \"bob\", \"castle\"}    \n",
    "b = {\"castle\", \"dude\", \"emyway\"}    \n",
    "c = {\"fuson\", \"gaurav\", \"castle\"}    \n",
    "    \n",
    "a.intersection_update(b, c)    \n",
    "    \n",
    "print(a)  "
   ]
  },
  {
   "cell_type": "code",
   "execution_count": 151,
   "metadata": {},
   "outputs": [],
   "source": [
    "# create a first set\n",
    "p = {'a', 'b', 'c', 'd'}\n",
    "# create a second set\n",
    "q = {'c', 'e', 'a', 'f'}"
   ]
  },
  {
   "cell_type": "code",
   "execution_count": 156,
   "metadata": {},
   "outputs": [
    {
     "data": {
      "text/plain": [
       "{'a', 'c'}"
      ]
     },
     "execution_count": 156,
     "metadata": {},
     "output_type": "execute_result"
    }
   ],
   "source": [
    "c=p&q\n",
    "c"
   ]
  },
  {
   "cell_type": "code",
   "execution_count": 152,
   "metadata": {},
   "outputs": [
    {
     "data": {
      "text/plain": [
       "{'a', 'c'}"
      ]
     },
     "execution_count": 152,
     "metadata": {},
     "output_type": "execute_result"
    }
   ],
   "source": [
    "p.intersection(q)"
   ]
  },
  {
   "cell_type": "code",
   "execution_count": 153,
   "metadata": {},
   "outputs": [
    {
     "data": {
      "text/plain": [
       "{'a', 'b', 'c', 'd'}"
      ]
     },
     "execution_count": 153,
     "metadata": {},
     "output_type": "execute_result"
    }
   ],
   "source": [
    "p"
   ]
  },
  {
   "cell_type": "code",
   "execution_count": 157,
   "metadata": {},
   "outputs": [],
   "source": [
    "p.intersection_update(q)"
   ]
  },
  {
   "cell_type": "code",
   "execution_count": 158,
   "metadata": {},
   "outputs": [
    {
     "data": {
      "text/plain": [
       "{'a', 'c'}"
      ]
     },
     "execution_count": 158,
     "metadata": {},
     "output_type": "execute_result"
    }
   ],
   "source": [
    "p"
   ]
  },
  {
   "cell_type": "markdown",
   "metadata": {},
   "source": [
    "# Difference between the two sets"
   ]
  },
  {
   "cell_type": "markdown",
   "metadata": {},
   "source": [
    "You can find all the elements that are only contained in album_set1 using the difference method:"
   ]
  },
  {
   "cell_type": "raw",
   "metadata": {},
   "source": [
    "The difference of two sets can be calculated by using the subtraction (-) operator or intersection() method. Suppose there are two sets A and B, and the difference is A-B that denotes the resulting set will be obtained that element of A, which is not present in the set B.\n",
    "\n"
   ]
  },
  {
   "cell_type": "raw",
   "metadata": {},
   "source": [
    "difference method()\n",
    "It returns a set contains the elements that only exist in set alpha_a, and not in alpha_b"
   ]
  },
  {
   "cell_type": "markdown",
   "metadata": {},
   "source": [
    "![](5.png)"
   ]
  },
  {
   "cell_type": "code",
   "execution_count": 161,
   "metadata": {},
   "outputs": [
    {
     "name": "stdout",
     "output_type": "stream",
     "text": [
      "{'Thursday', 'Wednesday'}\n"
     ]
    }
   ],
   "source": [
    "#Consider the following example.\n",
    "\n",
    "#Example 1 : Using subtraction ( - ) operator\n",
    "\n",
    "Days1 = {\"Monday\",  \"Tuesday\", \"Wednesday\", \"Thursday\"}    \n",
    "Days2 = {\"Monday\", \"Tuesday\", \"Sunday\"}    \n",
    "print(Days1-Days2) #{\"Wednesday\", \"Thursday\" will be printed}    "
   ]
  },
  {
   "cell_type": "code",
   "execution_count": 162,
   "metadata": {},
   "outputs": [
    {
     "name": "stdout",
     "output_type": "stream",
     "text": [
      "{'Sunday'}\n"
     ]
    }
   ],
   "source": [
    "print(Days2-Days1)"
   ]
  },
  {
   "cell_type": "code",
   "execution_count": 163,
   "metadata": {},
   "outputs": [
    {
     "name": "stdout",
     "output_type": "stream",
     "text": [
      "{'Thursday', 'Wednesday'}\n"
     ]
    }
   ],
   "source": [
    "#Example 2 : Using difference() method\n",
    "\n",
    "Days1 = {\"Monday\",  \"Tuesday\", \"Wednesday\", \"Thursday\"}    \n",
    "Days2 = {\"Monday\", \"Tuesday\", \"Sunday\"}    \n",
    "print(Days1.difference(Days2)) # prints the difference of the two sets Days1 and Days2    "
   ]
  },
  {
   "cell_type": "code",
   "execution_count": 164,
   "metadata": {},
   "outputs": [],
   "source": [
    "# create a first set\n",
    "alpha_a = {'a', 'b', 'c', 'd'}\n",
    "# create a second set\n",
    "alpha_b = {'c', 'e', 'a', 'f'}"
   ]
  },
  {
   "cell_type": "code",
   "execution_count": 165,
   "metadata": {},
   "outputs": [
    {
     "data": {
      "text/plain": [
       "{'b', 'd'}"
      ]
     },
     "execution_count": 165,
     "metadata": {},
     "output_type": "execute_result"
    }
   ],
   "source": [
    "alpha_a.difference(alpha_b)"
   ]
  },
  {
   "cell_type": "code",
   "execution_count": 166,
   "metadata": {},
   "outputs": [
    {
     "data": {
      "text/plain": [
       "{'e', 'f'}"
      ]
     },
     "execution_count": 166,
     "metadata": {},
     "output_type": "execute_result"
    }
   ],
   "source": [
    "alpha_b.difference(alpha_a)"
   ]
  },
  {
   "cell_type": "code",
   "execution_count": 167,
   "metadata": {},
   "outputs": [
    {
     "data": {
      "text/plain": [
       "{'a', 'b', 'c', 'd'}"
      ]
     },
     "execution_count": 167,
     "metadata": {},
     "output_type": "execute_result"
    }
   ],
   "source": [
    "alpha_a"
   ]
  },
  {
   "cell_type": "code",
   "execution_count": 54,
   "metadata": {},
   "outputs": [
    {
     "data": {
      "text/plain": [
       "{'a', 'c', 'e', 'f'}"
      ]
     },
     "execution_count": 54,
     "metadata": {},
     "output_type": "execute_result"
    }
   ],
   "source": [
    "alpha_b"
   ]
  },
  {
   "cell_type": "code",
   "execution_count": 81,
   "metadata": {},
   "outputs": [],
   "source": [
    "# Sample Sets\n",
    "\n",
    "album_set1 = set([\"Thriller\", 'AC/DC', 'Back in Black'])\n",
    "album_set2 = set([ \"AC/DC\", \"Back in Black\", \"The Dark Side of the Moon\"])"
   ]
  },
  {
   "cell_type": "code",
   "execution_count": 82,
   "metadata": {},
   "outputs": [
    {
     "data": {
      "text/plain": [
       "{'Thriller'}"
      ]
     },
     "execution_count": 82,
     "metadata": {},
     "output_type": "execute_result"
    }
   ],
   "source": [
    "# Find the difference in set1 but not set2\n",
    "\n",
    "album_set1.difference(album_set2)  "
   ]
  },
  {
   "cell_type": "markdown",
   "metadata": {},
   "source": [
    "<img src=\"https://s3-api.us-geo.objectstorage.softlayer.net/cf-courses-data/CognitiveClass/PY0101EN/Chapter%202/Images/SetsLeft.png\" width=\"650\" />"
   ]
  },
  {
   "cell_type": "code",
   "execution_count": 83,
   "metadata": {},
   "outputs": [],
   "source": [
    "# Sample Sets\n",
    "\n",
    "album_set1 = set([\"Thriller\", 'AC/DC', 'Back in Black'])\n",
    "album_set2 = set([ \"AC/DC\", \"Back in Black\", \"The Dark Side of the Moon\"])"
   ]
  },
  {
   "cell_type": "code",
   "execution_count": 84,
   "metadata": {},
   "outputs": [
    {
     "data": {
      "text/plain": [
       "{'The Dark Side of the Moon'}"
      ]
     },
     "execution_count": 84,
     "metadata": {},
     "output_type": "execute_result"
    }
   ],
   "source": [
    "album_set2.difference(album_set1)  "
   ]
  },
  {
   "cell_type": "markdown",
   "metadata": {},
   "source": [
    "<img src = \"https://s3-api.us-geo.objectstorage.softlayer.net/cf-courses-data/CognitiveClass/PY0101EN/Chapter%202/Images/SetsRight.png\" width=\"650\" />"
   ]
  },
  {
   "cell_type": "markdown",
   "metadata": {},
   "source": [
    "# difference_update()\n",
    "It removes the items from first set that are included in another set"
   ]
  },
  {
   "cell_type": "code",
   "execution_count": 55,
   "metadata": {},
   "outputs": [],
   "source": [
    "a= {1,2,3}\n",
    "\n",
    "b= {1,2,4}\n",
    "\n",
    "b.difference_update(a)\n"
   ]
  },
  {
   "cell_type": "code",
   "execution_count": 56,
   "metadata": {},
   "outputs": [
    {
     "data": {
      "text/plain": [
       "{4}"
      ]
     },
     "execution_count": 56,
     "metadata": {},
     "output_type": "execute_result"
    }
   ],
   "source": [
    "b"
   ]
  },
  {
   "cell_type": "code",
   "execution_count": 57,
   "metadata": {},
   "outputs": [
    {
     "data": {
      "text/plain": [
       "{1, 2, 3}"
      ]
     },
     "execution_count": 57,
     "metadata": {},
     "output_type": "execute_result"
    }
   ],
   "source": [
    "a"
   ]
  },
  {
   "cell_type": "code",
   "execution_count": 168,
   "metadata": {},
   "outputs": [],
   "source": [
    "# create a first set\n",
    "alpha_a = {'a', 'b', 'c', 'd'}\n",
    "# create a second set\n",
    "alpha_b = {'c', 'e', 'a', 'f'}"
   ]
  },
  {
   "cell_type": "code",
   "execution_count": 169,
   "metadata": {},
   "outputs": [],
   "source": [
    "alpha_b.difference_update(alpha_a)"
   ]
  },
  {
   "cell_type": "code",
   "execution_count": 170,
   "metadata": {},
   "outputs": [
    {
     "data": {
      "text/plain": [
       "{'e', 'f'}"
      ]
     },
     "execution_count": 170,
     "metadata": {},
     "output_type": "execute_result"
    }
   ],
   "source": [
    "alpha_b"
   ]
  },
  {
   "cell_type": "code",
   "execution_count": 171,
   "metadata": {},
   "outputs": [
    {
     "data": {
      "text/plain": [
       "{'a', 'b', 'c', 'd'}"
      ]
     },
     "execution_count": 171,
     "metadata": {},
     "output_type": "execute_result"
    }
   ],
   "source": [
    "alpha_a"
   ]
  },
  {
   "cell_type": "code",
   "execution_count": 62,
   "metadata": {},
   "outputs": [],
   "source": [
    "# create a first set\n",
    "alpha_a = {'a', 'b', 'c', 'd'}\n",
    "# create a second set\n",
    "alpha_b = {'c', 'e', 'a', 'f'}"
   ]
  },
  {
   "cell_type": "code",
   "execution_count": 63,
   "metadata": {},
   "outputs": [],
   "source": [
    "alpha_a.difference_update(alpha_b)"
   ]
  },
  {
   "cell_type": "code",
   "execution_count": 64,
   "metadata": {},
   "outputs": [
    {
     "data": {
      "text/plain": [
       "{'b', 'd'}"
      ]
     },
     "execution_count": 64,
     "metadata": {},
     "output_type": "execute_result"
    }
   ],
   "source": [
    "alpha_a"
   ]
  },
  {
   "cell_type": "code",
   "execution_count": 65,
   "metadata": {},
   "outputs": [
    {
     "data": {
      "text/plain": [
       "{'a', 'c', 'e', 'f'}"
      ]
     },
     "execution_count": 65,
     "metadata": {},
     "output_type": "execute_result"
    }
   ],
   "source": [
    "alpha_b"
   ]
  },
  {
   "cell_type": "markdown",
   "metadata": {},
   "source": [
    "# Note: difference() method is different from difference_update() method, because the difference() method returns a new set\n",
    "​"
   ]
  },
  {
   "cell_type": "markdown",
   "metadata": {},
   "source": [
    "# Symmetric Difference of two sets\n"
   ]
  },
  {
   "cell_type": "raw",
   "metadata": {},
   "source": [
    "The symmetric difference of two sets is calculated by ^ operator or symmetric_difference() method.\n",
    "\n",
    "Symmetric difference of sets, it removes that element which is present in both sets. Consider the following example:"
   ]
  },
  {
   "cell_type": "markdown",
   "metadata": {},
   "source": [
    "![](6.png)\n",
    "\n"
   ]
  },
  {
   "cell_type": "code",
   "execution_count": 172,
   "metadata": {},
   "outputs": [
    {
     "name": "stdout",
     "output_type": "stream",
     "text": [
      "{3, 4, 5, 6, 8, 9, 10}\n"
     ]
    }
   ],
   "source": [
    "#Example - 1: Using ^ operator\n",
    "\n",
    "a = {1,2,3,4,5,6}  \n",
    "b = {1,2,9,8,10}  \n",
    "c = a^b  \n",
    "print(c)  \n",
    "\n",
    "\n"
   ]
  },
  {
   "cell_type": "code",
   "execution_count": 29,
   "metadata": {},
   "outputs": [
    {
     "name": "stdout",
     "output_type": "stream",
     "text": [
      "{3, 4, 5, 6, 8, 9, 10}\n"
     ]
    }
   ],
   "source": [
    "#Example - 2: Using symmetric_difference() method\n",
    "\n",
    "a = {1,2,3,4,5,6}  \n",
    "b = {1,2,9,8,10}  \n",
    "c = a.symmetric_difference(b)  \n",
    "print(c)  "
   ]
  },
  {
   "cell_type": "markdown",
   "metadata": {},
   "source": [
    "# And you can check if a set is a superset or subset of another set, respectively, like this:\n",
    "# Sample Sets"
   ]
  },
  {
   "cell_type": "code",
   "execution_count": 173,
   "metadata": {},
   "outputs": [
    {
     "data": {
      "text/plain": [
       "{1, 2, 3, 4, 5}"
      ]
     },
     "execution_count": 173,
     "metadata": {},
     "output_type": "execute_result"
    }
   ],
   "source": [
    "a={1,2,3,4,5}\n",
    "a"
   ]
  },
  {
   "cell_type": "code",
   "execution_count": 174,
   "metadata": {},
   "outputs": [
    {
     "data": {
      "text/plain": [
       "{2, 3}"
      ]
     },
     "execution_count": 174,
     "metadata": {},
     "output_type": "execute_result"
    }
   ],
   "source": [
    "b={2,3}\n",
    "b"
   ]
  },
  {
   "cell_type": "code",
   "execution_count": null,
   "metadata": {},
   "outputs": [],
   "source": [
    "b is the subset a"
   ]
  },
  {
   "cell_type": "code",
   "execution_count": null,
   "metadata": {},
   "outputs": [],
   "source": []
  },
  {
   "cell_type": "code",
   "execution_count": 175,
   "metadata": {},
   "outputs": [],
   "source": [
    "# Sample Sets\n",
    "\n",
    "album_set1 = set([\"Thriller\", 'AC/DC', 'Back in Black'])\n",
    "album_set2 = set([ \"AC/DC\", \"Back in Black\", \"The Dark Side of the Moon\"])"
   ]
  },
  {
   "cell_type": "code",
   "execution_count": 176,
   "metadata": {},
   "outputs": [
    {
     "data": {
      "text/plain": [
       "False"
      ]
     },
     "execution_count": 176,
     "metadata": {},
     "output_type": "execute_result"
    }
   ],
   "source": [
    "# Check if superset\n",
    "\n",
    "set(album_set1).issuperset(album_set2)   "
   ]
  },
  {
   "cell_type": "code",
   "execution_count": 177,
   "metadata": {},
   "outputs": [
    {
     "data": {
      "text/plain": [
       "False"
      ]
     },
     "execution_count": 177,
     "metadata": {},
     "output_type": "execute_result"
    }
   ],
   "source": [
    "# Check if subset\n",
    "\n",
    "set(album_set2).issubset(album_set1) "
   ]
  },
  {
   "cell_type": "code",
   "execution_count": 178,
   "metadata": {},
   "outputs": [
    {
     "data": {
      "text/plain": [
       "True"
      ]
     },
     "execution_count": 178,
     "metadata": {},
     "output_type": "execute_result"
    }
   ],
   "source": [
    "# Check if subset\n",
    "\n",
    "set({\"Back in Black\", \"AC/DC\"}).issubset(album_set1) "
   ]
  },
  {
   "cell_type": "code",
   "execution_count": 89,
   "metadata": {},
   "outputs": [
    {
     "data": {
      "text/plain": [
       "True"
      ]
     },
     "execution_count": 89,
     "metadata": {},
     "output_type": "execute_result"
    }
   ],
   "source": [
    "# Check if superset\n",
    "\n",
    "album_set1.issuperset({\"Back in Black\", \"AC/DC\"})"
   ]
  },
  {
   "cell_type": "markdown",
   "metadata": {},
   "source": [
    "# isdisjoint() method"
   ]
  },
  {
   "cell_type": "code",
   "execution_count": 182,
   "metadata": {},
   "outputs": [],
   "source": [
    "# create a first set\n",
    "alpha_a = {'a', 'b'}\n",
    "# create a second set\n",
    "alpha_b = {'c', 'd'}\n"
   ]
  },
  {
   "cell_type": "code",
   "execution_count": 183,
   "metadata": {},
   "outputs": [
    {
     "data": {
      "text/plain": [
       "True"
      ]
     },
     "execution_count": 183,
     "metadata": {},
     "output_type": "execute_result"
    }
   ],
   "source": [
    "alpha_a.isdisjoint(alpha_b)"
   ]
  },
  {
   "cell_type": "markdown",
   "metadata": {},
   "source": [
    "# issuperset() method"
   ]
  },
  {
   "cell_type": "code",
   "execution_count": 184,
   "metadata": {},
   "outputs": [],
   "source": [
    "# create a first set\n",
    "num_1 = {1, 2, 3, 4}\n",
    "# create a second set\n",
    "num_2 = {1, 2, 3, 4}"
   ]
  },
  {
   "cell_type": "code",
   "execution_count": 185,
   "metadata": {},
   "outputs": [
    {
     "data": {
      "text/plain": [
       "True"
      ]
     },
     "execution_count": 185,
     "metadata": {},
     "output_type": "execute_result"
    }
   ],
   "source": [
    "num_1.issuperset(num_2)"
   ]
  },
  {
   "cell_type": "code",
   "execution_count": null,
   "metadata": {},
   "outputs": [],
   "source": []
  },
  {
   "cell_type": "markdown",
   "metadata": {},
   "source": [
    "# Set comparisons"
   ]
  },
  {
   "cell_type": "raw",
   "metadata": {},
   "source": [
    "Python allows us to use the comparison operators i.e., <, >, <=, >= , == with the sets by using which we can check whether a set is a subset, superset, or equivalent to other set. The boolean true or false is returned depending upon the items present inside the sets.\n",
    "\n",
    "Consider the following example."
   ]
  },
  {
   "cell_type": "code",
   "execution_count": 186,
   "metadata": {},
   "outputs": [
    {
     "name": "stdout",
     "output_type": "stream",
     "text": [
      "True\n",
      "False\n",
      "False\n"
     ]
    }
   ],
   "source": [
    "Days1 = {\"Monday\",  \"Tuesday\", \"Wednesday\", \"Thursday\"}    \n",
    "Days2 = {\"Monday\", \"Tuesday\"}    \n",
    "Days3 = {\"Monday\", \"Tuesday\", \"Friday\"}    \n",
    "    \n",
    "#Days1 is the superset of Days2 hence it will print true.     \n",
    "print (Days1>Days2)     \n",
    "    \n",
    "#prints false since Days1 is not the subset of Days2     \n",
    "print (Days1<Days2)    \n",
    "    \n",
    "#prints false since Days2 and Days3 are not equivalent     \n",
    "print (Days2 == Days3)    "
   ]
  },
  {
   "cell_type": "markdown",
   "metadata": {},
   "source": [
    "# FrozenSets\n",
    "\n",
    "\n"
   ]
  },
  {
   "cell_type": "raw",
   "metadata": {},
   "source": [
    "The frozen sets are the immutable form of the normal sets, i.e., the items of the frozen set cannot be changed and therefore it can be used as a key in the dictionary.\n",
    "\n",
    "The elements of the frozen set cannot be changed after the creation. We cannot change or append the content of the frozen sets by using the methods like add() or remove().\n",
    "\n",
    "The frozenset() method is used to create the frozenset object. The iterable sequence is passed into this method which is converted into the frozen set as a return type of the method.\n",
    "\n",
    "Consider the following example to create the frozen set."
   ]
  },
  {
   "cell_type": "code",
   "execution_count": 190,
   "metadata": {},
   "outputs": [
    {
     "data": {
      "text/plain": [
       "frozenset({1, 2, 3, 4, 5, 6, 7, 8, 9})"
      ]
     },
     "execution_count": 190,
     "metadata": {},
     "output_type": "execute_result"
    }
   ],
   "source": [
    "nu = (1, 2, 3, 4, 5, 6, 7, 8, 9)\n",
    "c=set(nu)\n",
    "c"
   ]
  },
  {
   "cell_type": "code",
   "execution_count": 191,
   "metadata": {},
   "outputs": [
    {
     "ename": "AttributeError",
     "evalue": "'frozenset' object has no attribute 'add'",
     "output_type": "error",
     "traceback": [
      "\u001b[1;31m---------------------------------------------------------------------------\u001b[0m",
      "\u001b[1;31mAttributeError\u001b[0m                            Traceback (most recent call last)",
      "\u001b[1;32m<ipython-input-191-4ddf2843b20b>\u001b[0m in \u001b[0;36m<module>\u001b[1;34m\u001b[0m\n\u001b[1;32m----> 1\u001b[1;33m \u001b[0mc\u001b[0m\u001b[1;33m.\u001b[0m\u001b[0madd\u001b[0m\u001b[1;33m(\u001b[0m\u001b[1;36m10\u001b[0m\u001b[1;33m)\u001b[0m\u001b[1;33m\u001b[0m\u001b[1;33m\u001b[0m\u001b[0m\n\u001b[0m\u001b[0;32m      2\u001b[0m \u001b[0mc\u001b[0m\u001b[1;33m\u001b[0m\u001b[1;33m\u001b[0m\u001b[0m\n",
      "\u001b[1;31mAttributeError\u001b[0m: 'frozenset' object has no attribute 'add'"
     ]
    }
   ],
   "source": [
    "c.add(10)\n",
    "c"
   ]
  },
  {
   "cell_type": "code",
   "execution_count": 94,
   "metadata": {},
   "outputs": [
    {
     "name": "stdout",
     "output_type": "stream",
     "text": [
      "frozenset Object is :  frozenset({1, 2, 3, 4, 5, 6, 7, 8, 9})\n"
     ]
    }
   ],
   "source": [
    "# Python program to understand frozenset() function\n",
    "\n",
    "# tuple of numbers\n",
    "nu = (1, 2, 3, 4, 5, 6, 7, 8, 9)\n",
    "\n",
    "# converting tuple to frozenset\n",
    "fnum = frozenset(nu)\n",
    "\n",
    "# printing details\n",
    "print(\"frozenset Object is : \", fnum)\n"
   ]
  },
  {
   "cell_type": "raw",
   "metadata": {},
   "source": [
    "Since frozenset object are immutable they are mainly used as key in dictionary or elements of other sets. Below example explains it clearly"
   ]
  },
  {
   "cell_type": "code",
   "execution_count": 95,
   "metadata": {},
   "outputs": [
    {
     "name": "stdout",
     "output_type": "stream",
     "text": [
      "The frozen set is: frozenset({'name', 'sex', 'age', 'college', 'address'})\n"
     ]
    }
   ],
   "source": [
    "# Python program to understand use\n",
    "# of frozenset function\n",
    "\n",
    "# creating a dictionary\n",
    "Student = {\"name\": \"Ankit\", \"age\": 21, \"sex\": \"Male\",\n",
    "\t\t\"college\": \"MNNIT Allahabad\", \"address\": \"Allahabad\"}\n",
    "\n",
    "# making keys of dictionary as frozenset\n",
    "key = frozenset(Student)\n",
    "\n",
    "# printing keys details\n",
    "print('The frozen set is:', key)\n"
   ]
  },
  {
   "cell_type": "raw",
   "metadata": {},
   "source": [
    "If by mistake we want to change the frozenset object then it throws an error “‘frozenset’ object does not support item assignment“. "
   ]
  },
  {
   "cell_type": "code",
   "execution_count": 96,
   "metadata": {},
   "outputs": [
    {
     "ename": "TypeError",
     "evalue": "'frozenset' object does not support item assignment",
     "output_type": "error",
     "traceback": [
      "\u001b[1;31m---------------------------------------------------------------------------\u001b[0m",
      "\u001b[1;31mTypeError\u001b[0m                                 Traceback (most recent call last)",
      "\u001b[1;32m<ipython-input-96-cd8be4b391f3>\u001b[0m in \u001b[0;36m<module>\u001b[1;34m\u001b[0m\n\u001b[0;32m     10\u001b[0m \u001b[1;31m# below line will generate error\u001b[0m\u001b[1;33m\u001b[0m\u001b[1;33m\u001b[0m\u001b[1;33m\u001b[0m\u001b[0m\n\u001b[0;32m     11\u001b[0m \u001b[1;33m\u001b[0m\u001b[0m\n\u001b[1;32m---> 12\u001b[1;33m \u001b[0mf_subject\u001b[0m\u001b[1;33m[\u001b[0m\u001b[1;36m1\u001b[0m\u001b[1;33m]\u001b[0m \u001b[1;33m=\u001b[0m \u001b[1;34m\"Networking\"\u001b[0m\u001b[1;33m\u001b[0m\u001b[1;33m\u001b[0m\u001b[0m\n\u001b[0m",
      "\u001b[1;31mTypeError\u001b[0m: 'frozenset' object does not support item assignment"
     ]
    }
   ],
   "source": [
    "# Python program to understand\n",
    "# use of frozenset function\n",
    "\n",
    "# creating a list\n",
    "favourite_subject = [\"OS\", \"DBMS\", \"Algo\"]\n",
    "\n",
    "# making it frozenset type\n",
    "f_subject = frozenset(favourite_subject)\n",
    "\n",
    "# below line will generate error\n",
    "\n",
    "f_subject[1] = \"Networking\"\n"
   ]
  },
  {
   "cell_type": "code",
   "execution_count": 31,
   "metadata": {},
   "outputs": [
    {
     "name": "stdout",
     "output_type": "stream",
     "text": [
      "<class 'frozenset'>\n",
      "\n",
      "printing the content of frozen set...\n",
      "1\n",
      "2\n",
      "3\n",
      "4\n",
      "5\n"
     ]
    },
    {
     "ename": "AttributeError",
     "evalue": "'frozenset' object has no attribute 'add'",
     "output_type": "error",
     "traceback": [
      "\u001b[1;31m---------------------------------------------------------------------------\u001b[0m",
      "\u001b[1;31mAttributeError\u001b[0m                            Traceback (most recent call last)",
      "\u001b[1;32m<ipython-input-31-8151203d7d02>\u001b[0m in \u001b[0;36m<module>\u001b[1;34m\u001b[0m\n\u001b[0;32m      4\u001b[0m \u001b[1;32mfor\u001b[0m \u001b[0mi\u001b[0m \u001b[1;32min\u001b[0m \u001b[0mFrozenset\u001b[0m\u001b[1;33m:\u001b[0m\u001b[1;33m\u001b[0m\u001b[1;33m\u001b[0m\u001b[0m\n\u001b[0;32m      5\u001b[0m     \u001b[0mprint\u001b[0m\u001b[1;33m(\u001b[0m\u001b[0mi\u001b[0m\u001b[1;33m)\u001b[0m\u001b[1;33m;\u001b[0m\u001b[1;33m\u001b[0m\u001b[1;33m\u001b[0m\u001b[0m\n\u001b[1;32m----> 6\u001b[1;33m \u001b[0mFrozenset\u001b[0m\u001b[1;33m.\u001b[0m\u001b[0madd\u001b[0m\u001b[1;33m(\u001b[0m\u001b[1;36m6\u001b[0m\u001b[1;33m)\u001b[0m \u001b[1;31m#gives an error since we cannot change the content of Frozenset after creation\u001b[0m\u001b[1;33m\u001b[0m\u001b[1;33m\u001b[0m\u001b[0m\n\u001b[0m",
      "\u001b[1;31mAttributeError\u001b[0m: 'frozenset' object has no attribute 'add'"
     ]
    }
   ],
   "source": [
    "Frozenset = frozenset([1,2,3,4,5])     \n",
    "print(type(Frozenset))    \n",
    "print(\"\\nprinting the content of frozen set...\")    \n",
    "for i in Frozenset:    \n",
    "    print(i);    \n",
    "Frozenset.add(6) #gives an error since we cannot change the content of Frozenset after creation  "
   ]
  },
  {
   "cell_type": "markdown",
   "metadata": {},
   "source": [
    "# Frozenset for the dictionary"
   ]
  },
  {
   "cell_type": "raw",
   "metadata": {},
   "source": [
    "If we pass the dictionary as the sequence inside the frozenset() method, it will take only the keys from the dictionary and returns a frozenset that contains the key of the dictionary as its elements.\n",
    "\n",
    "Consider the following example."
   ]
  },
  {
   "cell_type": "code",
   "execution_count": 32,
   "metadata": {},
   "outputs": [
    {
     "name": "stdout",
     "output_type": "stream",
     "text": [
      "<class 'dict'>\n",
      "<class 'frozenset'>\n",
      "Country\n",
      "Name\n",
      "ID\n"
     ]
    }
   ],
   "source": [
    "Dictionary = {\"Name\":\"John\", \"Country\":\"USA\", \"ID\":101}     \n",
    "print(type(Dictionary))    \n",
    "Frozenset = frozenset(Dictionary); #Frozenset will contain the keys of the dictionary    \n",
    "print(type(Frozenset))    \n",
    "for i in Frozenset:     \n",
    "    print(i) "
   ]
  },
  {
   "cell_type": "markdown",
   "metadata": {},
   "source": [
    "# Set Programming Example"
   ]
  },
  {
   "cell_type": "code",
   "execution_count": 33,
   "metadata": {},
   "outputs": [
    {
     "name": "stdout",
     "output_type": "stream",
     "text": [
      "Enter the number you want to remove3\n",
      "After Removing: {1, 2, 4, 5, 6, 12, 24}\n"
     ]
    }
   ],
   "source": [
    "#Example - 1: Write a program to remove the given number from the set.\n",
    "\n",
    "my_set = {1,2,3,4,5,6,12,24}  \n",
    "n = int(input(\"Enter the number you want to remove\"))  \n",
    "my_set.discard(n)  \n",
    "print(\"After Removing:\",my_set)  "
   ]
  },
  {
   "cell_type": "code",
   "execution_count": 34,
   "metadata": {},
   "outputs": [
    {
     "name": "stdout",
     "output_type": "stream",
     "text": [
      "{1, 2, 4, 'Mango', 'John', 'Apple', 'Grapes', 'CS'}\n"
     ]
    }
   ],
   "source": [
    "#Example - 2: Write a program to add multiple elements to the set.\n",
    "\n",
    "set1 = set([1,2,4,\"John\",\"CS\"])  \n",
    "set1.update([\"Apple\",\"Mango\",\"Grapes\"])  \n",
    "print(set1)  \n"
   ]
  },
  {
   "cell_type": "code",
   "execution_count": 35,
   "metadata": {},
   "outputs": [
    {
     "name": "stdout",
     "output_type": "stream",
     "text": [
      "{96, 65, 'Peter', 2, 1, 'Joseph', 59}\n"
     ]
    }
   ],
   "source": [
    "#Example - 3: Write a program to find the union between two set.\n",
    "\n",
    "set1 = set([\"Peter\",\"Joseph\", 65,59,96])  \n",
    "set2  = set([\"Peter\",1,2,\"Joseph\"])  \n",
    "set3 = set1.union(set2)  \n",
    "print(set3) \n"
   ]
  },
  {
   "cell_type": "code",
   "execution_count": 36,
   "metadata": {},
   "outputs": [
    {
     "name": "stdout",
     "output_type": "stream",
     "text": [
      "{56, 23}\n"
     ]
    }
   ],
   "source": [
    "#Example- 4: Write a program to find the intersection between two sets.\n",
    "\n",
    "set1 = {23,44,56,67,90,45,\"Javatpoint\"}  \n",
    "set2 = {13,23,56,76,\"Sachin\"}  \n",
    "set3 = set1.intersection(set2)  \n",
    "print(set3)  "
   ]
  },
  {
   "cell_type": "code",
   "execution_count": 37,
   "metadata": {},
   "outputs": [
    {
     "name": "stdout",
     "output_type": "stream",
     "text": [
      "{56, 23}\n"
     ]
    }
   ],
   "source": [
    "#Example - 5: Write the program to add element to the frozenset.\n",
    "\n",
    "set1 = {23,44,56,67,90,45,\"Javatpoint\"}  \n",
    "set2 = {13,23,56,76,\"Sachin\"}  \n",
    "set3 = set1.intersection(set2)  \n",
    "print(set3)  "
   ]
  },
  {
   "cell_type": "code",
   "execution_count": 38,
   "metadata": {},
   "outputs": [
    {
     "name": "stdout",
     "output_type": "stream",
     "text": [
      "False\n",
      "False\n",
      "True\n",
      "True\n"
     ]
    }
   ],
   "source": [
    "#Example - 6: Write the program to find the issuperset, issubset and superset.\n",
    "\n",
    "set1 = set([\"Peter\",\"James\",\"Camroon\",\"Ricky\",\"Donald\"])  \n",
    "set2 = set([\"Camroon\",\"Washington\",\"Peter\"])  \n",
    "set3 = set([\"Peter\"])  \n",
    "  \n",
    "issubset = set1 >= set2  \n",
    "print(issubset)  \n",
    "issuperset = set1 <= set2  \n",
    "print(issuperset)  \n",
    "issubset = set3 <= set2  \n",
    "print(issubset)  \n",
    "issuperset = set2 >= set3  \n",
    "print(issuperset)  "
   ]
  },
  {
   "cell_type": "markdown",
   "metadata": {},
   "source": [
    "# Python Built-in set methods"
   ]
  },
  {
   "cell_type": "raw",
   "metadata": {},
   "source": [
    "Python contains the following methods to be used with the sets.\n",
    "\n",
    "SN\tMethod\tDescription\n",
    "1\tadd(item)\tIt adds an item to the set. It has no effect if the item is already present in the set.\n",
    "2\tclear()\tIt deletes all the items from the set.\n",
    "3\tcopy()\tIt returns a shallow copy of the set.\n",
    "4\tdifference_update(....)\tIt modifies this set by removing all the items that are also present in the specified sets.\n",
    "5\tdiscard(item)\tIt removes the specified item from the set.\n",
    "6\tintersection()\tIt returns a new set that contains only the common elements of both the sets. (all the sets if more than two are specified).\n",
    "7\tintersection_update(....)\tIt removes the items from the original set that are not present in both the sets (all the sets if more than one are specified).\n",
    "8\tIsdisjoint(....)\tReturn True if two sets have a null intersection.\n",
    "9\tIssubset(....)\tReport whether another set contains this set.\n",
    "10\tIssuperset(....)\tReport whether this set contains another set.\n",
    "11\tpop()\tRemove and return an arbitrary set element that is the last element of the set. Raises KeyError if the set is empty.\n",
    "12\tremove(item)\tRemove an element from a set; it must be a member. If the element is not a member, raise a KeyError.\n",
    "13\tsymmetric_difference(....)\tRemove an element from a set; it must be a member. If the element is not a member, raise a KeyError.\n",
    "14\tsymmetric_difference_update(....)\tUpdate a set with the symmetric difference of itself and another.\n",
    "15\tunion(....)\tReturn the union of sets as a new set.\n",
    "(i.e. all elements that are in either set.)\n",
    "16\tupdate()\tUpdate a set with the union of itself and others."
   ]
  },
  {
   "cell_type": "raw",
   "metadata": {},
   "source": [
    "# Python Collections (Arrays)\n",
    "\n",
    "There are four collection data types in the Python programming language:\n",
    "\n",
    "1. List is a collection which is ordered and changeable. Allows duplicate members.\n",
    "\n",
    "\n",
    "2. Tuple is a collection which is ordered and unchangeable. Allows duplicate members.\n",
    "\n",
    "\n",
    "3. Set is a collection which is unordered, unchangeable*, and unindexed. No duplicate members.\n",
    "\n",
    "\n",
    "4. Dictionary is a collection which is ordered** and changeable. No duplicate members."
   ]
  },
  {
   "cell_type": "code",
   "execution_count": null,
   "metadata": {},
   "outputs": [],
   "source": []
  },
  {
   "cell_type": "code",
   "execution_count": null,
   "metadata": {},
   "outputs": [],
   "source": []
  },
  {
   "cell_type": "code",
   "execution_count": null,
   "metadata": {},
   "outputs": [],
   "source": [
    "\n"
   ]
  }
 ],
 "metadata": {
  "kernelspec": {
   "display_name": "Python 3",
   "language": "python",
   "name": "python3"
  },
  "language_info": {
   "codemirror_mode": {
    "name": "ipython",
    "version": 3
   },
   "file_extension": ".py",
   "mimetype": "text/x-python",
   "name": "python",
   "nbconvert_exporter": "python",
   "pygments_lexer": "ipython3",
   "version": "3.8.5"
  }
 },
 "nbformat": 4,
 "nbformat_minor": 4
}
