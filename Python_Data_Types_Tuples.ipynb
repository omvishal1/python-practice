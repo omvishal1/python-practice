{
  "cells": [
    {
      "cell_type": "markdown",
      "metadata": {
        "id": "view-in-github",
        "colab_type": "text"
      },
      "source": [
        "<a href=\"https://colab.research.google.com/github/omvishal1/python-practice/blob/main/Python_Data_Types_Tuples.ipynb\" target=\"_parent\"><img src=\"https://colab.research.google.com/assets/colab-badge.svg\" alt=\"Open In Colab\"/></a>"
      ]
    },
    {
      "cell_type": "markdown",
      "metadata": {
        "id": "IsN68hvtlDP1"
      },
      "source": [
        "# Python Data Types"
      ]
    },
    {
      "cell_type": "raw",
      "metadata": {
        "id": "XIz4LlUqlDP7"
      },
      "source": [
        "1. Data types are the classification or categorization of data items. \n",
        "\n",
        "2. It represents the kind of value that tells what operations can be performed on a particular data. \n",
        "\n",
        "3. Since everything is an object in Python programming, data types are actually classes and variables are instance (object) of these classes."
      ]
    },
    {
      "cell_type": "raw",
      "metadata": {
        "id": "0DJYf-mLlDP8"
      },
      "source": [
        "Variables can hold values, and every value has a data-type. \n",
        "\n",
        "Python is a dynamically typed language; hence we do not need to define the type of the variable while declaring it. \n",
        "\n",
        "The interpreter implicitly binds the value with its type.\n",
        "\n",
        "a = 5  \n",
        "\n",
        "The variable a holds integer value five and we did not define its type. Python interpreter will automatically interpret variables a as an integer type.\n",
        "\n",
        "Python enables us to check the type of the variable used in the program. Python provides us the type() function, which returns the type of the variable passed.\n",
        "\n"
      ]
    },
    {
      "cell_type": "raw",
      "metadata": {
        "id": "ut9y8uljlDP9"
      },
      "source": [
        "Consider the following example to define the values of different data types and checking its type."
      ]
    },
    {
      "cell_type": "code",
      "execution_count": null,
      "metadata": {
        "id": "rdpBMrgDlDP-",
        "outputId": "42561cc0-35cd-4934-fd3d-60992ee0fe0c"
      },
      "outputs": [
        {
          "name": "stdout",
          "output_type": "stream",
          "text": [
            "<class 'int'>\n",
            "<class 'str'>\n",
            "<class 'float'>\n"
          ]
        }
      ],
      "source": [
        "\n",
        "a=10  \n",
        "b=\"Hi Python\"  \n",
        "c = 10.5  \n",
        "print(type(a))  \n",
        "print(type(b))  \n",
        "print(type(c)) "
      ]
    },
    {
      "cell_type": "markdown",
      "metadata": {
        "id": "PD21557SlDQA"
      },
      "source": [
        "# Standard data types"
      ]
    },
    {
      "cell_type": "raw",
      "metadata": {
        "id": "x4zUVwGLlDQB"
      },
      "source": [
        "A variable can hold different types of values. For example, a person's name must be stored as a string whereas its id must be stored as an integer.\n",
        "\n",
        "Python provides various standard data types that define the storage method on each of them. The data types defined in Python are given below.\n",
        "\n",
        "1. Numbers (int/Flaot/Complex)\n",
        "\n",
        "2. Sequence Type (String/List/Tuple)\n",
        "\n",
        "3. Boolean\n",
        "\n",
        "4. Set\n",
        "\n",
        "5. Dictionary\n"
      ]
    },
    {
      "cell_type": "markdown",
      "metadata": {
        "id": "bCIJuL5NlDQC"
      },
      "source": [
        "![](1.png)\n"
      ]
    },
    {
      "cell_type": "markdown",
      "metadata": {
        "id": "wD8DMpJ4lDQD"
      },
      "source": [
        "# Tuples\n"
      ]
    },
    {
      "cell_type": "raw",
      "metadata": {
        "id": "3x8-QID6lDQE"
      },
      "source": [
        "1. A Tuple is a collection of Python objects separated by commas.Tuples are written with round brackets.\n",
        "\n",
        "2. A tuple is a collection which is ordered and unchangeable.\n",
        "\n",
        "3. A tuple is a collection of objects which ordered and immutable. Tuples are sequences, just like lists. The differences between tuples and lists are, the tuples cannot be changed unlike lists and tuples use parentheses, whereas lists use square brackets.\n",
        "\n",
        "4. A tuple is an immutable data type in python, almost similar to a list in python in terms of indexing and having duplicate members. It is a collection data type that stores python objects separated by commas. "
      ]
    },
    {
      "cell_type": "raw",
      "metadata": {
        "id": "5nBkvewOlDQF"
      },
      "source": [
        "In Python, there are different data types: string, integer and float. These data types can all be contained in a tuple as follows:"
      ]
    },
    {
      "cell_type": "markdown",
      "metadata": {
        "id": "ghnYlBzQlDQG"
      },
      "source": [
        "<img src=\"https://s3-api.us-geo.objectstorage.softlayer.net/cf-courses-data/CognitiveClass/PY0101EN/Chapter%202/Images/TuplesType.png\" width=\"750\" align=\"center\" />"
      ]
    },
    {
      "cell_type": "markdown",
      "metadata": {
        "id": "7JuX3IBNlDQG"
      },
      "source": [
        "# Creating Tuples"
      ]
    },
    {
      "cell_type": "markdown",
      "metadata": {
        "id": "GPkOtF63lDQH"
      },
      "source": [
        "## Empty Tuple\n",
        "\n"
      ]
    },
    {
      "cell_type": "code",
      "execution_count": null,
      "metadata": {
        "id": "wVOX9qrilDQH",
        "outputId": "861200d5-6ef3-4c4b-a2d5-7765fb711506"
      },
      "outputs": [
        {
          "data": {
            "text/plain": [
              "()"
            ]
          },
          "execution_count": 7,
          "metadata": {},
          "output_type": "execute_result"
        }
      ],
      "source": [
        "# Create Empty Tuple\n",
        "a=()\n",
        "a"
      ]
    },
    {
      "cell_type": "code",
      "execution_count": null,
      "metadata": {
        "id": "GTL2-rJAlDQH",
        "outputId": "bb3db60d-c329-4009-f0d0-8af061e7f790"
      },
      "outputs": [
        {
          "data": {
            "text/plain": [
              "(1, 2, 3, 4, 5)"
            ]
          },
          "execution_count": 85,
          "metadata": {},
          "output_type": "execute_result"
        }
      ],
      "source": [
        "# Create tuple with int numbers \n",
        "\n",
        "tuple1 = (1,2,3,4,5)\n",
        "tuple1"
      ]
    },
    {
      "cell_type": "code",
      "execution_count": null,
      "metadata": {
        "id": "3uHmZMCnlDQI",
        "outputId": "d014f948-149e-49a6-9cc1-cf99f1443c2d"
      },
      "outputs": [
        {
          "data": {
            "text/plain": [
              "tuple"
            ]
          },
          "execution_count": 86,
          "metadata": {},
          "output_type": "execute_result"
        }
      ],
      "source": [
        "type(tuple1)"
      ]
    },
    {
      "cell_type": "code",
      "execution_count": null,
      "metadata": {
        "id": "_oBJyTH7lDQI",
        "outputId": "ba1f022e-f324-49bb-ba55-d0ce0fc0c1c7"
      },
      "outputs": [
        {
          "data": {
            "text/plain": [
              "(1.2, 3.4, 5.6, 7.8)"
            ]
          },
          "execution_count": 8,
          "metadata": {},
          "output_type": "execute_result"
        }
      ],
      "source": [
        "# Create  tuple with float numbers\n",
        "\n",
        "tuple2 = (1.2,3.4,5.6,7.8)\n",
        "tuple2"
      ]
    },
    {
      "cell_type": "code",
      "execution_count": null,
      "metadata": {
        "id": "D9Wf_Bb6lDQJ",
        "outputId": "e0d29226-c4ba-4a64-9ff0-b9d68516e3dd"
      },
      "outputs": [
        {
          "data": {
            "text/plain": [
              "('1', 'a', 'b')"
            ]
          },
          "execution_count": 5,
          "metadata": {},
          "output_type": "execute_result"
        }
      ],
      "source": [
        "# Create  tuple with strings\n",
        "\n",
        "tuple3 = ('1','a','b')\n",
        "tuple3"
      ]
    },
    {
      "cell_type": "code",
      "execution_count": null,
      "metadata": {
        "id": "Ltb1MneblDQJ",
        "outputId": "1425a81e-c270-46cc-ff7b-08e15cbc00ca"
      },
      "outputs": [
        {
          "data": {
            "text/plain": [
              "('disco', 10, 1.2)"
            ]
          },
          "execution_count": 80,
          "metadata": {},
          "output_type": "execute_result"
        }
      ],
      "source": [
        "# Create tuple with distinct data types\n",
        "\n",
        "tuple4 = (\"disco\",10,1.2)\n",
        "tuple4"
      ]
    },
    {
      "cell_type": "code",
      "execution_count": null,
      "metadata": {
        "id": "I1kUf7xPlDQK",
        "outputId": "9aa9fe9a-0de8-44a2-b382-a9de6ca58067"
      },
      "outputs": [
        {
          "data": {
            "text/plain": [
              "tuple"
            ]
          },
          "execution_count": 81,
          "metadata": {},
          "output_type": "execute_result"
        }
      ],
      "source": [
        "type(tuple4)"
      ]
    },
    {
      "cell_type": "code",
      "execution_count": null,
      "metadata": {
        "id": "p0VHKt1SlDQK",
        "outputId": "a71bb920-5810-4115-8575-13926750915b"
      },
      "outputs": [
        {
          "data": {
            "text/plain": [
              "(4,)"
            ]
          },
          "execution_count": 92,
          "metadata": {},
          "output_type": "execute_result"
        }
      ],
      "source": [
        "a5=(4,)\n",
        "a5"
      ]
    },
    {
      "cell_type": "code",
      "execution_count": null,
      "metadata": {
        "id": "qDm7l8_SlDQL",
        "outputId": "e2022f4b-67d6-4163-8ef0-64e11677cfa8"
      },
      "outputs": [
        {
          "data": {
            "text/plain": [
              "tuple"
            ]
          },
          "execution_count": 91,
          "metadata": {},
          "output_type": "execute_result"
        }
      ],
      "source": [
        "type(a5)"
      ]
    },
    {
      "cell_type": "code",
      "execution_count": null,
      "metadata": {
        "id": "ch4d3GMelDQL",
        "outputId": "804acdb0-5118-4464-f1d8-bd5a7d234762"
      },
      "outputs": [
        {
          "name": "stdout",
          "output_type": "stream",
          "text": [
            "<class 'tuple'>\n",
            "<class 'str'>\n"
          ]
        }
      ],
      "source": [
        "#Create Tuple With One Item\n",
        "#To create a tuple with only one item, you have to add a comma after the item, \n",
        "#otherwise Python will not recognize it as a tuple.\n",
        "thistuple = (\"apple\",)\n",
        "print(type(thistuple))\n",
        "\n",
        "#NOT a tuple\n",
        "thistuple = (\"apple\")\n",
        "print(type(thistuple))"
      ]
    },
    {
      "cell_type": "markdown",
      "metadata": {
        "id": "QA57fbpulDQM"
      },
      "source": [
        "# Cheking Data Type of Tuple"
      ]
    },
    {
      "cell_type": "code",
      "execution_count": null,
      "metadata": {
        "id": "Xohco-QhlDQM",
        "outputId": "0800be18-e07e-4c8d-ae96-661f1a522c61"
      },
      "outputs": [
        {
          "name": "stdout",
          "output_type": "stream",
          "text": [
            "('disco', 10, 1.2)\n",
            "<class 'tuple'>\n"
          ]
        }
      ],
      "source": [
        "# Checking Data Type of Tuple\n",
        "tuple4 = (\"disco\",10,1.2)\n",
        "print(tuple4)\n",
        "print(type(tuple4))\n"
      ]
    },
    {
      "cell_type": "markdown",
      "metadata": {
        "id": "L4r-N57NlDQM"
      },
      "source": [
        "# Converting list to a Tuple"
      ]
    },
    {
      "cell_type": "raw",
      "metadata": {
        "id": "aAnoYMDplDQN"
      },
      "source": [
        "Typecasting : Converting one Data type to other "
      ]
    },
    {
      "cell_type": "code",
      "execution_count": null,
      "metadata": {
        "id": "tVIDTnJjlDQN",
        "outputId": "763878c8-3779-40d2-fcb2-1ed6837f541f"
      },
      "outputs": [
        {
          "name": "stdout",
          "output_type": "stream",
          "text": [
            "<class 'tuple'>\n"
          ]
        }
      ],
      "source": [
        "# Code for converting a list and a string into a tuple\n",
        "\n",
        "list1 = [0, 1, 2]\n",
        "a=tuple(list1)\n",
        "#print(tuple('python')) # string 'python'\n",
        "print(type(a))\n"
      ]
    },
    {
      "cell_type": "raw",
      "metadata": {
        "id": "-NMVOYG3lDQN"
      },
      "source": [
        "Function: To perform some task"
      ]
    },
    {
      "cell_type": "code",
      "execution_count": null,
      "metadata": {
        "id": "STMjBl6DlDQN",
        "outputId": "8eb09f22-5c09-4822-c8de-4855d9f20bf1"
      },
      "outputs": [
        {
          "data": {
            "text/plain": [
              "(0, 1, 2)"
            ]
          },
          "execution_count": 102,
          "metadata": {},
          "output_type": "execute_result"
        }
      ],
      "source": [
        "tuple(list1)"
      ]
    },
    {
      "cell_type": "code",
      "execution_count": null,
      "metadata": {
        "id": "6wRz3B3slDQO",
        "outputId": "d71e2746-ff2f-4b39-e2cc-ec89bfe08dc4"
      },
      "outputs": [
        {
          "data": {
            "text/plain": [
              "list"
            ]
          },
          "execution_count": 103,
          "metadata": {},
          "output_type": "execute_result"
        }
      ],
      "source": [
        "type(list1)"
      ]
    },
    {
      "cell_type": "code",
      "execution_count": null,
      "metadata": {
        "id": "TeKcYb2DlDQO",
        "outputId": "ea4e9e49-3234-4694-df95-b1440033dedc"
      },
      "outputs": [
        {
          "data": {
            "text/plain": [
              "[1, 2, 3, 4, 5, 6, 1, 2, 3]"
            ]
          },
          "execution_count": 111,
          "metadata": {},
          "output_type": "execute_result"
        }
      ],
      "source": [
        "a=[1,2,3,4,5,6,1,2,3]\n",
        "a"
      ]
    },
    {
      "cell_type": "markdown",
      "metadata": {
        "id": "HTu-4VsXlDQO"
      },
      "source": [
        "# Tuple items are ordered, unchangeable, and allow duplicate values."
      ]
    },
    {
      "cell_type": "markdown",
      "metadata": {
        "id": "-ZlFsaRmlDQO"
      },
      "source": [
        "# Ordered\n",
        "When we say that tuples are ordered, it means that the items have a defined order, and that order will not change."
      ]
    },
    {
      "cell_type": "markdown",
      "metadata": {
        "id": "ShAMingAlDQP"
      },
      "source": [
        "# Unchangeable\n",
        "\n",
        "Tuples are unchangeable, meaning that we cannot change, add or remove items after the tuple has been created."
      ]
    },
    {
      "cell_type": "markdown",
      "metadata": {
        "id": "XBGXY_2DlDQP"
      },
      "source": [
        "# Allow Duplicates\n",
        "\n",
        "Since tuples are indexed, they can have items with the same value:"
      ]
    },
    {
      "cell_type": "code",
      "execution_count": null,
      "metadata": {
        "id": "Y5kXSRKWlDQP",
        "outputId": "c5dc6a7e-d878-4aaa-b662-49f7ca7d22e3"
      },
      "outputs": [
        {
          "data": {
            "text/plain": [
              "(1, 2, 3, 1, 2, 3)"
            ]
          },
          "execution_count": 13,
          "metadata": {},
          "output_type": "execute_result"
        }
      ],
      "source": [
        "a2=(1,2,3,1,2,3)\n",
        "a2"
      ]
    },
    {
      "cell_type": "markdown",
      "metadata": {
        "id": "pWKt-RCclDQQ"
      },
      "source": [
        "# Tuple Length\n",
        "\n",
        "To determine how many items a tuple has, use the len() function:"
      ]
    },
    {
      "cell_type": "code",
      "execution_count": null,
      "metadata": {
        "id": "5RCRBR9zlDQQ",
        "outputId": "e590f92a-21b1-4bf2-c17a-cc90d7ec72a1"
      },
      "outputs": [
        {
          "name": "stdout",
          "output_type": "stream",
          "text": [
            "3\n"
          ]
        }
      ],
      "source": [
        "a1 = (\"apple\", \"banana\", \"cherry\")\n",
        "print(len(a1))"
      ]
    },
    {
      "cell_type": "markdown",
      "metadata": {
        "id": "jMpsLOF6lDQR"
      },
      "source": [
        "# Concatenation of Tuples"
      ]
    },
    {
      "cell_type": "code",
      "execution_count": null,
      "metadata": {
        "id": "bkbetoFJlDQR",
        "outputId": "b6f9067d-5baf-4e26-ffc1-0bc845b0a3ce"
      },
      "outputs": [
        {
          "name": "stdout",
          "output_type": "stream",
          "text": [
            "(0, 1, 2, 3, 'python', 'India')\n"
          ]
        }
      ],
      "source": [
        "# Code for concatenating 2 tuples\n",
        "\n",
        "tuple1 = (0, 1, 2, 3)\n",
        "tuple2 = ('python', 'India')\n",
        "\n",
        "# Concatenating above two\n",
        "print(tuple1 + tuple2)\n"
      ]
    },
    {
      "cell_type": "markdown",
      "metadata": {
        "id": "w4MnnH3OlDQR"
      },
      "source": [
        "# Nesting of Tuples"
      ]
    },
    {
      "cell_type": "code",
      "execution_count": null,
      "metadata": {
        "id": "PszreEvnlDQR",
        "outputId": "cb460a90-00e3-4995-ca9a-b44fc22b1136"
      },
      "outputs": [
        {
          "name": "stdout",
          "output_type": "stream",
          "text": [
            "((0, 1, 2, 3), ('python', 'India'))\n"
          ]
        }
      ],
      "source": [
        "# Code for creating nested tuples\n",
        "\n",
        "tuple1 = (0, 1, 2, 3)\n",
        "tuple2 = ('python', 'India')\n",
        "tuple3 = (tuple1, tuple2)\n",
        "print(tuple3)\n"
      ]
    },
    {
      "cell_type": "markdown",
      "metadata": {
        "id": "W7j_z-IylDQS"
      },
      "source": [
        "# Repetition in Tuples"
      ]
    },
    {
      "cell_type": "code",
      "execution_count": null,
      "metadata": {
        "id": "njVOJiy5lDQS",
        "outputId": "eb36557d-8732-45d0-deeb-8fa68483374c"
      },
      "outputs": [
        {
          "name": "stdout",
          "output_type": "stream",
          "text": [
            "('python', 'python', 'python', 'python', 'python', 'python', 'python', 'python', 'python', 'python', 'python', 'python', 'python', 'python', 'python', 'python', 'python', 'python', 'python', 'python', 'python', 'python', 'python', 'python', 'python')\n"
          ]
        }
      ],
      "source": [
        "# Code to create a tuple with repetition\n",
        "\n",
        "tuple3 = ('python',)*25\n",
        "print(tuple3)\n"
      ]
    },
    {
      "cell_type": "markdown",
      "metadata": {
        "id": "ZoYDyEzOlDQS"
      },
      "source": [
        "# Accessing Values in Tuples\n",
        "To access values in tuple, use the square brackets for slicing along with the index or indices to obtain value available at that index. For example −"
      ]
    },
    {
      "cell_type": "raw",
      "metadata": {
        "id": "1JUZfjrLlDQT"
      },
      "source": [
        "Accessing items in a tuple works similar to a list, we can access elements in a list using indexes. We can specify the index value and it will return the item stored at that particular index value."
      ]
    },
    {
      "cell_type": "markdown",
      "metadata": {
        "id": "qqgujWQslDQT"
      },
      "source": [
        "# Indexing"
      ]
    },
    {
      "cell_type": "raw",
      "metadata": {
        "id": "OIlOaFU1lDQT"
      },
      "source": [
        "Each element of a tuple can be accessed via an index. The following table represents the relationship between the index and the items in the tuple. Each element can be obtained by the name of the tuple followed by a square bracket with the index number:"
      ]
    },
    {
      "cell_type": "markdown",
      "metadata": {
        "id": "JfFJ-yFTlDQU"
      },
      "source": [
        "<img src=\"https://s3-api.us-geo.objectstorage.softlayer.net/cf-courses-data/CognitiveClass/PY0101EN/Chapter%202/Images/TuplesIndex.gif\" width=\"750\" align=\"center\">"
      ]
    },
    {
      "cell_type": "code",
      "execution_count": null,
      "metadata": {
        "id": "5d9OyDjZlDQU",
        "outputId": "57c3e7e8-1ecb-4402-f80e-47e21bcbef01"
      },
      "outputs": [
        {
          "data": {
            "text/plain": [
              "('disco', 10, 1.2)"
            ]
          },
          "execution_count": 116,
          "metadata": {},
          "output_type": "execute_result"
        }
      ],
      "source": [
        "a1=(\"disco\",10,1.2)\n",
        "a1"
      ]
    },
    {
      "cell_type": "raw",
      "metadata": {
        "id": "m5mrDhRClDQU"
      },
      "source": [
        "We can print out each value in the tuple:"
      ]
    },
    {
      "cell_type": "code",
      "execution_count": null,
      "metadata": {
        "id": "31_d5hOYlDQV",
        "outputId": "b993b0d1-d967-4783-a89a-f9e4f9f7f1ea"
      },
      "outputs": [
        {
          "name": "stdout",
          "output_type": "stream",
          "text": [
            "disco\n",
            "10\n",
            "1.2\n"
          ]
        }
      ],
      "source": [
        "# Print the variable on each index\n",
        "\n",
        "print(a1[0])\n",
        "print(a1[1])\n",
        "print(a1[2])\n"
      ]
    },
    {
      "cell_type": "raw",
      "metadata": {
        "id": "Inw8w1n1lDQV"
      },
      "source": [
        "We can print out the **type** of each value in the tuple:"
      ]
    },
    {
      "cell_type": "code",
      "execution_count": null,
      "metadata": {
        "id": "EF3JJKLhlDQW",
        "outputId": "5be902b7-2569-497b-e42c-c7891391e866"
      },
      "outputs": [
        {
          "name": "stdout",
          "output_type": "stream",
          "text": [
            "<class 'int'>\n",
            "<class 'int'>\n",
            "<class 'int'>\n"
          ]
        }
      ],
      "source": [
        "# Print the type of value on each index\n",
        "\n",
        "print(type(tuple1[0]))\n",
        "print(type(tuple1[1]))\n",
        "print(type(tuple1[2]))\n",
        "\n"
      ]
    },
    {
      "cell_type": "markdown",
      "metadata": {
        "id": "OkWTMVkNlDQW"
      },
      "source": [
        "# Negative Indexing\n",
        "\n",
        "We can also use negative indexing. We use the same table above with corresponding negative values:"
      ]
    },
    {
      "cell_type": "markdown",
      "metadata": {
        "id": "66PD56lclDQW"
      },
      "source": [
        "<img src=\"https://s3-api.us-geo.objectstorage.softlayer.net/cf-courses-data/CognitiveClass/PY0101EN/Chapter%202/Images/TuplesNeg.png\" width=\"750\" align=\"center\">\n"
      ]
    },
    {
      "cell_type": "raw",
      "metadata": {
        "id": "0XEWqlf5lDQX"
      },
      "source": [
        "We can obtain the last element as follows (this time we will not use the print statement to display the values):"
      ]
    },
    {
      "cell_type": "code",
      "execution_count": null,
      "metadata": {
        "id": "cHf8j2JvlDQX",
        "outputId": "b382f582-ed7b-4782-b413-4cb436026bd3"
      },
      "outputs": [
        {
          "data": {
            "text/plain": [
              "('disco', 10, 1.2)"
            ]
          },
          "execution_count": 118,
          "metadata": {},
          "output_type": "execute_result"
        }
      ],
      "source": [
        "tuple1=('disco',10,1.2)\n",
        "tuple1"
      ]
    },
    {
      "cell_type": "code",
      "execution_count": null,
      "metadata": {
        "id": "Tm-eOh4NlDQX",
        "outputId": "f83607db-eadb-4604-e106-50e82dd7f42b"
      },
      "outputs": [
        {
          "data": {
            "text/plain": [
              "1.2"
            ]
          },
          "execution_count": 120,
          "metadata": {},
          "output_type": "execute_result"
        }
      ],
      "source": [
        "\n",
        "# Use negative index to get the value of the last element\n",
        "\n",
        "tuple1[-1]\n"
      ]
    },
    {
      "cell_type": "code",
      "execution_count": null,
      "metadata": {
        "id": "ZkEIRlNFlDQX",
        "outputId": "4fb98fdf-13bb-473e-8a39-72686d0a713e"
      },
      "outputs": [
        {
          "data": {
            "text/plain": [
              "10"
            ]
          },
          "execution_count": 121,
          "metadata": {},
          "output_type": "execute_result"
        }
      ],
      "source": [
        "# Use negative index to get the value of the second last element\n",
        "\n",
        "tuple1[-2]"
      ]
    },
    {
      "cell_type": "code",
      "execution_count": null,
      "metadata": {
        "id": "j9JhQ3WdlDQY",
        "outputId": "3400efc3-b3be-44f3-fc91-15626b40d5c4"
      },
      "outputs": [
        {
          "data": {
            "text/plain": [
              "'disco'"
            ]
          },
          "execution_count": 122,
          "metadata": {},
          "output_type": "execute_result"
        }
      ],
      "source": [
        "# Use negative index to get the value of the third last element\n",
        "\n",
        "tuple1[-3]"
      ]
    },
    {
      "cell_type": "markdown",
      "metadata": {
        "id": "Pfybce65lDQY"
      },
      "source": [
        "# Slicing\n",
        "\n",
        "We can slice tuples, obtaining new tuples with the corresponding elements:"
      ]
    },
    {
      "cell_type": "markdown",
      "metadata": {
        "id": "rjOH3p4NlDQY"
      },
      "source": [
        "<img src=\"https://s3-api.us-geo.objectstorage.softlayer.net/cf-courses-data/CognitiveClass/PY0101EN/Chapter%202/Images/TuplesSlice.gif\" width=\"750\" align=\"center\">"
      ]
    },
    {
      "cell_type": "code",
      "execution_count": null,
      "metadata": {
        "id": "kwO6QtDvlDQY",
        "outputId": "46242772-1b89-4e07-8a15-0593ceae89be"
      },
      "outputs": [
        {
          "data": {
            "text/plain": [
              "('disco', 10, 1.2, 'hard rock', 10)"
            ]
          },
          "execution_count": 33,
          "metadata": {},
          "output_type": "execute_result"
        }
      ],
      "source": [
        "tuple2=('disco',10,1.2,'hard rock',10)\n",
        "tuple2"
      ]
    },
    {
      "cell_type": "code",
      "execution_count": null,
      "metadata": {
        "id": "N-62o5LAlDQZ",
        "outputId": "f267c35f-60f0-4d44-e13d-5616f6ee89aa"
      },
      "outputs": [
        {
          "data": {
            "text/plain": [
              "('disco', 10, 1.2)"
            ]
          },
          "execution_count": 34,
          "metadata": {},
          "output_type": "execute_result"
        }
      ],
      "source": [
        "# Slice from index 0 to index 2\n",
        "\n",
        "tuple2[0:3]\n"
      ]
    },
    {
      "cell_type": "code",
      "execution_count": null,
      "metadata": {
        "id": "OJerCiCXlDQZ",
        "outputId": "6bed5065-10c0-4555-84a8-a2d26dada710"
      },
      "outputs": [
        {
          "data": {
            "text/plain": [
              "('hard rock', 10)"
            ]
          },
          "execution_count": 35,
          "metadata": {},
          "output_type": "execute_result"
        }
      ],
      "source": [
        "# Slice from index 3 to index 4\n",
        "\n",
        "tuple2[3:5]"
      ]
    },
    {
      "cell_type": "markdown",
      "metadata": {
        "id": "U_6KMrLklDQZ"
      },
      "source": [
        "<img src=\"https://s3-api.us-geo.objectstorage.softlayer.net/cf-courses-data/CognitiveClass/PY0101EN/Chapter%202/Images/TuplesElement.png\" width=\"750\" align=\"center\">"
      ]
    },
    {
      "cell_type": "markdown",
      "metadata": {
        "id": "Mmx1kZWWlDQa"
      },
      "source": [
        "# Stride"
      ]
    },
    {
      "cell_type": "code",
      "execution_count": null,
      "metadata": {
        "id": "PT3cvSKalDQa",
        "outputId": "d0cab53f-ce66-4d0d-e849-be1bf6bf1c3e"
      },
      "outputs": [
        {
          "data": {
            "text/plain": [
              "('disco', 10, 1.2, 'hard rock', 10)"
            ]
          },
          "execution_count": 123,
          "metadata": {},
          "output_type": "execute_result"
        }
      ],
      "source": [
        "tuple2=('disco',10,1.2,'hard rock',10)\n",
        "tuple2"
      ]
    },
    {
      "cell_type": "code",
      "execution_count": null,
      "metadata": {
        "id": "3j9xECn1lDQa",
        "outputId": "f690d253-6752-4449-ea36-3863f34cb65f"
      },
      "outputs": [
        {
          "data": {
            "text/plain": [
              "('disco', 1.2, 10)"
            ]
          },
          "execution_count": 124,
          "metadata": {},
          "output_type": "execute_result"
        }
      ],
      "source": [
        "tuple2[::2]"
      ]
    },
    {
      "cell_type": "markdown",
      "metadata": {
        "id": "hTc47DgclDQa"
      },
      "source": [
        "# Nested Tuple"
      ]
    },
    {
      "cell_type": "raw",
      "metadata": {
        "id": "8YB_KQxelDQa"
      },
      "source": [
        "A tuple can contain another tuple as well as other more complex data types. This process is called 'nesting'. Consider the following tuple with several elements: "
      ]
    },
    {
      "cell_type": "markdown",
      "metadata": {
        "id": "EWkbes6mlDQb"
      },
      "source": [
        "<img src=\"https://s3-api.us-geo.objectstorage.softlayer.net/cf-courses-data/CognitiveClass/PY0101EN/Chapter%202/Images/TuplesNestOne.png\" width=\"750\" align=\"center\">"
      ]
    },
    {
      "cell_type": "code",
      "execution_count": null,
      "metadata": {
        "id": "ScWJg9f2lDQb"
      },
      "outputs": [],
      "source": [
        "# Create a nest tuple\n",
        "\n",
        "NestedT =(1, 2, (\"pop\", \"rock\") ,(3,4),(\"disco\",(1,2)))"
      ]
    },
    {
      "cell_type": "code",
      "execution_count": null,
      "metadata": {
        "id": "LL-u0pyIlDQb",
        "outputId": "bf707968-c036-4296-c25d-9395c6aa32af"
      },
      "outputs": [
        {
          "data": {
            "text/plain": [
              "'i'"
            ]
          },
          "execution_count": 129,
          "metadata": {},
          "output_type": "execute_result"
        }
      ],
      "source": [
        "NestedT[4][0][1]"
      ]
    },
    {
      "cell_type": "code",
      "execution_count": null,
      "metadata": {
        "id": "RqW69B0hlDQb",
        "outputId": "afe17b5b-dad5-44cd-a9c8-b7d3aeee3740"
      },
      "outputs": [
        {
          "name": "stdout",
          "output_type": "stream",
          "text": [
            "Element 0 of Tuple:  1\n",
            "Element 1 of Tuple:  2\n",
            "Element 2 of Tuple:  ('pop', 'rock')\n",
            "Element 3 of Tuple:  (3, 4)\n",
            "Element 4 of Tuple:  ('disco', (1, 2))\n"
          ]
        }
      ],
      "source": [
        "\n",
        "# Print element on each index\n",
        "\n",
        "print(\"Element 0 of Tuple: \", NestedT[0])\n",
        "print(\"Element 1 of Tuple: \", NestedT[1])\n",
        "print(\"Element 2 of Tuple: \", NestedT[2])\n",
        "print(\"Element 3 of Tuple: \", NestedT[3])\n",
        "print(\"Element 4 of Tuple: \", NestedT[4])"
      ]
    },
    {
      "cell_type": "markdown",
      "metadata": {
        "id": "ZZln8ezylDQc"
      },
      "source": [
        "We can use the second index to access other tuples as demonstrated in the figure:"
      ]
    },
    {
      "cell_type": "markdown",
      "metadata": {
        "id": "n27wUz18lDQc"
      },
      "source": [
        "<img src=\"https://s3-api.us-geo.objectstorage.softlayer.net/cf-courses-data/CognitiveClass/PY0101EN/Chapter%202/Images/TuplesNestTwo.png\" width=\"750\" align=\"center\">"
      ]
    },
    {
      "cell_type": "raw",
      "metadata": {
        "id": "fZlfAunDlDQc"
      },
      "source": [
        "we can access Nested Tuple"
      ]
    },
    {
      "cell_type": "code",
      "execution_count": null,
      "metadata": {
        "id": "HdOaQY6rlDQc",
        "outputId": "ca6ef083-1294-4b78-d41f-5c219a743a10"
      },
      "outputs": [
        {
          "data": {
            "text/plain": [
              "'rock'"
            ]
          },
          "execution_count": 43,
          "metadata": {},
          "output_type": "execute_result"
        }
      ],
      "source": [
        "NestedT[2][1]"
      ]
    },
    {
      "cell_type": "markdown",
      "metadata": {
        "id": "C_yT-BgslDQd"
      },
      "source": [
        "<img src=\"https://s3-api.us-geo.objectstorage.softlayer.net/cf-courses-data/CognitiveClass/PY0101EN/Chapter%202/Images/TuplesNestFour.gif\" width=\"750\" align=\"center\">"
      ]
    },
    {
      "cell_type": "code",
      "execution_count": null,
      "metadata": {
        "id": "ovhFfY5ilDQd",
        "outputId": "c4355262-c89d-4c5a-ca28-f0b793cc74af"
      },
      "outputs": [
        {
          "data": {
            "text/plain": [
              "'r'"
            ]
          },
          "execution_count": 44,
          "metadata": {},
          "output_type": "execute_result"
        }
      ],
      "source": [
        "NestedT[2][1][0]"
      ]
    },
    {
      "cell_type": "code",
      "execution_count": null,
      "metadata": {
        "id": "IVBp8zF2lDQd",
        "outputId": "8efdb0bf-d6d3-46a0-f58c-bf482b3ad2f7"
      },
      "outputs": [
        {
          "data": {
            "text/plain": [
              "(1, 2)"
            ]
          },
          "execution_count": 46,
          "metadata": {},
          "output_type": "execute_result"
        }
      ],
      "source": [
        "NestedT[3][1]"
      ]
    },
    {
      "cell_type": "code",
      "execution_count": null,
      "metadata": {
        "id": "qpwqVBVhlDQd",
        "outputId": "1ade4177-0bcd-43a0-e272-5f1d961cecd5"
      },
      "outputs": [
        {
          "data": {
            "text/plain": [
              "(1, 2)"
            ]
          },
          "execution_count": 47,
          "metadata": {},
          "output_type": "execute_result"
        }
      ],
      "source": [
        "NestedT[4][1]"
      ]
    },
    {
      "cell_type": "code",
      "execution_count": null,
      "metadata": {
        "id": "hX52SbO4lDQe",
        "outputId": "ee96d5b9-c29a-4a0e-de1f-9c8a461b4ffa"
      },
      "outputs": [
        {
          "name": "stdout",
          "output_type": "stream",
          "text": [
            "Element 2, 0 of Tuple:  pop\n",
            "Element 2, 1 of Tuple:  rock\n",
            "Element 3, 0 of Tuple:  3\n",
            "Element 3, 1 of Tuple:  4\n",
            "Element 4, 0 of Tuple:  disco\n",
            "Element 4, 1 of Tuple:  (1, 2)\n"
          ]
        }
      ],
      "source": [
        "# Print element on each index, including nest indexes\n",
        "\n",
        "print(\"Element 2, 0 of Tuple: \",   NestedT[2][0])\n",
        "print(\"Element 2, 1 of Tuple: \",   NestedT[2][1])\n",
        "print(\"Element 3, 0 of Tuple: \",   NestedT[3][0])\n",
        "print(\"Element 3, 1 of Tuple: \",   NestedT[3][1])\n",
        "print(\"Element 4, 0 of Tuple: \",   NestedT[4][0])\n",
        "print(\"Element 4, 1 of Tuple: \",   NestedT[4][1])"
      ]
    },
    {
      "cell_type": "markdown",
      "metadata": {
        "id": "jHgK9ES9lDQe"
      },
      "source": [
        "# Sortings"
      ]
    },
    {
      "cell_type": "code",
      "execution_count": null,
      "metadata": {
        "id": "n8-4oZfjlDQe",
        "outputId": "6471a7ca-1b94-4818-e5a6-553dbd7a4f7e"
      },
      "outputs": [
        {
          "data": {
            "text/plain": [
              "[0, 2, 5, 6, 6, 8, 9, 9, 10]"
            ]
          },
          "execution_count": 130,
          "metadata": {},
          "output_type": "execute_result"
        }
      ],
      "source": [
        "# A sample tuple\n",
        "\n",
        "Ratings = (0, 9, 6, 5, 10, 8, 9, 6, 2)\n",
        "h=sorted(Ratings)\n",
        "h"
      ]
    },
    {
      "cell_type": "code",
      "execution_count": null,
      "metadata": {
        "id": "n4_O1zWOlDQe",
        "outputId": "ed52cb4c-6dfe-4dd6-bb9f-552e70797483"
      },
      "outputs": [
        {
          "data": {
            "text/plain": [
              "['a', 'c', 'd', 'p', 'z']"
            ]
          },
          "execution_count": 132,
          "metadata": {},
          "output_type": "execute_result"
        }
      ],
      "source": [
        "fg=(\"d\",\"a\",\"c\",\"z\",\"p\")\n",
        "gh=sorted(fg)\n",
        "gh"
      ]
    },
    {
      "cell_type": "markdown",
      "metadata": {
        "id": "2iO_U4JMlDQf"
      },
      "source": [
        "# Tuple is immutable"
      ]
    },
    {
      "cell_type": "code",
      "execution_count": null,
      "metadata": {
        "id": "t3X5G4EVlDQf",
        "outputId": "94e97d44-ad68-4591-920e-5b52ade65768"
      },
      "outputs": [
        {
          "data": {
            "text/plain": [
              "(1, 2, 3, 4)"
            ]
          },
          "execution_count": 133,
          "metadata": {},
          "output_type": "execute_result"
        }
      ],
      "source": [
        "A=(1,2,3,4)\n",
        "A"
      ]
    },
    {
      "cell_type": "code",
      "execution_count": null,
      "metadata": {
        "id": "NZh6FG-ElDQf",
        "outputId": "dbfdaf7c-98ec-48da-a34f-a28636852d87"
      },
      "outputs": [
        {
          "data": {
            "text/plain": [
              "2"
            ]
          },
          "execution_count": 134,
          "metadata": {},
          "output_type": "execute_result"
        }
      ],
      "source": [
        "A[1]"
      ]
    },
    {
      "cell_type": "code",
      "execution_count": null,
      "metadata": {
        "id": "6jeDhPiflDQf",
        "outputId": "96056656-736c-467e-f0ac-89766fa4e7b2"
      },
      "outputs": [
        {
          "ename": "TypeError",
          "evalue": "'tuple' object does not support item assignment",
          "output_type": "error",
          "traceback": [
            "\u001b[1;31m---------------------------------------------------------------------------\u001b[0m",
            "\u001b[1;31mTypeError\u001b[0m                                 Traceback (most recent call last)",
            "\u001b[1;32m<ipython-input-135-3cc945e68ea9>\u001b[0m in \u001b[0;36m<module>\u001b[1;34m\u001b[0m\n\u001b[1;32m----> 1\u001b[1;33m \u001b[0mA\u001b[0m\u001b[1;33m[\u001b[0m\u001b[1;36m1\u001b[0m\u001b[1;33m]\u001b[0m\u001b[1;33m=\u001b[0m\u001b[1;36m7\u001b[0m\u001b[1;33m\u001b[0m\u001b[1;33m\u001b[0m\u001b[0m\n\u001b[0m",
            "\u001b[1;31mTypeError\u001b[0m: 'tuple' object does not support item assignment"
          ]
        }
      ],
      "source": [
        "A[1]=7"
      ]
    },
    {
      "cell_type": "code",
      "execution_count": null,
      "metadata": {
        "id": "tmKGyzl3lDQg",
        "outputId": "04a4eec4-6d55-4ae3-9fe5-f7632dfb6d74"
      },
      "outputs": [
        {
          "data": {
            "text/plain": [
              "[1, 2, 3, 4]"
            ]
          },
          "execution_count": 136,
          "metadata": {},
          "output_type": "execute_result"
        }
      ],
      "source": [
        "A1=[1,2,3,4]\n",
        "A1"
      ]
    },
    {
      "cell_type": "code",
      "execution_count": null,
      "metadata": {
        "id": "SJgOm4LclDQg",
        "outputId": "1ac3a477-ed18-4d05-8623-6cb71a753916"
      },
      "outputs": [
        {
          "data": {
            "text/plain": [
              "2"
            ]
          },
          "execution_count": 137,
          "metadata": {},
          "output_type": "execute_result"
        }
      ],
      "source": [
        "A1[1]"
      ]
    },
    {
      "cell_type": "code",
      "execution_count": null,
      "metadata": {
        "id": "A1_vAOUklDQg",
        "outputId": "5d1d0ba5-59b7-4d0c-c0ea-0de6a00a92ea"
      },
      "outputs": [
        {
          "data": {
            "text/plain": [
              "[1, 7, 3, 4]"
            ]
          },
          "execution_count": 139,
          "metadata": {},
          "output_type": "execute_result"
        }
      ],
      "source": [
        "A1[1]=7\n",
        "A1"
      ]
    },
    {
      "cell_type": "markdown",
      "metadata": {
        "id": "Ajsr3qpolDQh"
      },
      "source": [
        "# Changing A Tuple\n",
        "Even though tuples in python are immutable in nature, a nested object in a tuple can be changed. Or in general, a tuple in python can be reassigned with a different value."
      ]
    },
    {
      "cell_type": "code",
      "execution_count": null,
      "metadata": {
        "id": "QfhzZGR2lDQh",
        "outputId": "7ea4fb8f-8bd6-4469-ac1a-2d460ab0d8ab"
      },
      "outputs": [
        {
          "data": {
            "text/plain": [
              "(32, 45, 56, 33)"
            ]
          },
          "execution_count": 50,
          "metadata": {},
          "output_type": "execute_result"
        }
      ],
      "source": [
        "# create a tuple\n",
        "age = (32, 45, 56, 33)\n",
        "age"
      ]
    },
    {
      "cell_type": "code",
      "execution_count": null,
      "metadata": {
        "id": "aT9Gnd64lDQh",
        "outputId": "b5ba5ce9-71a8-4c93-f81a-3b96cf711051"
      },
      "outputs": [
        {
          "ename": "TypeError",
          "evalue": "'tuple' object does not support item assignment",
          "output_type": "error",
          "traceback": [
            "\u001b[1;31m---------------------------------------------------------------------------\u001b[0m",
            "\u001b[1;31mTypeError\u001b[0m                                 Traceback (most recent call last)",
            "\u001b[1;32m<ipython-input-51-d87f7c428bf5>\u001b[0m in \u001b[0;36m<module>\u001b[1;34m\u001b[0m\n\u001b[0;32m      1\u001b[0m \u001b[1;31m# add value into tuple\u001b[0m\u001b[1;33m\u001b[0m\u001b[1;33m\u001b[0m\u001b[1;33m\u001b[0m\u001b[0m\n\u001b[1;32m----> 2\u001b[1;33m \u001b[0mage\u001b[0m\u001b[1;33m[\u001b[0m\u001b[1;36m2\u001b[0m\u001b[1;33m]\u001b[0m \u001b[1;33m=\u001b[0m \u001b[1;36m33\u001b[0m\u001b[1;33m\u001b[0m\u001b[1;33m\u001b[0m\u001b[0m\n\u001b[0m",
            "\u001b[1;31mTypeError\u001b[0m: 'tuple' object does not support item assignment"
          ]
        }
      ],
      "source": [
        "# add value into tuple\n",
        "age[2] = 33"
      ]
    },
    {
      "cell_type": "code",
      "execution_count": null,
      "metadata": {
        "id": "UKWxd3H0lDQh",
        "outputId": "0c057009-dfe0-4047-ef88-f5ee39a31954"
      },
      "outputs": [
        {
          "ename": "TypeError",
          "evalue": "'tuple' object does not support item assignment",
          "output_type": "error",
          "traceback": [
            "\u001b[1;31m---------------------------------------------------------------------------\u001b[0m",
            "\u001b[1;31mTypeError\u001b[0m                                 Traceback (most recent call last)",
            "\u001b[1;32m<ipython-input-58-265cbe9a9e30>\u001b[0m in \u001b[0;36m<module>\u001b[1;34m\u001b[0m\n\u001b[0;32m      2\u001b[0m \u001b[1;33m\u001b[0m\u001b[0m\n\u001b[0;32m      3\u001b[0m \u001b[0mtuple1\u001b[0m \u001b[1;33m=\u001b[0m \u001b[1;33m(\u001b[0m\u001b[1;36m0\u001b[0m\u001b[1;33m,\u001b[0m \u001b[1;36m1\u001b[0m\u001b[1;33m,\u001b[0m \u001b[1;36m2\u001b[0m\u001b[1;33m,\u001b[0m \u001b[1;36m3\u001b[0m\u001b[1;33m)\u001b[0m\u001b[1;33m\u001b[0m\u001b[1;33m\u001b[0m\u001b[0m\n\u001b[1;32m----> 4\u001b[1;33m \u001b[0mtuple1\u001b[0m\u001b[1;33m[\u001b[0m\u001b[1;36m0\u001b[0m\u001b[1;33m]\u001b[0m \u001b[1;33m=\u001b[0m \u001b[1;36m4\u001b[0m\u001b[1;33m\u001b[0m\u001b[1;33m\u001b[0m\u001b[0m\n\u001b[0m\u001b[0;32m      5\u001b[0m \u001b[0mprint\u001b[0m\u001b[1;33m(\u001b[0m\u001b[0mtuple1\u001b[0m\u001b[1;33m)\u001b[0m\u001b[1;33m\u001b[0m\u001b[1;33m\u001b[0m\u001b[0m\n",
            "\u001b[1;31mTypeError\u001b[0m: 'tuple' object does not support item assignment"
          ]
        }
      ],
      "source": [
        "#code to test that tuples are immutable\n",
        "\n",
        "tuple1 = (0, 1, 2, 3)\n",
        "tuple1[0] = 4\n",
        "print(tuple1)\n"
      ]
    },
    {
      "cell_type": "code",
      "execution_count": null,
      "metadata": {
        "id": "-CVOHdmLlDQi",
        "outputId": "4aca74c5-9088-40f7-c3df-68537f63fd41"
      },
      "outputs": [
        {
          "name": "stdout",
          "output_type": "stream",
          "text": [
            "(1, 2, 3, [14, 5])\n"
          ]
        }
      ],
      "source": [
        "a = (1,2,3,[4,5])\n",
        "a[3][0] = 14\n",
        "print(a)"
      ]
    },
    {
      "cell_type": "markdown",
      "metadata": {
        "id": "q3hiCI2GlDQi"
      },
      "source": [
        "# Remove Elements\n",
        "\n",
        "We cannot add and  remove elements from the tuple, but we can delete the tuple completely"
      ]
    },
    {
      "cell_type": "code",
      "execution_count": null,
      "metadata": {
        "id": "1iKWHbSRlDQi",
        "outputId": "b6b79268-fbbb-4c78-db0e-c0d40dc3d79b"
      },
      "outputs": [
        {
          "ename": "AttributeError",
          "evalue": "'tuple' object has no attribute 'remove'",
          "output_type": "error",
          "traceback": [
            "\u001b[1;31m---------------------------------------------------------------------------\u001b[0m",
            "\u001b[1;31mAttributeError\u001b[0m                            Traceback (most recent call last)",
            "\u001b[1;32m<ipython-input-144-33a4ae8da998>\u001b[0m in \u001b[0;36m<module>\u001b[1;34m\u001b[0m\n\u001b[0;32m      1\u001b[0m \u001b[0ma1\u001b[0m\u001b[1;33m=\u001b[0m\u001b[1;33m(\u001b[0m\u001b[1;36m1\u001b[0m\u001b[1;33m,\u001b[0m\u001b[1;36m2\u001b[0m\u001b[1;33m,\u001b[0m\u001b[1;36m3\u001b[0m\u001b[1;33m,\u001b[0m\u001b[1;36m4\u001b[0m\u001b[1;33m)\u001b[0m\u001b[1;33m\u001b[0m\u001b[1;33m\u001b[0m\u001b[0m\n\u001b[1;32m----> 2\u001b[1;33m \u001b[0ma1\u001b[0m\u001b[1;33m.\u001b[0m\u001b[0mremove\u001b[0m\u001b[1;33m(\u001b[0m\u001b[1;36m4\u001b[0m\u001b[1;33m)\u001b[0m\u001b[1;33m\u001b[0m\u001b[1;33m\u001b[0m\u001b[0m\n\u001b[0m\u001b[0;32m      3\u001b[0m \u001b[0ma1\u001b[0m\u001b[1;33m\u001b[0m\u001b[1;33m\u001b[0m\u001b[0m\n",
            "\u001b[1;31mAttributeError\u001b[0m: 'tuple' object has no attribute 'remove'"
          ]
        }
      ],
      "source": [
        "a1=(1,2,3,4)\n",
        "a1.remove(4)\n",
        "a1"
      ]
    },
    {
      "cell_type": "code",
      "execution_count": null,
      "metadata": {
        "id": "e9xMUK-NlDQi",
        "outputId": "8044842f-2afc-47df-f018-484b70ff7c86"
      },
      "outputs": [
        {
          "ename": "AttributeError",
          "evalue": "'tuple' object has no attribute 'append'",
          "output_type": "error",
          "traceback": [
            "\u001b[1;31m---------------------------------------------------------------------------\u001b[0m",
            "\u001b[1;31mAttributeError\u001b[0m                            Traceback (most recent call last)",
            "\u001b[1;32m<ipython-input-70-e886994465cf>\u001b[0m in \u001b[0;36m<module>\u001b[1;34m\u001b[0m\n\u001b[0;32m      1\u001b[0m \u001b[1;31m# create a tuple\u001b[0m\u001b[1;33m\u001b[0m\u001b[1;33m\u001b[0m\u001b[1;33m\u001b[0m\u001b[0m\n\u001b[0;32m      2\u001b[0m \u001b[0mwords\u001b[0m \u001b[1;33m=\u001b[0m \u001b[1;33m(\u001b[0m\u001b[1;34m'this'\u001b[0m\u001b[1;33m,\u001b[0m \u001b[1;34m'that'\u001b[0m\u001b[1;33m,\u001b[0m \u001b[1;34m'is'\u001b[0m\u001b[1;33m,\u001b[0m \u001b[1;34m'there'\u001b[0m\u001b[1;33m)\u001b[0m\u001b[1;33m\u001b[0m\u001b[1;33m\u001b[0m\u001b[0m\n\u001b[1;32m----> 3\u001b[1;33m \u001b[0mwords\u001b[0m\u001b[1;33m.\u001b[0m\u001b[0mappend\u001b[0m\u001b[1;33m(\u001b[0m\u001b[1;34m'hi'\u001b[0m\u001b[1;33m)\u001b[0m\u001b[1;33m\u001b[0m\u001b[1;33m\u001b[0m\u001b[0m\n\u001b[0m\u001b[0;32m      4\u001b[0m \u001b[0mwords\u001b[0m\u001b[1;33m\u001b[0m\u001b[1;33m\u001b[0m\u001b[0m\n",
            "\u001b[1;31mAttributeError\u001b[0m: 'tuple' object has no attribute 'append'"
          ]
        }
      ],
      "source": [
        "# create a tuple and add element using append\n",
        "\n",
        "words = ('this', 'that', 'is', 'there')\n",
        "words.append('hi')\n",
        "words"
      ]
    },
    {
      "cell_type": "code",
      "execution_count": null,
      "metadata": {
        "id": "Zx3V9CVslDQj",
        "outputId": "8191e226-a9be-4055-883e-23acfac48ff9"
      },
      "outputs": [
        {
          "ename": "AttributeError",
          "evalue": "'tuple' object has no attribute 'remove'",
          "output_type": "error",
          "traceback": [
            "\u001b[1;31m---------------------------------------------------------------------------\u001b[0m",
            "\u001b[1;31mAttributeError\u001b[0m                            Traceback (most recent call last)",
            "\u001b[1;32m<ipython-input-71-1fa4679d82ae>\u001b[0m in \u001b[0;36m<module>\u001b[1;34m\u001b[0m\n\u001b[0;32m      1\u001b[0m \u001b[1;31m# create a tuple\u001b[0m\u001b[1;33m\u001b[0m\u001b[1;33m\u001b[0m\u001b[1;33m\u001b[0m\u001b[0m\n\u001b[0;32m      2\u001b[0m \u001b[0mwords\u001b[0m \u001b[1;33m=\u001b[0m \u001b[1;33m(\u001b[0m\u001b[1;34m'this'\u001b[0m\u001b[1;33m,\u001b[0m \u001b[1;34m'that'\u001b[0m\u001b[1;33m,\u001b[0m \u001b[1;34m'is'\u001b[0m\u001b[1;33m,\u001b[0m \u001b[1;34m'there'\u001b[0m\u001b[1;33m)\u001b[0m\u001b[1;33m\u001b[0m\u001b[1;33m\u001b[0m\u001b[0m\n\u001b[1;32m----> 3\u001b[1;33m \u001b[0mwords\u001b[0m\u001b[1;33m.\u001b[0m\u001b[0mremove\u001b[0m\u001b[1;33m(\u001b[0m\u001b[1;34m'this'\u001b[0m\u001b[1;33m)\u001b[0m\u001b[1;33m\u001b[0m\u001b[1;33m\u001b[0m\u001b[0m\n\u001b[0m\u001b[0;32m      4\u001b[0m \u001b[0mwords\u001b[0m\u001b[1;33m\u001b[0m\u001b[1;33m\u001b[0m\u001b[0m\n",
            "\u001b[1;31mAttributeError\u001b[0m: 'tuple' object has no attribute 'remove'"
          ]
        }
      ],
      "source": [
        "# create a tuple and try to remove using remove method\n",
        "\n",
        "words = ('this', 'that', 'is', 'there')\n",
        "words.remove('this')\n",
        "words"
      ]
    },
    {
      "cell_type": "markdown",
      "metadata": {
        "id": "HwQTmgG3lDQj"
      },
      "source": [
        "# Deleting A Tuple\n",
        "\n",
        "Being an immutable data type, a tuple in python does not allow any changes and you cannot even remove an element from a tuple after the declaration. But there is a keyword ‘del’ which will delete the tuple altogether."
      ]
    },
    {
      "cell_type": "code",
      "execution_count": null,
      "metadata": {
        "id": "W2xYnzVjlDQj",
        "outputId": "95e05285-3baf-4198-965e-a3f32b665900"
      },
      "outputs": [
        {
          "data": {
            "text/plain": [
              "('this', 'that', 'is', 'there')"
            ]
          },
          "execution_count": 145,
          "metadata": {},
          "output_type": "execute_result"
        }
      ],
      "source": [
        "# create a tuple\n",
        "words = ('this', 'that', 'is', 'there')\n",
        "words"
      ]
    },
    {
      "cell_type": "code",
      "execution_count": null,
      "metadata": {
        "id": "ugLs8uN3lDQk",
        "outputId": "31fafef4-8f36-4341-c4d0-b571d32faf64"
      },
      "outputs": [
        {
          "ename": "NameError",
          "evalue": "name 'words' is not defined",
          "output_type": "error",
          "traceback": [
            "\u001b[1;31m---------------------------------------------------------------------------\u001b[0m",
            "\u001b[1;31mNameError\u001b[0m                                 Traceback (most recent call last)",
            "\u001b[1;32m<ipython-input-146-5093d0f5501c>\u001b[0m in \u001b[0;36m<module>\u001b[1;34m\u001b[0m\n\u001b[0;32m      2\u001b[0m \u001b[1;32mdel\u001b[0m \u001b[0mwords\u001b[0m\u001b[1;33m\u001b[0m\u001b[1;33m\u001b[0m\u001b[0m\n\u001b[0;32m      3\u001b[0m \u001b[1;33m\u001b[0m\u001b[0m\n\u001b[1;32m----> 4\u001b[1;33m \u001b[0mwords\u001b[0m\u001b[1;33m\u001b[0m\u001b[1;33m\u001b[0m\u001b[0m\n\u001b[0m",
            "\u001b[1;31mNameError\u001b[0m: name 'words' is not defined"
          ]
        }
      ],
      "source": [
        "# delete tuple\n",
        "del words\n",
        "\n",
        "words"
      ]
    },
    {
      "cell_type": "markdown",
      "metadata": {
        "id": "CoghsOp3lDQk"
      },
      "source": [
        "# Deleting a Tuple"
      ]
    },
    {
      "cell_type": "code",
      "execution_count": null,
      "metadata": {
        "id": "z5oaA4H8lDQk",
        "outputId": "e12bf444-a5d4-4aae-d0c5-6f41c1919bab"
      },
      "outputs": [
        {
          "ename": "NameError",
          "evalue": "name 'tuple3' is not defined",
          "output_type": "error",
          "traceback": [
            "\u001b[1;31m---------------------------------------------------------------------------\u001b[0m",
            "\u001b[1;31mNameError\u001b[0m                                 Traceback (most recent call last)",
            "\u001b[1;32m<ipython-input-52-fadfcf68b3b8>\u001b[0m in \u001b[0;36m<module>\u001b[1;34m\u001b[0m\n\u001b[0;32m      3\u001b[0m \u001b[0mtuple3\u001b[0m \u001b[1;33m=\u001b[0m \u001b[1;33m(\u001b[0m \u001b[1;36m0\u001b[0m\u001b[1;33m,\u001b[0m \u001b[1;36m1\u001b[0m\u001b[1;33m)\u001b[0m\u001b[1;33m\u001b[0m\u001b[1;33m\u001b[0m\u001b[0m\n\u001b[0;32m      4\u001b[0m \u001b[1;32mdel\u001b[0m \u001b[0mtuple3\u001b[0m\u001b[1;33m\u001b[0m\u001b[1;33m\u001b[0m\u001b[0m\n\u001b[1;32m----> 5\u001b[1;33m \u001b[0mprint\u001b[0m\u001b[1;33m(\u001b[0m\u001b[0mtuple3\u001b[0m\u001b[1;33m)\u001b[0m\u001b[1;33m\u001b[0m\u001b[1;33m\u001b[0m\u001b[0m\n\u001b[0m",
            "\u001b[1;31mNameError\u001b[0m: name 'tuple3' is not defined"
          ]
        }
      ],
      "source": [
        "# Code for deleting a tuple\n",
        "\n",
        "tuple3 = ( 0, 1)\n",
        "del tuple3\n",
        "print(tuple3)\n"
      ]
    },
    {
      "cell_type": "markdown",
      "metadata": {
        "id": "INjSW2i2lDQk"
      },
      "source": [
        "# Converting list to a Tuple"
      ]
    },
    {
      "cell_type": "code",
      "execution_count": null,
      "metadata": {
        "id": "NUCulyCqlDQl",
        "outputId": "e639d30e-7846-4338-cce5-c32331d173cc"
      },
      "outputs": [
        {
          "name": "stdout",
          "output_type": "stream",
          "text": [
            "(0, 1, 2)\n",
            "('p', 'y', 't', 'h', 'o', 'n')\n"
          ]
        }
      ],
      "source": [
        "# Code for converting a list and a string into a tuple\n",
        "\n",
        "list1 = [0, 1, 2]\n",
        "print(tuple(list1))\n",
        "print(tuple('python')) # string 'python'\n"
      ]
    },
    {
      "cell_type": "markdown",
      "metadata": {
        "id": "ILRnO07jlDQl"
      },
      "source": [
        "# Updating Tuples"
      ]
    },
    {
      "cell_type": "raw",
      "metadata": {
        "id": "wfMil8YQlDQl"
      },
      "source": [
        "Tuples are immutable which means you cannot update or change the values of tuple elements. You are able to take portions of existing tuples to create new tuples as the following example demonstrates −"
      ]
    },
    {
      "cell_type": "code",
      "execution_count": null,
      "metadata": {
        "id": "PBJPoqZdlDQl",
        "outputId": "60bb18f0-cea5-46ba-8815-efb99c1c3139"
      },
      "outputs": [
        {
          "ename": "TypeError",
          "evalue": "'tuple' object does not support item assignment",
          "output_type": "error",
          "traceback": [
            "\u001b[1;31m---------------------------------------------------------------------------\u001b[0m",
            "\u001b[1;31mTypeError\u001b[0m                                 Traceback (most recent call last)",
            "\u001b[1;32m<ipython-input-55-dc45bed8bb1c>\u001b[0m in \u001b[0;36m<module>\u001b[1;34m\u001b[0m\n\u001b[0;32m      3\u001b[0m \u001b[1;33m\u001b[0m\u001b[0m\n\u001b[0;32m      4\u001b[0m \u001b[1;31m# Following action is not valid for tuples\u001b[0m\u001b[1;33m\u001b[0m\u001b[1;33m\u001b[0m\u001b[1;33m\u001b[0m\u001b[0m\n\u001b[1;32m----> 5\u001b[1;33m \u001b[0mtup1\u001b[0m\u001b[1;33m[\u001b[0m\u001b[1;36m0\u001b[0m\u001b[1;33m]\u001b[0m \u001b[1;33m=\u001b[0m \u001b[1;36m100\u001b[0m\u001b[1;33m;\u001b[0m\u001b[1;33m\u001b[0m\u001b[1;33m\u001b[0m\u001b[0m\n\u001b[0m\u001b[0;32m      6\u001b[0m \u001b[1;33m\u001b[0m\u001b[0m\n\u001b[0;32m      7\u001b[0m \u001b[1;31m# So let's create a new tuple as follows\u001b[0m\u001b[1;33m\u001b[0m\u001b[1;33m\u001b[0m\u001b[1;33m\u001b[0m\u001b[0m\n",
            "\u001b[1;31mTypeError\u001b[0m: 'tuple' object does not support item assignment"
          ]
        }
      ],
      "source": [
        "tup1 = (12, 34.56);\n",
        "tup2 = ('abc', 'xyz');\n",
        "\n",
        "# Following action is not valid for tuples\n",
        "tup1[0] = 100;\n",
        "\n",
        "# So let's create a new tuple as follows\n",
        "tup3 = tup1 + tup2;\n",
        "print (tup3);"
      ]
    },
    {
      "cell_type": "markdown",
      "metadata": {
        "id": "9k_rYkUHlDQm"
      },
      "source": [
        "# Maximum and Minimum"
      ]
    },
    {
      "cell_type": "code",
      "execution_count": null,
      "metadata": {
        "id": "7ku3dh1_lDQm",
        "outputId": "16ff6af0-e567-4eb5-ab26-dd3c51f093b1"
      },
      "outputs": [
        {
          "data": {
            "text/plain": [
              "(1, 2, 3, 4, 5, 400, 3, 4, 5, 1, 2, 3, 4, 5, 6, 2, 3, 4, 2, 3, 3, 3, 3)"
            ]
          },
          "execution_count": 151,
          "metadata": {},
          "output_type": "execute_result"
        }
      ],
      "source": [
        "tuple1=(1,2,3,4,5,400,3,4,5,1,2,3,4,5,6,2,3,4,2,3,3,3,3)\n",
        "tuple1"
      ]
    },
    {
      "cell_type": "code",
      "execution_count": null,
      "metadata": {
        "id": "UGRpLX9OlDQn",
        "outputId": "3b181a13-3d51-4b34-a80d-0377449d863e"
      },
      "outputs": [
        {
          "data": {
            "text/plain": [
              "1"
            ]
          },
          "execution_count": 60,
          "metadata": {},
          "output_type": "execute_result"
        }
      ],
      "source": [
        "min(tuple1)"
      ]
    },
    {
      "cell_type": "code",
      "execution_count": null,
      "metadata": {
        "id": "0QYZNWhnlDQn",
        "outputId": "71812f47-8843-4cea-ba0f-f7364d137dfe"
      },
      "outputs": [
        {
          "data": {
            "text/plain": [
              "400"
            ]
          },
          "execution_count": 61,
          "metadata": {},
          "output_type": "execute_result"
        }
      ],
      "source": [
        "max(tuple1)"
      ]
    },
    {
      "cell_type": "code",
      "execution_count": null,
      "metadata": {
        "id": "oZ8S0hgjlDQn",
        "outputId": "23c9dd5c-b9f1-4b88-8e87-209ba88245d3"
      },
      "outputs": [
        {
          "data": {
            "text/plain": [
              "415"
            ]
          },
          "execution_count": 65,
          "metadata": {},
          "output_type": "execute_result"
        }
      ],
      "source": [
        "sum(tuple1)"
      ]
    },
    {
      "cell_type": "markdown",
      "metadata": {
        "id": "QZoBWuAHlDQo"
      },
      "source": [
        "# How to Check for an Item Existing in Tuple\n",
        "\n",
        "We can check to see if a particular item exists in a tuple. The example below shows how it can be done."
      ]
    },
    {
      "cell_type": "markdown",
      "metadata": {
        "id": "-uVmisB3lDQo"
      },
      "source": [
        "# Membership"
      ]
    },
    {
      "cell_type": "raw",
      "metadata": {
        "id": "fLEWHYASlDQp"
      },
      "source": [
        "1. Using the membership operator ‘in’ in python we can check whether an element is present in a tuple or not. \n",
        "\n",
        "2. The following example shows how we can check if an element is present in a tuple or not."
      ]
    },
    {
      "cell_type": "raw",
      "metadata": {
        "id": "AoGQLis8lDQp"
      },
      "source": [
        "It returns true if a particular item exists in the tuple otherwise false"
      ]
    },
    {
      "cell_type": "code",
      "execution_count": null,
      "metadata": {
        "id": "zbikv7WMlDQp",
        "outputId": "a2cc116e-df93-44b4-ea8a-4c430d6c9e1f"
      },
      "outputs": [
        {
          "data": {
            "text/plain": [
              "True"
            ]
          },
          "execution_count": 63,
          "metadata": {},
          "output_type": "execute_result"
        }
      ],
      "source": [
        "3 in (1, 2, 3)\n"
      ]
    },
    {
      "cell_type": "code",
      "execution_count": null,
      "metadata": {
        "id": "jrRfGkdhlDQw",
        "outputId": "fc4f8823-a83d-4b8b-9397-43966bae1e5b"
      },
      "outputs": [
        {
          "name": "stdout",
          "output_type": "stream",
          "text": [
            "True\n",
            "False\n"
          ]
        }
      ],
      "source": [
        "a = (1,2,3,4,5,6,7,8,9,10)\n",
        " \n",
        "print(6 in a)\n",
        " \n",
        "print(15 in a )\n"
      ]
    },
    {
      "cell_type": "markdown",
      "metadata": {
        "id": "HJinF2cllDQz"
      },
      "source": [
        "# Count: Returns the count of the items.\n",
        "\n"
      ]
    },
    {
      "cell_type": "code",
      "execution_count": null,
      "metadata": {
        "id": "nM6lhRlNlDQz",
        "outputId": "25142113-c05d-4f3f-c12a-b8a6e5d7b3df"
      },
      "outputs": [
        {
          "name": "stdout",
          "output_type": "stream",
          "text": [
            "7\n"
          ]
        }
      ],
      "source": [
        "a = (1,2,1,3,1,3,1,2,1,4,1,5,1,5)\n",
        "print(a.count(1))\n"
      ]
    },
    {
      "cell_type": "markdown",
      "metadata": {
        "id": "ErHyiaWRlDQ0"
      },
      "source": [
        "# Index: It returns the index of the item specified."
      ]
    },
    {
      "cell_type": "code",
      "execution_count": null,
      "metadata": {
        "id": "kL__-JGvlDQ0",
        "outputId": "785adfe8-e63f-4a78-a222-b44a4541e895"
      },
      "outputs": [
        {
          "name": "stdout",
          "output_type": "stream",
          "text": [
            "11\n"
          ]
        }
      ],
      "source": [
        "print(a.index(5))"
      ]
    },
    {
      "cell_type": "raw",
      "metadata": {
        "id": "acaqBndglDQ1"
      },
      "source": [
        "Difference Between List and Tuples \n",
        "\n",
        "\n",
        "1. List is Mutable and tuple is immutable\n",
        "\n",
        "2. List is declared in square bracket and tuple is in paranthesis\n",
        "\n",
        "3. List is Changeable and Tuple is not Changeable\n",
        "\n",
        "4. List we can add /Remove the Data and in Tuple only we can delete \n",
        "\n",
        "5. Array is collection of Homogeneous and List is Colelction of Homogeneous/Heterogenous "
      ]
    },
    {
      "cell_type": "code",
      "execution_count": null,
      "metadata": {
        "id": "z7iaAFyRlDQ1"
      },
      "outputs": [],
      "source": [
        ""
      ]
    },
    {
      "cell_type": "code",
      "execution_count": null,
      "metadata": {
        "id": "Qu_Dq6gRlDQ1"
      },
      "outputs": [],
      "source": [
        ""
      ]
    },
    {
      "cell_type": "code",
      "execution_count": null,
      "metadata": {
        "id": "pNCmMkrvlDQ2"
      },
      "outputs": [],
      "source": [
        ""
      ]
    },
    {
      "cell_type": "code",
      "execution_count": null,
      "metadata": {
        "id": "ysZx0NBplDQ2"
      },
      "outputs": [],
      "source": [
        ""
      ]
    },
    {
      "cell_type": "code",
      "execution_count": null,
      "metadata": {
        "id": "Rck0-ibwlDQ2"
      },
      "outputs": [],
      "source": [
        ""
      ]
    },
    {
      "cell_type": "code",
      "execution_count": null,
      "metadata": {
        "id": "LvZI_fD5lDQ3"
      },
      "outputs": [],
      "source": [
        ""
      ]
    },
    {
      "cell_type": "code",
      "execution_count": null,
      "metadata": {
        "id": "nVm4Ro54lDQ3"
      },
      "outputs": [],
      "source": [
        ""
      ]
    }
  ],
  "metadata": {
    "kernelspec": {
      "display_name": "Python 3",
      "language": "python",
      "name": "python3"
    },
    "language_info": {
      "codemirror_mode": {
        "name": "ipython",
        "version": 3
      },
      "file_extension": ".py",
      "mimetype": "text/x-python",
      "name": "python",
      "nbconvert_exporter": "python",
      "pygments_lexer": "ipython3",
      "version": "3.8.5"
    },
    "colab": {
      "name": "Python Data Types - Tuples.ipynb",
      "provenance": [],
      "toc_visible": true,
      "include_colab_link": true
    }
  },
  "nbformat": 4,
  "nbformat_minor": 0
}